{
 "cells": [
  {
   "cell_type": "code",
   "execution_count": 1,
   "metadata": {},
   "outputs": [],
   "source": [
    "import imutils\n",
    "import cv2\n",
    "import numpy as np\n",
    "import os\n",
    "from matplotlib import pyplot as plt\n",
    "import time\n",
    "import mediapipe as mp\n",
    "from tqdm import tqdm"
   ]
  },
  {
   "cell_type": "code",
   "execution_count": 2,
   "metadata": {},
   "outputs": [],
   "source": [
    "mp_holistic = mp.solutions.holistic #Holistic model\n",
    "mp_drawing = mp.solutions.drawing_utils # Drawing utilities"
   ]
  },
  {
   "cell_type": "code",
   "execution_count": 3,
   "metadata": {},
   "outputs": [],
   "source": [
    "def mediapipe_detection(image, model):\n",
    "    image = cv2.cvtColor(image, cv2.COLOR_BGR2RGB)  # COLOR CONVERSION BGR 2 RGB\n",
    "    image.flags.writeable = False                   # Image is no longer writeable\n",
    "    results = model.process(image)                  # Make prediction\n",
    "    image.flags.writeable = True                    # Image is now writeable\n",
    "    image = cv2.cvtColor(image, cv2.COLOR_RGB2BGR)  # COLOR CONVERSION RGB 2 BGR\n",
    "    return image, results"
   ]
  },
  {
   "cell_type": "code",
   "execution_count": 4,
   "metadata": {},
   "outputs": [],
   "source": [
    "def draw_landmarks(image, results):\n",
    "    mp_drawing.draw_landmarks(image, results.face_landmarks, mp_holistic.FACE_CONNECTIONS) # Draw face connections\n",
    "    mp_drawing.draw_landmarks(image, results.pose_landmarks, mp_holistic.POSE_CONNECTIONS) # Draw pose connections\n",
    "    mp_drawing.draw_landmarks(image, results.left_hand_landmarks, mp_holistic.HAND_CONNECTIONS) # Draw left hand connections\n",
    "    mp_drawing.draw_landmarks(image, results.right_hand_landmarks, mp_holistic.HAND_CONNECTIONS)"
   ]
  },
  {
   "cell_type": "code",
   "execution_count": 5,
   "metadata": {
    "scrolled": true
   },
   "outputs": [
    {
     "data": {
      "text/plain": [
       "frozenset({(<PoseLandmark.NOSE: 0>, <PoseLandmark.LEFT_EYE_INNER: 1>),\n",
       "           (<PoseLandmark.NOSE: 0>, <PoseLandmark.RIGHT_EYE_INNER: 4>),\n",
       "           (<PoseLandmark.LEFT_EYE_INNER: 1>, <PoseLandmark.LEFT_EYE: 2>),\n",
       "           (<PoseLandmark.LEFT_EYE: 2>, <PoseLandmark.LEFT_EYE_OUTER: 3>),\n",
       "           (<PoseLandmark.LEFT_EYE_OUTER: 3>, <PoseLandmark.LEFT_EAR: 7>),\n",
       "           (<PoseLandmark.RIGHT_EYE_INNER: 4>, <PoseLandmark.RIGHT_EYE: 5>),\n",
       "           (<PoseLandmark.RIGHT_EYE: 5>, <PoseLandmark.RIGHT_EYE_OUTER: 6>),\n",
       "           (<PoseLandmark.RIGHT_EYE_OUTER: 6>, <PoseLandmark.RIGHT_EAR: 8>),\n",
       "           (<PoseLandmark.MOUTH_RIGHT: 10>, <PoseLandmark.MOUTH_LEFT: 9>),\n",
       "           (<PoseLandmark.LEFT_SHOULDER: 11>, <PoseLandmark.LEFT_ELBOW: 13>),\n",
       "           (<PoseLandmark.LEFT_SHOULDER: 11>, <PoseLandmark.LEFT_HIP: 23>),\n",
       "           (<PoseLandmark.RIGHT_SHOULDER: 12>,\n",
       "            <PoseLandmark.LEFT_SHOULDER: 11>),\n",
       "           (<PoseLandmark.RIGHT_SHOULDER: 12>, <PoseLandmark.RIGHT_ELBOW: 14>),\n",
       "           (<PoseLandmark.RIGHT_SHOULDER: 12>, <PoseLandmark.RIGHT_HIP: 24>),\n",
       "           (<PoseLandmark.LEFT_ELBOW: 13>, <PoseLandmark.LEFT_WRIST: 15>),\n",
       "           (<PoseLandmark.RIGHT_ELBOW: 14>, <PoseLandmark.RIGHT_WRIST: 16>),\n",
       "           (<PoseLandmark.LEFT_WRIST: 15>, <PoseLandmark.LEFT_PINKY: 17>),\n",
       "           (<PoseLandmark.LEFT_WRIST: 15>, <PoseLandmark.LEFT_INDEX: 19>),\n",
       "           (<PoseLandmark.LEFT_WRIST: 15>, <PoseLandmark.LEFT_THUMB: 21>),\n",
       "           (<PoseLandmark.RIGHT_WRIST: 16>, <PoseLandmark.RIGHT_PINKY: 18>),\n",
       "           (<PoseLandmark.RIGHT_WRIST: 16>, <PoseLandmark.RIGHT_INDEX: 20>),\n",
       "           (<PoseLandmark.RIGHT_WRIST: 16>, <PoseLandmark.RIGHT_THUMB: 22>),\n",
       "           (<PoseLandmark.LEFT_PINKY: 17>, <PoseLandmark.LEFT_INDEX: 19>),\n",
       "           (<PoseLandmark.RIGHT_PINKY: 18>, <PoseLandmark.RIGHT_INDEX: 20>),\n",
       "           (<PoseLandmark.LEFT_HIP: 23>, <PoseLandmark.LEFT_KNEE: 25>),\n",
       "           (<PoseLandmark.RIGHT_HIP: 24>, <PoseLandmark.LEFT_HIP: 23>),\n",
       "           (<PoseLandmark.RIGHT_HIP: 24>, <PoseLandmark.RIGHT_KNEE: 26>),\n",
       "           (<PoseLandmark.LEFT_KNEE: 25>, <PoseLandmark.LEFT_ANKLE: 27>),\n",
       "           (<PoseLandmark.RIGHT_KNEE: 26>, <PoseLandmark.RIGHT_ANKLE: 28>),\n",
       "           (<PoseLandmark.LEFT_ANKLE: 27>, <PoseLandmark.LEFT_HEEL: 29>),\n",
       "           (<PoseLandmark.LEFT_ANKLE: 27>, <PoseLandmark.LEFT_FOOT_INDEX: 31>),\n",
       "           (<PoseLandmark.RIGHT_ANKLE: 28>, <PoseLandmark.RIGHT_HEEL: 30>),\n",
       "           (<PoseLandmark.RIGHT_ANKLE: 28>,\n",
       "            <PoseLandmark.RIGHT_FOOT_INDEX: 32>),\n",
       "           (<PoseLandmark.LEFT_HEEL: 29>, <PoseLandmark.LEFT_FOOT_INDEX: 31>),\n",
       "           (<PoseLandmark.RIGHT_HEEL: 30>,\n",
       "            <PoseLandmark.RIGHT_FOOT_INDEX: 32>)})"
      ]
     },
     "execution_count": 5,
     "metadata": {},
     "output_type": "execute_result"
    }
   ],
   "source": [
    "mp_holistic.POSE_CONNECTIONS"
   ]
  },
  {
   "cell_type": "code",
   "execution_count": 6,
   "metadata": {},
   "outputs": [],
   "source": [
    "def draw_styled_landmarks(image, results):\n",
    "    mp_drawing.draw_landmarks(image, results.face_landmarks, mp_holistic.FACE_CONNECTIONS,\n",
    "                             mp_drawing.DrawingSpec(color=(80,110,10), thickness=1,circle_radius=1),\n",
    "                             mp_drawing.DrawingSpec(color=(80,265,121), thickness=1,circle_radius=1)\n",
    "                             ) # Draw face connections\n",
    "    mp_drawing.draw_landmarks(image, results.pose_landmarks, mp_holistic.POSE_CONNECTIONS,\n",
    "                             mp_drawing.DrawingSpec(color=(80,22,10), thickness=2,circle_radius=4),\n",
    "                             mp_drawing.DrawingSpec(color=(80,44,121), thickness=2,circle_radius=2)) # Draw pose connections\n",
    "    mp_drawing.draw_landmarks(image, results.left_hand_landmarks, mp_holistic.HAND_CONNECTIONS,\n",
    "                             mp_drawing.DrawingSpec(color=(121,22,76), thickness=2,circle_radius=4),\n",
    "                             mp_drawing.DrawingSpec(color=(121,44,250), thickness=2,circle_radius=2)) # Draw left hand connections\n",
    "    mp_drawing.draw_landmarks(image, results.right_hand_landmarks, mp_holistic.HAND_CONNECTIONS,\n",
    "                             mp_drawing.DrawingSpec(color=(245,117,6), thickness=2,circle_radius=4),\n",
    "                             mp_drawing.DrawingSpec(color=(245,66,230), thickness=2,circle_radius=2))"
   ]
  },
  {
   "cell_type": "code",
   "execution_count": 10,
   "metadata": {
    "scrolled": true
   },
   "outputs": [
    {
     "name": "stdout",
     "output_type": "stream",
     "text": [
      "<class 'mediapipe.python.solution_base.SolutionOutputs'>\n",
      "<class 'mediapipe.python.solution_base.SolutionOutputs'>\n",
      "<class 'mediapipe.python.solution_base.SolutionOutputs'>\n",
      "<class 'mediapipe.python.solution_base.SolutionOutputs'>\n",
      "<class 'mediapipe.python.solution_base.SolutionOutputs'>\n",
      "<class 'mediapipe.python.solution_base.SolutionOutputs'>\n",
      "<class 'mediapipe.python.solution_base.SolutionOutputs'>\n",
      "<class 'mediapipe.python.solution_base.SolutionOutputs'>\n",
      "<class 'mediapipe.python.solution_base.SolutionOutputs'>\n",
      "<class 'mediapipe.python.solution_base.SolutionOutputs'>\n",
      "<class 'mediapipe.python.solution_base.SolutionOutputs'>\n",
      "<class 'mediapipe.python.solution_base.SolutionOutputs'>\n",
      "<class 'mediapipe.python.solution_base.SolutionOutputs'>\n",
      "<class 'mediapipe.python.solution_base.SolutionOutputs'>\n",
      "<class 'mediapipe.python.solution_base.SolutionOutputs'>\n",
      "<class 'mediapipe.python.solution_base.SolutionOutputs'>\n",
      "<class 'mediapipe.python.solution_base.SolutionOutputs'>\n",
      "<class 'mediapipe.python.solution_base.SolutionOutputs'>\n",
      "<class 'mediapipe.python.solution_base.SolutionOutputs'>\n",
      "<class 'mediapipe.python.solution_base.SolutionOutputs'>\n",
      "<class 'mediapipe.python.solution_base.SolutionOutputs'>\n",
      "<class 'mediapipe.python.solution_base.SolutionOutputs'>\n",
      "<class 'mediapipe.python.solution_base.SolutionOutputs'>\n",
      "<class 'mediapipe.python.solution_base.SolutionOutputs'>\n",
      "<class 'mediapipe.python.solution_base.SolutionOutputs'>\n",
      "<class 'mediapipe.python.solution_base.SolutionOutputs'>\n",
      "<class 'mediapipe.python.solution_base.SolutionOutputs'>\n",
      "<class 'mediapipe.python.solution_base.SolutionOutputs'>\n",
      "<class 'mediapipe.python.solution_base.SolutionOutputs'>\n",
      "<class 'mediapipe.python.solution_base.SolutionOutputs'>\n",
      "<class 'mediapipe.python.solution_base.SolutionOutputs'>\n",
      "<class 'mediapipe.python.solution_base.SolutionOutputs'>\n",
      "<class 'mediapipe.python.solution_base.SolutionOutputs'>\n",
      "<class 'mediapipe.python.solution_base.SolutionOutputs'>\n",
      "<class 'mediapipe.python.solution_base.SolutionOutputs'>\n",
      "<class 'mediapipe.python.solution_base.SolutionOutputs'>\n",
      "<class 'mediapipe.python.solution_base.SolutionOutputs'>\n",
      "<class 'mediapipe.python.solution_base.SolutionOutputs'>\n",
      "<class 'mediapipe.python.solution_base.SolutionOutputs'>\n",
      "<class 'mediapipe.python.solution_base.SolutionOutputs'>\n",
      "<class 'mediapipe.python.solution_base.SolutionOutputs'>\n",
      "<class 'mediapipe.python.solution_base.SolutionOutputs'>\n",
      "<class 'mediapipe.python.solution_base.SolutionOutputs'>\n",
      "<class 'mediapipe.python.solution_base.SolutionOutputs'>\n",
      "<class 'mediapipe.python.solution_base.SolutionOutputs'>\n",
      "<class 'mediapipe.python.solution_base.SolutionOutputs'>\n",
      "<class 'mediapipe.python.solution_base.SolutionOutputs'>\n",
      "<class 'mediapipe.python.solution_base.SolutionOutputs'>\n",
      "<class 'mediapipe.python.solution_base.SolutionOutputs'>\n",
      "<class 'mediapipe.python.solution_base.SolutionOutputs'>\n",
      "<class 'mediapipe.python.solution_base.SolutionOutputs'>\n",
      "<class 'mediapipe.python.solution_base.SolutionOutputs'>\n",
      "<class 'mediapipe.python.solution_base.SolutionOutputs'>\n",
      "<class 'mediapipe.python.solution_base.SolutionOutputs'>\n",
      "<class 'mediapipe.python.solution_base.SolutionOutputs'>\n",
      "<class 'mediapipe.python.solution_base.SolutionOutputs'>\n",
      "<class 'mediapipe.python.solution_base.SolutionOutputs'>\n",
      "<class 'mediapipe.python.solution_base.SolutionOutputs'>\n",
      "<class 'mediapipe.python.solution_base.SolutionOutputs'>\n"
     ]
    }
   ],
   "source": [
    "import cv2\n",
    "#cap = cv2.VideoCapture(0)\n",
    "# for i in range(0,3):\n",
    "#cap = cv2.VideoCapture(\"./img/NIA_SL_WORD2751_REAL01_F.mp4\")\n",
    "cap = cv2.VideoCapture(\"./img/C1.mp4\")\n",
    "# for i in range(0,2,1):\n",
    "#     cap = cv2.VideoCapture(\"./img/KETI_SL_000000000\"+\"{}.avi\".format(i + 2))\n",
    "    \n",
    "# Set mediapipe model\n",
    "with mp_holistic.Holistic(min_detection_confidence=0.5, min_tracking_confidence=0.5) as holistic:\n",
    "    while cap.isOpened():\n",
    "        \n",
    "    \n",
    "        # Read feed        \n",
    "        ret, frame = cap.read()\n",
    "        #frame = imutils.resize(frame, width=1200)\n",
    "        if not ret:\n",
    "            print(\"비디오 읽기 실패 / 비디오 모두 읽음\")\n",
    "            cap.release()   # 비디오 읽기 종료\n",
    "            cv2.destroyAllWindows()  # 새로 연 창을 모두 닫아줌\n",
    "            break\n",
    "        # Make detections(탐지들)\n",
    "        image, results = mediapipe_detection(frame, holistic)\n",
    "        print(results)\n",
    "        \n",
    "        # Draw landmarks\n",
    "        draw_styled_landmarks(image, results)\n",
    "        \n",
    "        # Show to screen\n",
    "        cv2.imshow('OpenCV Feed', image)\n",
    "        \n",
    "        # Break gracefully\n",
    "        if cv2.waitKey(10) & 0xFF == ord('q'):\n",
    "            break\n",
    "    cap.release()\n",
    "    cv2.destroyAllWindows()"
   ]
  },
  {
   "cell_type": "code",
   "execution_count": 11,
   "metadata": {},
   "outputs": [],
   "source": [
    "#    cap.release()\n",
    "#     cv2.destroyAllWindows()"
   ]
  },
  {
   "cell_type": "code",
   "execution_count": 12,
   "metadata": {},
   "outputs": [
    {
     "data": {
      "text/plain": [
       "21"
      ]
     },
     "execution_count": 12,
     "metadata": {},
     "output_type": "execute_result"
    }
   ],
   "source": [
    "#results.left_hand_landmarks.landmark\n",
    "len(results.left_hand_landmarks.landmark)"
   ]
  },
  {
   "cell_type": "code",
   "execution_count": 13,
   "metadata": {},
   "outputs": [],
   "source": [
    "pose = []\n",
    "for res in results.pose_landmarks.landmark:\n",
    "    test = np.array([res.x, res.y, res.z, res.visibility])\n",
    "    pose.append(test)"
   ]
  },
  {
   "cell_type": "code",
   "execution_count": 14,
   "metadata": {},
   "outputs": [],
   "source": [
    "#test\n",
    "#pose\n",
    "#len(pose)\n",
    "#pose = np.array([[res.x, res.y, res.z, res.visibility(저항)] for res in results.pose_landmarks.landmark])\n",
    "pose = np.array([[res.x, res.y, res.z, res.visibility] for res in results.pose_landmarks.landmark]).flatten() if results.pose_landmarks else np.zeros(132)\n",
    "face = np.array([[res.x, res.y, res.z] for res in results.face_landmarks.landmark]).flatten() if results.face_landmarks else np.zeros(1404)                                                                                                   # 학습시킬려고 flatten으로 쫙 펴줌\n",
    "lh = np.array([[res.x, res.y, res.z] for res in results.left_hand_landmarks.landmark]).flatten() if results.left_hand_landmarks else np.zeros(21*3)\n",
    "rh = np.array([[res.x, res.y, res.z] for res in results.right_hand_landmarks.landmark]).flatten() if results.right_hand_landmarks else np.zeros(21*3)"
   ]
  },
  {
   "cell_type": "code",
   "execution_count": 15,
   "metadata": {},
   "outputs": [],
   "source": [
    "def extract_keypoints(results):\n",
    "   pose = np.array([[res.x, res.y, res.z, res.visibility] for res in results.pose_landmarks.landmark]).flatten() if results.pose_landmarks else np.zeros(33*4)\n",
    "   face = np.array([[res.x, res.y, res.z] for res in results.face_landmarks.landmark]).flatten() if results.face_landmarks else np.zeros(468*3)                                                                                                   # 학습시킬려고 flatten으로 쫙 펴줌\n",
    "   lh = np.array([[res.x, res.y, res.z] for res in results.left_hand_landmarks.landmark]).flatten() if results.left_hand_landmarks else np.zeros(21*3)\n",
    "   rh = np.array([[res.x, res.y, res.z] for res in results.right_hand_landmarks.landmark]).flatten() if results.right_hand_landmarks else np.zeros(21*3) \n",
    "   return np.concatenate([pose, face, lh, rh])"
   ]
  },
  {
   "cell_type": "code",
   "execution_count": 16,
   "metadata": {},
   "outputs": [
    {
     "data": {
      "text/plain": [
       "1404"
      ]
     },
     "execution_count": 16,
     "metadata": {},
     "output_type": "execute_result"
    }
   ],
   "source": [
    "len(results.face_landmarks.landmark) * 3"
   ]
  },
  {
   "cell_type": "code",
   "execution_count": 17,
   "metadata": {
    "scrolled": true
   },
   "outputs": [
    {
     "data": {
      "text/plain": [
       "array([ 5.83143115e-01,  6.29238844e-01, -2.58182445e-05,  5.66562176e-01,\n",
       "        6.05806291e-01,  4.33658669e-03,  5.49372435e-01,  5.95453858e-01,\n",
       "       -1.39358349e-03,  5.34061372e-01,  5.92155993e-01, -5.93127776e-03,\n",
       "        5.23173928e-01,  5.93649924e-01, -1.08652450e-02,  5.54981470e-01,\n",
       "        6.01748884e-01, -3.92497554e-02,  5.30368626e-01,  6.00174248e-01,\n",
       "       -4.83734049e-02,  5.20630896e-01,  6.04530513e-01, -4.39037867e-02,\n",
       "        5.15673518e-01,  6.07067227e-01, -3.79693247e-02,  5.57052076e-01,\n",
       "        6.22166693e-01, -4.29518931e-02,  5.30041695e-01,  6.22513354e-01,\n",
       "       -5.66135459e-02,  5.17416060e-01,  6.25611186e-01, -5.28139248e-02,\n",
       "        5.10521531e-01,  6.28100812e-01, -4.73895818e-02,  5.59739590e-01,\n",
       "        6.41355753e-01, -4.38750461e-02,  5.35988092e-01,  6.43261194e-01,\n",
       "       -5.50028048e-02,  5.23026884e-01,  6.45456553e-01, -5.31619266e-02,\n",
       "        5.14411986e-01,  6.47119224e-01, -5.11966534e-02,  5.62918186e-01,\n",
       "        6.57795429e-01, -4.29263860e-02,  5.46468139e-01,  6.67819440e-01,\n",
       "       -5.26510254e-02,  5.36554635e-01,  6.71597123e-01, -5.66725209e-02,\n",
       "        5.28133750e-01,  6.73614562e-01, -5.91688864e-02])"
      ]
     },
     "execution_count": 17,
     "metadata": {},
     "output_type": "execute_result"
    }
   ],
   "source": [
    "lh"
   ]
  },
  {
   "cell_type": "code",
   "execution_count": 18,
   "metadata": {},
   "outputs": [
    {
     "data": {
      "text/plain": [
       "array([ 0.49836352,  0.26704258, -0.01112396, ...,  0.52483344,\n",
       "        0.20699202,  0.00513541])"
      ]
     },
     "execution_count": 18,
     "metadata": {},
     "output_type": "execute_result"
    }
   ],
   "source": [
    "#pose.shape\n",
    "face"
   ]
  },
  {
   "cell_type": "code",
   "execution_count": 19,
   "metadata": {
    "scrolled": true
   },
   "outputs": [
    {
     "data": {
      "text/plain": [
       "array([ 4.34263647e-01,  6.76461041e-01, -2.67358009e-05,  4.41291422e-01,\n",
       "        6.49384797e-01, -2.18114369e-02,  4.52806175e-01,  6.37020826e-01,\n",
       "       -3.68067175e-02,  4.65202600e-01,  6.39760554e-01, -4.32884283e-02,\n",
       "        4.73579854e-01,  6.52741015e-01, -4.87716161e-02,  4.41095740e-01,\n",
       "        6.64543629e-01, -6.92948028e-02,  4.59253103e-01,  6.67843640e-01,\n",
       "       -8.88441280e-02,  4.70203757e-01,  6.66785419e-01, -9.33928788e-02,\n",
       "        4.76266205e-01,  6.68022275e-01, -9.37015414e-02,  4.42954004e-01,\n",
       "        6.88581824e-01, -5.92618920e-02,  4.66315091e-01,  6.92730546e-01,\n",
       "       -7.63213485e-02,  4.77842510e-01,  6.85679853e-01, -7.27370009e-02,\n",
       "        4.83243853e-01,  6.81266129e-01, -7.03046173e-02,  4.46596950e-01,\n",
       "        7.04264879e-01, -4.76823412e-02,  4.68390018e-01,  7.03801692e-01,\n",
       "       -6.02172464e-02,  4.74339575e-01,  6.89740241e-01, -5.05784862e-02,\n",
       "        4.75127488e-01,  6.80582762e-01, -4.36740629e-02,  4.50697601e-01,\n",
       "        7.12537229e-01, -3.72491218e-02,  4.67585742e-01,  7.10659504e-01,\n",
       "       -4.20855321e-02,  4.71996069e-01,  6.98823750e-01, -3.62071544e-02,\n",
       "        4.72381920e-01,  6.90201402e-01, -3.19971777e-02])"
      ]
     },
     "execution_count": 19,
     "metadata": {},
     "output_type": "execute_result"
    }
   ],
   "source": [
    "rh"
   ]
  },
  {
   "cell_type": "code",
   "execution_count": 20,
   "metadata": {},
   "outputs": [
    {
     "data": {
      "text/plain": [
       "(63,)"
      ]
     },
     "execution_count": 20,
     "metadata": {},
     "output_type": "execute_result"
    }
   ],
   "source": [
    "#results.left_hand_landmarks.landmark\n",
    "#lh\n",
    "lh.shape"
   ]
  },
  {
   "cell_type": "code",
   "execution_count": 21,
   "metadata": {},
   "outputs": [
    {
     "data": {
      "text/plain": [
       "(132,)"
      ]
     },
     "execution_count": 21,
     "metadata": {},
     "output_type": "execute_result"
    }
   ],
   "source": [
    "pose.shape"
   ]
  },
  {
   "cell_type": "code",
   "execution_count": 22,
   "metadata": {},
   "outputs": [
    {
     "data": {
      "text/plain": [
       "array([0., 0., 0., 0., 0., 0., 0., 0., 0., 0., 0., 0., 0., 0., 0., 0., 0.,\n",
       "       0., 0., 0., 0., 0., 0., 0., 0., 0., 0., 0., 0., 0., 0., 0., 0., 0.,\n",
       "       0., 0., 0., 0., 0., 0., 0., 0., 0., 0., 0., 0., 0., 0., 0., 0., 0.,\n",
       "       0., 0., 0., 0., 0., 0., 0., 0., 0., 0., 0., 0.])"
      ]
     },
     "execution_count": 22,
     "metadata": {},
     "output_type": "execute_result"
    }
   ],
   "source": [
    "np.zeros(21*3)"
   ]
  },
  {
   "cell_type": "code",
   "execution_count": 23,
   "metadata": {},
   "outputs": [],
   "source": [
    "#extract_keypoints(results).shape\n",
    "result_test = extract_keypoints(results)"
   ]
  },
  {
   "cell_type": "code",
   "execution_count": 24,
   "metadata": {},
   "outputs": [
    {
     "data": {
      "text/plain": [
       "array([ 0.50214785,  0.23726696, -0.2448819 , ...,  0.47238192,\n",
       "        0.6902014 , -0.03199718])"
      ]
     },
     "execution_count": 24,
     "metadata": {},
     "output_type": "execute_result"
    }
   ],
   "source": [
    "result_test"
   ]
  },
  {
   "cell_type": "code",
   "execution_count": 25,
   "metadata": {},
   "outputs": [
    {
     "data": {
      "text/plain": [
       "1662"
      ]
     },
     "execution_count": 25,
     "metadata": {},
     "output_type": "execute_result"
    }
   ],
   "source": [
    "468*3+33*4+21*3+21*3"
   ]
  },
  {
   "cell_type": "code",
   "execution_count": 26,
   "metadata": {},
   "outputs": [],
   "source": [
    "# 딥러닝 파일에 0.npy 파일 생김   test용\n",
    "np.save('0', result_test) "
   ]
  },
  {
   "cell_type": "code",
   "execution_count": 27,
   "metadata": {},
   "outputs": [],
   "source": [
    "# path for exported data, numpy arrays\n",
    "DATA_PATH = os.path.join('MP_Data2')\n",
    "\n",
    "# Actions that we try to detect\n",
    "#actions = np.array(['coco','love','HM'])\n",
    "actions = np.array(['C1','C2','C3','C4','C5','C6','C7','C8','C9','C10','C11','C12','C13',\n",
    "                   'C14','C15','C16','C17','C18','C19','C20'])\n",
    "\n",
    "# Thirty videos worth of data\n",
    "no_sequences =  10#10      #29 , 16, 5\n",
    "\n",
    "# videos are going to be 30 frames in length\n",
    "sequence_length = 50#50    #30, 20, 100"
   ]
  },
  {
   "cell_type": "code",
   "execution_count": 25,
   "metadata": {},
   "outputs": [],
   "source": [
    "# 폴더 세개 생성!! 딥러닝 -> actions 순서대로 생김\n",
    "for action in actions:\n",
    "    for sequence in range(no_sequences):\n",
    "        try:\n",
    "            os.makedirs(os.path.join(DATA_PATH, action, str(sequence)))\n",
    "        except :\n",
    "            pass"
   ]
  },
  {
   "cell_type": "code",
   "execution_count": 26,
   "metadata": {},
   "outputs": [],
   "source": [
    "    \n",
    "#     cap = cv2.VideoCapture(\"C:\\Users\\21SMT41\\Desktop\\deep_ex\\aaaa\\\\NIA_SL_WORD1501_REAL01_\"+num+\".mp4\")\n",
    "    # Set mediapipe model\n",
    "with mp_holistic.Holistic(min_detection_confidence=0.5, min_tracking_confidence=0.5) as holistic:\n",
    "    # New Loop\n",
    "    # Loop through actions\n",
    "    for i in range(0,20):\n",
    "        \n",
    "        #cap = cv2.VideoCapture(\"./img/NIA_SL_WORD175{}_REAL01_F.mp4\".format(i+1))\n",
    "        # Loop through sequences aka videos\n",
    "        #count = 0\n",
    "        for sequence in range(no_sequences):            \n",
    "            #cap = cv2.VideoCapture(\"./img/NIA_SL_WORD275{}_REAL01_F.mp4\".format(i+1))\n",
    "            cap = cv2.VideoCapture(\"./img/C\"+str(i + 1)+\".mp4\")\n",
    "            # Loop through video length aka sequence length\n",
    "            for frame_num in range(sequence_length):                \n",
    " \n",
    "                # read feed\n",
    "                ret, frame = cap.read()\n",
    "                #frame = imutils.resize(frame, width=800)\n",
    "                # Make detections\n",
    "                image, results = mediapipe_detection(frame, holistic)\n",
    "#                 print(results)\n",
    "\n",
    "                # Draw landmarks\n",
    "                draw_styled_landmarks(image, results)\n",
    "\n",
    "                # New Apply wait logic\n",
    "                if frame_num == 0:\n",
    "                    cv2.putText(image, 'STRATING COLLECTION', (120,200),\n",
    "                                cv2.FONT_HERSHEY_SIMPLEX, 1, (0,255,0), 4, cv2.LINE_AA)\n",
    "                    cv2.putText(image, 'Collecting frames for {} Video Number{} f_num{}'.format(actions[i], sequence,frame_num), (15,12),\n",
    "                                cv2.FONT_HERSHEY_SIMPLEX, 0.5, (0,0,255), 1, cv2.LINE_AA)\n",
    "                    # show to screen\n",
    "\n",
    "                    cv2.imshow('OpenCV Feed', image)\n",
    "                    cv2.waitKey(500) # 1000\n",
    "\n",
    "                else : \n",
    "                    cv2.putText(image, 'Collecting frames for {} Video Number{} f_num{}'.format(actions[i], sequence, frame_num), (15,12),\n",
    "                                cv2.FONT_HERSHEY_SIMPLEX, 0.5, (0,0,255), 1, cv2.LINE_AA)\n",
    "                    # show to screen\n",
    "                    cv2.imshow('OpenCV Feed', image)\n",
    "\n",
    "                # NEW Export keypoints\n",
    "                keypoints = extract_keypoints(results)\n",
    "                npy_path = os.path.join(DATA_PATH, actions[i], str(sequence), str(frame_num))\n",
    "                np.save(npy_path, keypoints)\n",
    "                #count = count+1\n",
    "#                 # 중간에 파일이 없어도 끊기지 않게\n",
    "#                 for i in range(0,sequence_length):\n",
    "#                     if os.path.isfile('C:/Users/21SMT37/3차 프젝/MP_Data/3차/8/{}.npy'.format(i)):\n",
    "#                         pass\n",
    "#                     else : \n",
    "#                         continue\n",
    "\n",
    "                # Break gracefully\n",
    "                if cv2.waitKey(10) & 0xFF == ord('q'):\n",
    "                    break\n",
    "#         cap.release()\n",
    "#         cv2.destroyAllWindows()\n",
    "cap.release()\n",
    "cv2.destroyAllWindows()"
   ]
  },
  {
   "cell_type": "code",
   "execution_count": 27,
   "metadata": {},
   "outputs": [],
   "source": [
    "cap.release()\n",
    "cv2.destroyAllWindows()"
   ]
  },
  {
   "cell_type": "code",
   "execution_count": 28,
   "metadata": {},
   "outputs": [],
   "source": [
    "from sklearn.model_selection import train_test_split\n",
    "from tensorflow.keras.utils import to_categorical"
   ]
  },
  {
   "cell_type": "code",
   "execution_count": 29,
   "metadata": {},
   "outputs": [],
   "source": [
    "label_map = {label:num for num, label in enumerate(actions)}"
   ]
  },
  {
   "cell_type": "code",
   "execution_count": 30,
   "metadata": {},
   "outputs": [
    {
     "data": {
      "text/plain": [
       "{'C1': 0,\n",
       " 'C2': 1,\n",
       " 'C3': 2,\n",
       " 'C4': 3,\n",
       " 'C5': 4,\n",
       " 'C6': 5,\n",
       " 'C7': 6,\n",
       " 'C8': 7,\n",
       " 'C9': 8,\n",
       " 'C10': 9,\n",
       " 'C11': 10,\n",
       " 'C12': 11,\n",
       " 'C13': 12,\n",
       " 'C14': 13,\n",
       " 'C15': 14,\n",
       " 'C16': 15,\n",
       " 'C17': 16,\n",
       " 'C18': 17,\n",
       " 'C19': 18,\n",
       " 'C20': 19}"
      ]
     },
     "execution_count": 30,
     "metadata": {},
     "output_type": "execute_result"
    }
   ],
   "source": [
    "label_map"
   ]
  },
  {
   "cell_type": "code",
   "execution_count": 31,
   "metadata": {},
   "outputs": [
    {
     "ename": "NameError",
     "evalue": "name 'frame_num' is not defined",
     "output_type": "error",
     "traceback": [
      "\u001b[1;31m---------------------------------------------------------------------------\u001b[0m",
      "\u001b[1;31mNameError\u001b[0m                                 Traceback (most recent call last)",
      "\u001b[1;32m<ipython-input-31-4bc395d1a7bc>\u001b[0m in \u001b[0;36m<module>\u001b[1;34m\u001b[0m\n\u001b[1;32m----> 1\u001b[1;33m \u001b[0mframe_num\u001b[0m\u001b[1;33m\u001b[0m\u001b[1;33m\u001b[0m\u001b[0m\n\u001b[0m",
      "\u001b[1;31mNameError\u001b[0m: name 'frame_num' is not defined"
     ]
    }
   ],
   "source": [
    "frame_num"
   ]
  },
  {
   "cell_type": "code",
   "execution_count": 32,
   "metadata": {},
   "outputs": [],
   "source": [
    "sequences, labels = [], []\n",
    "for action in actions :\n",
    "    for sequence in range(no_sequences):\n",
    "        window = []\n",
    "        for frame_num in range(sequence_length):\n",
    "            res = np.load(os.path.join(DATA_PATH, action, str(sequence),\"{}.npy\".format(frame_num)))\n",
    "            window.append(res)\n",
    "        sequences.append(window)\n",
    "        labels.append(label_map[action])"
   ]
  },
  {
   "cell_type": "code",
   "execution_count": 33,
   "metadata": {},
   "outputs": [
    {
     "data": {
      "text/plain": [
       "(200, 50, 1662)"
      ]
     },
     "execution_count": 33,
     "metadata": {},
     "output_type": "execute_result"
    }
   ],
   "source": [
    "np.array(sequences).shape"
   ]
  },
  {
   "cell_type": "code",
   "execution_count": 34,
   "metadata": {},
   "outputs": [
    {
     "data": {
      "text/plain": [
       "(200,)"
      ]
     },
     "execution_count": 34,
     "metadata": {},
     "output_type": "execute_result"
    }
   ],
   "source": [
    "np.array(labels).shape"
   ]
  },
  {
   "cell_type": "code",
   "execution_count": 35,
   "metadata": {},
   "outputs": [],
   "source": [
    "X = np.array(sequences)"
   ]
  },
  {
   "cell_type": "code",
   "execution_count": 36,
   "metadata": {},
   "outputs": [
    {
     "data": {
      "text/plain": [
       "(200, 50, 1662)"
      ]
     },
     "execution_count": 36,
     "metadata": {},
     "output_type": "execute_result"
    }
   ],
   "source": [
    "X.shape"
   ]
  },
  {
   "cell_type": "code",
   "execution_count": 37,
   "metadata": {},
   "outputs": [],
   "source": [
    "y = to_categorical(labels).astype(int)"
   ]
  },
  {
   "cell_type": "code",
   "execution_count": 38,
   "metadata": {},
   "outputs": [
    {
     "data": {
      "text/plain": [
       "array([[1, 0, 0, ..., 0, 0, 0],\n",
       "       [1, 0, 0, ..., 0, 0, 0],\n",
       "       [1, 0, 0, ..., 0, 0, 0],\n",
       "       ...,\n",
       "       [0, 0, 0, ..., 0, 0, 1],\n",
       "       [0, 0, 0, ..., 0, 0, 1],\n",
       "       [0, 0, 0, ..., 0, 0, 1]])"
      ]
     },
     "execution_count": 38,
     "metadata": {},
     "output_type": "execute_result"
    }
   ],
   "source": [
    "y"
   ]
  },
  {
   "cell_type": "code",
   "execution_count": 39,
   "metadata": {},
   "outputs": [],
   "source": [
    "X_train, X_test, y_train, y_test = train_test_split(X, y,\n",
    "                                                   test_size=0.25)"
   ]
  },
  {
   "cell_type": "code",
   "execution_count": 40,
   "metadata": {},
   "outputs": [
    {
     "data": {
      "text/plain": [
       "(50, 20)"
      ]
     },
     "execution_count": 40,
     "metadata": {},
     "output_type": "execute_result"
    }
   ],
   "source": [
    "y_test.shape"
   ]
  },
  {
   "cell_type": "code",
   "execution_count": 42,
   "metadata": {},
   "outputs": [],
   "source": [
    "from tensorflow.keras.models import Sequential\n",
    "from tensorflow.keras.layers import LSTM, Dense, SimpleRNN\n",
    "from tensorflow.keras.optimizers import Adam\n",
    "from tensorflow.keras.callbacks import TensorBoard"
   ]
  },
  {
   "cell_type": "code",
   "execution_count": 43,
   "metadata": {},
   "outputs": [],
   "source": [
    "log_dir = os.path.join(\"Logs\")\n",
    "tb_callback = TensorBoard(log_dir=log_dir)"
   ]
  },
  {
   "cell_type": "code",
   "execution_count": 44,
   "metadata": {},
   "outputs": [],
   "source": [
    "md = Sequential()\n",
    "md.add(LSTM(128, return_sequences=True, activation='tanh', input_shape=(50,1662)))\n",
    "md.add(LSTM(64, return_sequences=True, activation='tanh'))\n",
    "md.add(LSTM(32, return_sequences=False, activation='tanh'))\n",
    "md.add(Dense(64, activation='tanh'))\n",
    "md.add(Dense(32, activation='tanh'))\n",
    "md.add(Dense(actions.shape[0], activation='softmax'))"
   ]
  },
  {
   "cell_type": "code",
   "execution_count": 44,
   "metadata": {},
   "outputs": [
    {
     "data": {
      "text/plain": [
       "(200, 50, 1662)"
      ]
     },
     "execution_count": 44,
     "metadata": {},
     "output_type": "execute_result"
    }
   ],
   "source": [
    "X.shape"
   ]
  },
  {
   "cell_type": "code",
   "execution_count": 45,
   "metadata": {},
   "outputs": [
    {
     "data": {
      "text/plain": [
       "20"
      ]
     },
     "execution_count": 45,
     "metadata": {},
     "output_type": "execute_result"
    }
   ],
   "source": [
    "actions.shape[0]"
   ]
  },
  {
   "cell_type": "code",
   "execution_count": 46,
   "metadata": {},
   "outputs": [],
   "source": [
    "res = [.7, 0.2, 0.1]"
   ]
  },
  {
   "cell_type": "code",
   "execution_count": 47,
   "metadata": {},
   "outputs": [
    {
     "data": {
      "text/plain": [
       "'C1'"
      ]
     },
     "execution_count": 47,
     "metadata": {},
     "output_type": "execute_result"
    }
   ],
   "source": [
    "actions[np.argmax(res)]"
   ]
  },
  {
   "cell_type": "code",
   "execution_count": 48,
   "metadata": {},
   "outputs": [
    {
     "data": {
      "text/plain": [
       "((150, 50, 1662), (150, 20))"
      ]
     },
     "execution_count": 48,
     "metadata": {},
     "output_type": "execute_result"
    }
   ],
   "source": [
    "X_train.shape, y_train.shape"
   ]
  },
  {
   "cell_type": "code",
   "execution_count": 49,
   "metadata": {},
   "outputs": [],
   "source": [
    "#Adam(lr=0.0001)\n",
    "md.compile(optimizer=Adam(lr=0.0001), loss='categorical_crossentropy',\n",
    "           metrics=['categorical_accuracy']) # categorical_accuracy"
   ]
  },
  {
   "cell_type": "code",
   "execution_count": 50,
   "metadata": {},
   "outputs": [
    {
     "name": "stdout",
     "output_type": "stream",
     "text": [
      "Epoch 1/500\n",
      "5/5 [==============================] - 4s 235ms/step - loss: 3.0193 - categorical_accuracy: 0.0419\n",
      "Epoch 2/500\n",
      "5/5 [==============================] - 1s 128ms/step - loss: 2.9860 - categorical_accuracy: 0.1168\n",
      "Epoch 3/500\n",
      "5/5 [==============================] - 1s 140ms/step - loss: 2.9705 - categorical_accuracy: 0.1476\n",
      "Epoch 4/500\n",
      "5/5 [==============================] - 1s 140ms/step - loss: 2.9759 - categorical_accuracy: 0.0717\n",
      "Epoch 5/500\n",
      "5/5 [==============================] - 1s 142ms/step - loss: 2.9491 - categorical_accuracy: 0.1961\n",
      "Epoch 6/500\n",
      "5/5 [==============================] - 1s 142ms/step - loss: 2.9254 - categorical_accuracy: 0.1435\n",
      "Epoch 7/500\n",
      "5/5 [==============================] - 1s 148ms/step - loss: 2.8808 - categorical_accuracy: 0.1648\n",
      "Epoch 8/500\n",
      "5/5 [==============================] - 1s 141ms/step - loss: 2.8710 - categorical_accuracy: 0.1793\n",
      "Epoch 9/500\n",
      "5/5 [==============================] - 1s 140ms/step - loss: 2.8468 - categorical_accuracy: 0.1059\n",
      "Epoch 10/500\n",
      "5/5 [==============================] - 1s 147ms/step - loss: 2.7824 - categorical_accuracy: 0.2209\n",
      "Epoch 11/500\n",
      "5/5 [==============================] - 1s 142ms/step - loss: 2.7581 - categorical_accuracy: 0.1862\n",
      "Epoch 12/500\n",
      "5/5 [==============================] - 1s 153ms/step - loss: 2.7355 - categorical_accuracy: 0.1928\n",
      "Epoch 13/500\n",
      "5/5 [==============================] - 1s 143ms/step - loss: 2.7396 - categorical_accuracy: 0.1974\n",
      "Epoch 14/500\n",
      "5/5 [==============================] - 1s 145ms/step - loss: 2.6903 - categorical_accuracy: 0.2901\n",
      "Epoch 15/500\n",
      "5/5 [==============================] - 1s 140ms/step - loss: 2.6923 - categorical_accuracy: 0.2372\n",
      "Epoch 16/500\n",
      "5/5 [==============================] - 1s 129ms/step - loss: 2.6580 - categorical_accuracy: 0.2374\n",
      "Epoch 17/500\n",
      "5/5 [==============================] - 1s 147ms/step - loss: 2.5914 - categorical_accuracy: 0.2084\n",
      "Epoch 18/500\n",
      "5/5 [==============================] - 1s 144ms/step - loss: 2.5493 - categorical_accuracy: 0.3668\n",
      "Epoch 19/500\n",
      "5/5 [==============================] - 1s 132ms/step - loss: 2.5097 - categorical_accuracy: 0.3510\n",
      "Epoch 20/500\n",
      "5/5 [==============================] - 1s 136ms/step - loss: 2.4972 - categorical_accuracy: 0.3577\n",
      "Epoch 21/500\n",
      "5/5 [==============================] - 1s 140ms/step - loss: 2.4150 - categorical_accuracy: 0.4032\n",
      "Epoch 22/500\n",
      "5/5 [==============================] - 1s 134ms/step - loss: 2.4018 - categorical_accuracy: 0.4558\n",
      "Epoch 23/500\n",
      "5/5 [==============================] - 1s 139ms/step - loss: 2.3378 - categorical_accuracy: 0.4257\n",
      "Epoch 24/500\n",
      "5/5 [==============================] - 1s 138ms/step - loss: 2.3782 - categorical_accuracy: 0.3636\n",
      "Epoch 25/500\n",
      "5/5 [==============================] - 1s 137ms/step - loss: 2.3628 - categorical_accuracy: 0.3569\n",
      "Epoch 26/500\n",
      "5/5 [==============================] - 1s 146ms/step - loss: 2.3425 - categorical_accuracy: 0.3576\n",
      "Epoch 27/500\n",
      "5/5 [==============================] - 1s 157ms/step - loss: 2.3029 - categorical_accuracy: 0.4386\n",
      "Epoch 28/500\n",
      "5/5 [==============================] - 1s 165ms/step - loss: 2.3089 - categorical_accuracy: 0.3493\n",
      "Epoch 29/500\n",
      "5/5 [==============================] - 1s 160ms/step - loss: 2.3460 - categorical_accuracy: 0.3107\n",
      "Epoch 30/500\n",
      "5/5 [==============================] - 1s 143ms/step - loss: 2.3111 - categorical_accuracy: 0.4464\n",
      "Epoch 31/500\n",
      "5/5 [==============================] - 1s 145ms/step - loss: 2.1861 - categorical_accuracy: 0.4948\n",
      "Epoch 32/500\n",
      "5/5 [==============================] - 1s 148ms/step - loss: 2.1408 - categorical_accuracy: 0.5864\n",
      "Epoch 33/500\n",
      "5/5 [==============================] - 1s 138ms/step - loss: 2.1033 - categorical_accuracy: 0.5099\n",
      "Epoch 34/500\n",
      "5/5 [==============================] - 1s 147ms/step - loss: 2.0638 - categorical_accuracy: 0.5981\n",
      "Epoch 35/500\n",
      "5/5 [==============================] - 1s 130ms/step - loss: 2.0028 - categorical_accuracy: 0.6057\n",
      "Epoch 36/500\n",
      "5/5 [==============================] - 1s 140ms/step - loss: 2.0475 - categorical_accuracy: 0.6639\n",
      "Epoch 37/500\n",
      "5/5 [==============================] - 1s 139ms/step - loss: 1.9554 - categorical_accuracy: 0.7052\n",
      "Epoch 38/500\n",
      "5/5 [==============================] - 1s 139ms/step - loss: 2.0252 - categorical_accuracy: 0.5074\n",
      "Epoch 39/500\n",
      "5/5 [==============================] - 1s 146ms/step - loss: 1.9649 - categorical_accuracy: 0.6609\n",
      "Epoch 40/500\n",
      "5/5 [==============================] - 1s 152ms/step - loss: 1.9124 - categorical_accuracy: 0.6846\n",
      "Epoch 41/500\n",
      "5/5 [==============================] - 1s 129ms/step - loss: 1.9024 - categorical_accuracy: 0.5389\n",
      "Epoch 42/500\n",
      "5/5 [==============================] - 1s 154ms/step - loss: 1.8867 - categorical_accuracy: 0.6435\n",
      "Epoch 43/500\n",
      "5/5 [==============================] - 1s 146ms/step - loss: 1.9201 - categorical_accuracy: 0.5749\n",
      "Epoch 44/500\n",
      "5/5 [==============================] - 1s 148ms/step - loss: 1.8875 - categorical_accuracy: 0.6748\n",
      "Epoch 45/500\n",
      "5/5 [==============================] - 1s 159ms/step - loss: 1.8928 - categorical_accuracy: 0.5860\n",
      "Epoch 46/500\n",
      "5/5 [==============================] - 1s 145ms/step - loss: 1.7657 - categorical_accuracy: 0.6773\n",
      "Epoch 47/500\n",
      "5/5 [==============================] - 1s 146ms/step - loss: 1.7173 - categorical_accuracy: 0.6686\n",
      "Epoch 48/500\n",
      "5/5 [==============================] - 1s 144ms/step - loss: 1.6716 - categorical_accuracy: 0.7670\n",
      "Epoch 49/500\n",
      "5/5 [==============================] - 1s 130ms/step - loss: 1.7109 - categorical_accuracy: 0.7046\n",
      "Epoch 50/500\n",
      "5/5 [==============================] - 1s 141ms/step - loss: 1.6579 - categorical_accuracy: 0.7673\n",
      "Epoch 51/500\n",
      "5/5 [==============================] - 1s 143ms/step - loss: 1.6896 - categorical_accuracy: 0.7091\n",
      "Epoch 52/500\n",
      "5/5 [==============================] - 1s 128ms/step - loss: 1.6203 - categorical_accuracy: 0.7964\n",
      "Epoch 53/500\n",
      "5/5 [==============================] - 1s 141ms/step - loss: 1.6179 - categorical_accuracy: 0.7128\n",
      "Epoch 54/500\n",
      "5/5 [==============================] - 1s 141ms/step - loss: 1.5851 - categorical_accuracy: 0.7863\n",
      "Epoch 55/500\n",
      "5/5 [==============================] - 1s 130ms/step - loss: 1.6038 - categorical_accuracy: 0.7128\n",
      "Epoch 56/500\n",
      "5/5 [==============================] - 1s 140ms/step - loss: 1.5742 - categorical_accuracy: 0.6682\n",
      "Epoch 57/500\n",
      "5/5 [==============================] - 1s 142ms/step - loss: 1.5776 - categorical_accuracy: 0.7130\n",
      "Epoch 58/500\n",
      "5/5 [==============================] - 1s 134ms/step - loss: 1.4956 - categorical_accuracy: 0.7495\n",
      "Epoch 59/500\n",
      "5/5 [==============================] - 1s 141ms/step - loss: 1.4279 - categorical_accuracy: 0.8261\n",
      "Epoch 60/500\n",
      "5/5 [==============================] - 1s 137ms/step - loss: 1.4532 - categorical_accuracy: 0.8612\n",
      "Epoch 61/500\n",
      "5/5 [==============================] - 1s 136ms/step - loss: 1.6044 - categorical_accuracy: 0.7601\n",
      "Epoch 62/500\n",
      "5/5 [==============================] - 1s 141ms/step - loss: 1.8182 - categorical_accuracy: 0.5073\n",
      "Epoch 63/500\n",
      "5/5 [==============================] - 1s 133ms/step - loss: 2.1068 - categorical_accuracy: 0.4051\n",
      "Epoch 64/500\n",
      "5/5 [==============================] - 1s 146ms/step - loss: 1.7333 - categorical_accuracy: 0.6824\n",
      "Epoch 65/500\n",
      "5/5 [==============================] - 1s 145ms/step - loss: 1.6161 - categorical_accuracy: 0.6615\n",
      "Epoch 66/500\n",
      "5/5 [==============================] - 1s 130ms/step - loss: 1.5880 - categorical_accuracy: 0.6895\n",
      "Epoch 67/500\n",
      "5/5 [==============================] - 1s 142ms/step - loss: 1.5241 - categorical_accuracy: 0.8049\n",
      "Epoch 68/500\n",
      "5/5 [==============================] - 1s 143ms/step - loss: 1.5909 - categorical_accuracy: 0.6798\n",
      "Epoch 69/500\n",
      "5/5 [==============================] - 1s 131ms/step - loss: 1.6227 - categorical_accuracy: 0.7667\n",
      "Epoch 70/500\n",
      "5/5 [==============================] - 1s 140ms/step - loss: 1.4713 - categorical_accuracy: 0.7198\n",
      "Epoch 71/500\n",
      "5/5 [==============================] - 1s 140ms/step - loss: 1.4034 - categorical_accuracy: 0.7372\n",
      "Epoch 72/500\n",
      "5/5 [==============================] - 1s 129ms/step - loss: 1.3820 - categorical_accuracy: 0.8423\n",
      "Epoch 73/500\n",
      "5/5 [==============================] - 1s 141ms/step - loss: 1.4306 - categorical_accuracy: 0.7231\n",
      "Epoch 74/500\n",
      "5/5 [==============================] - 1s 137ms/step - loss: 1.3645 - categorical_accuracy: 0.7949\n",
      "Epoch 75/500\n",
      "5/5 [==============================] - 1s 124ms/step - loss: 1.3084 - categorical_accuracy: 0.8538\n",
      "Epoch 76/500\n",
      "5/5 [==============================] - 1s 132ms/step - loss: 1.3459 - categorical_accuracy: 0.8207\n",
      "Epoch 77/500\n",
      "5/5 [==============================] - 1s 134ms/step - loss: 1.3255 - categorical_accuracy: 0.8505\n",
      "Epoch 78/500\n",
      "5/5 [==============================] - 1s 121ms/step - loss: 1.2344 - categorical_accuracy: 0.8483\n",
      "Epoch 79/500\n",
      "5/5 [==============================] - 1s 135ms/step - loss: 1.2300 - categorical_accuracy: 0.8998\n",
      "Epoch 80/500\n",
      "5/5 [==============================] - 1s 133ms/step - loss: 1.2111 - categorical_accuracy: 0.8825\n",
      "Epoch 81/500\n",
      "5/5 [==============================] - 1s 122ms/step - loss: 1.1428 - categorical_accuracy: 0.8815\n",
      "Epoch 82/500\n",
      "5/5 [==============================] - 1s 136ms/step - loss: 1.1284 - categorical_accuracy: 0.9041\n",
      "Epoch 83/500\n",
      "5/5 [==============================] - 1s 140ms/step - loss: 1.1718 - categorical_accuracy: 0.8926\n",
      "Epoch 84/500\n",
      "5/5 [==============================] - 1s 127ms/step - loss: 1.1236 - categorical_accuracy: 0.9305\n",
      "Epoch 85/500\n",
      "5/5 [==============================] - 1s 137ms/step - loss: 1.1554 - categorical_accuracy: 0.9168\n",
      "Epoch 86/500\n",
      "5/5 [==============================] - 1s 134ms/step - loss: 1.1582 - categorical_accuracy: 0.8359\n",
      "Epoch 87/500\n",
      "5/5 [==============================] - 1s 122ms/step - loss: 1.1211 - categorical_accuracy: 0.8968\n",
      "Epoch 88/500\n",
      "5/5 [==============================] - 1s 134ms/step - loss: 1.0675 - categorical_accuracy: 0.9260\n",
      "Epoch 89/500\n",
      "5/5 [==============================] - 1s 135ms/step - loss: 1.0606 - categorical_accuracy: 0.8724\n",
      "Epoch 90/500\n",
      "5/5 [==============================] - 1s 124ms/step - loss: 1.0184 - categorical_accuracy: 0.9048\n",
      "Epoch 91/500\n",
      "5/5 [==============================] - 1s 133ms/step - loss: 1.0264 - categorical_accuracy: 0.8994\n",
      "Epoch 92/500\n",
      "5/5 [==============================] - 1s 134ms/step - loss: 0.9977 - categorical_accuracy: 0.9268\n",
      "Epoch 93/500\n",
      "5/5 [==============================] - 1s 123ms/step - loss: 1.0710 - categorical_accuracy: 0.9052\n",
      "Epoch 94/500\n",
      "5/5 [==============================] - 1s 133ms/step - loss: 1.0005 - categorical_accuracy: 0.9156\n",
      "Epoch 95/500\n",
      "5/5 [==============================] - 1s 134ms/step - loss: 1.0037 - categorical_accuracy: 0.9112\n",
      "Epoch 96/500\n",
      "5/5 [==============================] - 1s 122ms/step - loss: 0.9651 - categorical_accuracy: 0.9287\n",
      "Epoch 97/500\n",
      "5/5 [==============================] - 1s 134ms/step - loss: 0.9598 - categorical_accuracy: 0.9311\n",
      "Epoch 98/500\n",
      "5/5 [==============================] - 1s 135ms/step - loss: 0.9053 - categorical_accuracy: 0.9462\n",
      "Epoch 99/500\n",
      "5/5 [==============================] - 1s 123ms/step - loss: 0.8951 - categorical_accuracy: 0.9558\n",
      "Epoch 100/500\n",
      "5/5 [==============================] - 1s 135ms/step - loss: 0.8662 - categorical_accuracy: 0.9714\n",
      "Epoch 101/500\n",
      "5/5 [==============================] - 1s 138ms/step - loss: 0.8571 - categorical_accuracy: 0.9738\n",
      "Epoch 102/500\n",
      "5/5 [==============================] - 1s 127ms/step - loss: 0.8824 - categorical_accuracy: 0.9249\n",
      "Epoch 103/500\n",
      "5/5 [==============================] - 1s 136ms/step - loss: 0.9470 - categorical_accuracy: 0.8790\n",
      "Epoch 104/500\n",
      "5/5 [==============================] - 1s 136ms/step - loss: 0.8876 - categorical_accuracy: 0.9029\n",
      "Epoch 105/500\n",
      "5/5 [==============================] - 1s 124ms/step - loss: 0.9730 - categorical_accuracy: 0.8357\n",
      "Epoch 106/500\n",
      "5/5 [==============================] - 1s 134ms/step - loss: 0.9141 - categorical_accuracy: 0.9018\n",
      "Epoch 107/500\n",
      "5/5 [==============================] - 1s 136ms/step - loss: 1.3460 - categorical_accuracy: 0.7138\n",
      "Epoch 108/500\n",
      "5/5 [==============================] - 1s 126ms/step - loss: 1.9132 - categorical_accuracy: 0.3600\n",
      "Epoch 109/500\n",
      "5/5 [==============================] - 1s 134ms/step - loss: 1.6971 - categorical_accuracy: 0.5133\n",
      "Epoch 110/500\n",
      "5/5 [==============================] - 1s 133ms/step - loss: 1.1773 - categorical_accuracy: 0.7291\n",
      "Epoch 111/500\n",
      "5/5 [==============================] - 1s 125ms/step - loss: 1.3355 - categorical_accuracy: 0.7302\n",
      "Epoch 112/500\n",
      "5/5 [==============================] - 1s 133ms/step - loss: 1.0761 - categorical_accuracy: 0.8394\n",
      "Epoch 113/500\n",
      "5/5 [==============================] - 1s 132ms/step - loss: 0.9786 - categorical_accuracy: 0.8283\n",
      "Epoch 114/500\n",
      "5/5 [==============================] - 1s 122ms/step - loss: 0.9628 - categorical_accuracy: 0.8305\n",
      "Epoch 115/500\n",
      "5/5 [==============================] - 1s 134ms/step - loss: 0.8788 - categorical_accuracy: 0.9023\n",
      "Epoch 116/500\n",
      "5/5 [==============================] - 1s 132ms/step - loss: 0.8964 - categorical_accuracy: 0.8682\n",
      "Epoch 117/500\n",
      "5/5 [==============================] - 1s 125ms/step - loss: 0.8225 - categorical_accuracy: 0.9248\n",
      "Epoch 118/500\n",
      "5/5 [==============================] - 1s 133ms/step - loss: 0.8322 - categorical_accuracy: 0.9112\n",
      "Epoch 119/500\n",
      "5/5 [==============================] - 1s 140ms/step - loss: 0.8016 - categorical_accuracy: 0.9275\n",
      "Epoch 120/500\n",
      "5/5 [==============================] - 1s 129ms/step - loss: 0.8865 - categorical_accuracy: 0.8717\n",
      "Epoch 121/500\n",
      "5/5 [==============================] - 1s 142ms/step - loss: 0.9735 - categorical_accuracy: 0.7814\n",
      "Epoch 122/500\n",
      "5/5 [==============================] - 1s 154ms/step - loss: 0.9429 - categorical_accuracy: 0.8235\n",
      "Epoch 123/500\n",
      "5/5 [==============================] - 1s 166ms/step - loss: 1.5753 - categorical_accuracy: 0.5960\n",
      "Epoch 124/500\n",
      "5/5 [==============================] - 1s 119ms/step - loss: 1.5560 - categorical_accuracy: 0.5567\n",
      "Epoch 125/500\n",
      "5/5 [==============================] - 1s 126ms/step - loss: 1.0731 - categorical_accuracy: 0.8032\n",
      "Epoch 126/500\n",
      "5/5 [==============================] - 1s 167ms/step - loss: 0.9029 - categorical_accuracy: 0.8552\n",
      "Epoch 127/500\n",
      "5/5 [==============================] - 1s 116ms/step - loss: 0.8907 - categorical_accuracy: 0.8731\n",
      "Epoch 128/500\n",
      "5/5 [==============================] - 1s 134ms/step - loss: 0.8118 - categorical_accuracy: 0.9229\n",
      "Epoch 129/500\n",
      "5/5 [==============================] - 1s 149ms/step - loss: 0.7739 - categorical_accuracy: 0.9165\n",
      "Epoch 130/500\n",
      "5/5 [==============================] - 1s 141ms/step - loss: 0.7741 - categorical_accuracy: 0.9078\n",
      "Epoch 131/500\n",
      "5/5 [==============================] - 1s 145ms/step - loss: 0.7339 - categorical_accuracy: 0.9095\n",
      "Epoch 132/500\n",
      "5/5 [==============================] - 1s 123ms/step - loss: 0.7298 - categorical_accuracy: 0.9712\n",
      "Epoch 133/500\n",
      "5/5 [==============================] - 1s 120ms/step - loss: 0.7049 - categorical_accuracy: 1.0000\n",
      "Epoch 134/500\n",
      "5/5 [==============================] - 1s 116ms/step - loss: 0.6930 - categorical_accuracy: 1.0000\n",
      "Epoch 135/500\n",
      "5/5 [==============================] - 1s 117ms/step - loss: 0.6623 - categorical_accuracy: 1.0000\n",
      "Epoch 136/500\n",
      "5/5 [==============================] - 1s 113ms/step - loss: 0.6776 - categorical_accuracy: 1.0000\n",
      "Epoch 137/500\n",
      "5/5 [==============================] - 1s 116ms/step - loss: 0.6454 - categorical_accuracy: 1.0000\n",
      "Epoch 138/500\n",
      "5/5 [==============================] - 1s 117ms/step - loss: 0.6433 - categorical_accuracy: 1.0000\n",
      "Epoch 139/500\n",
      "5/5 [==============================] - 1s 116ms/step - loss: 0.6375 - categorical_accuracy: 1.0000\n",
      "Epoch 140/500\n",
      "5/5 [==============================] - 1s 121ms/step - loss: 0.6151 - categorical_accuracy: 0.9965\n",
      "Epoch 141/500\n",
      "5/5 [==============================] - 1s 117ms/step - loss: 0.6427 - categorical_accuracy: 0.9658\n",
      "Epoch 142/500\n",
      "5/5 [==============================] - 1s 116ms/step - loss: 0.6466 - categorical_accuracy: 0.9554\n",
      "Epoch 143/500\n",
      "5/5 [==============================] - 1s 114ms/step - loss: 0.6202 - categorical_accuracy: 0.9843\n",
      "Epoch 144/500\n",
      "5/5 [==============================] - 1s 116ms/step - loss: 0.5921 - categorical_accuracy: 1.0000\n",
      "Epoch 145/500\n",
      "5/5 [==============================] - 1s 118ms/step - loss: 0.6320 - categorical_accuracy: 0.9663\n",
      "Epoch 146/500\n"
     ]
    },
    {
     "name": "stdout",
     "output_type": "stream",
     "text": [
      "5/5 [==============================] - 1s 113ms/step - loss: 0.6425 - categorical_accuracy: 0.9459\n",
      "Epoch 147/500\n",
      "5/5 [==============================] - 1s 122ms/step - loss: 0.6918 - categorical_accuracy: 0.9317\n",
      "Epoch 148/500\n",
      "5/5 [==============================] - 1s 116ms/step - loss: 0.8038 - categorical_accuracy: 0.8897\n",
      "Epoch 149/500\n",
      "5/5 [==============================] - 1s 115ms/step - loss: 0.8241 - categorical_accuracy: 0.9081\n",
      "Epoch 150/500\n",
      "5/5 [==============================] - 1s 114ms/step - loss: 0.6575 - categorical_accuracy: 0.9148\n",
      "Epoch 151/500\n",
      "5/5 [==============================] - 1s 115ms/step - loss: 0.7165 - categorical_accuracy: 0.8871\n",
      "Epoch 152/500\n",
      "5/5 [==============================] - 1s 116ms/step - loss: 0.6176 - categorical_accuracy: 0.9780\n",
      "Epoch 153/500\n",
      "5/5 [==============================] - 1s 114ms/step - loss: 0.5883 - categorical_accuracy: 0.9523\n",
      "Epoch 154/500\n",
      "5/5 [==============================] - 1s 119ms/step - loss: 0.5867 - categorical_accuracy: 0.9684\n",
      "Epoch 155/500\n",
      "5/5 [==============================] - 1s 117ms/step - loss: 0.6073 - categorical_accuracy: 0.9310\n",
      "Epoch 156/500\n",
      "5/5 [==============================] - 1s 114ms/step - loss: 0.5873 - categorical_accuracy: 0.9739\n",
      "Epoch 157/500\n",
      "5/5 [==============================] - 1s 113ms/step - loss: 0.5481 - categorical_accuracy: 1.0000\n",
      "Epoch 158/500\n",
      "5/5 [==============================] - 1s 113ms/step - loss: 0.5631 - categorical_accuracy: 0.9644\n",
      "Epoch 159/500\n",
      "5/5 [==============================] - 1s 117ms/step - loss: 0.5902 - categorical_accuracy: 0.9611\n",
      "Epoch 160/500\n",
      "5/5 [==============================] - 1s 116ms/step - loss: 0.6457 - categorical_accuracy: 0.9516\n",
      "Epoch 161/500\n",
      "5/5 [==============================] - 1s 117ms/step - loss: 0.9276 - categorical_accuracy: 0.8493\n",
      "Epoch 162/500\n",
      "5/5 [==============================] - 1s 120ms/step - loss: 0.8784 - categorical_accuracy: 0.8037\n",
      "Epoch 163/500\n",
      "5/5 [==============================] - 1s 114ms/step - loss: 0.7791 - categorical_accuracy: 0.8222\n",
      "Epoch 164/500\n",
      "5/5 [==============================] - 1s 119ms/step - loss: 0.7159 - categorical_accuracy: 0.8752\n",
      "Epoch 165/500\n",
      "5/5 [==============================] - 1s 122ms/step - loss: 0.7541 - categorical_accuracy: 0.8900\n",
      "Epoch 166/500\n",
      "5/5 [==============================] - 1s 117ms/step - loss: 0.5697 - categorical_accuracy: 0.9793\n",
      "Epoch 167/500\n",
      "5/5 [==============================] - 1s 118ms/step - loss: 0.5509 - categorical_accuracy: 0.9869\n",
      "Epoch 168/500\n",
      "5/5 [==============================] - 1s 117ms/step - loss: 0.5228 - categorical_accuracy: 1.0000\n",
      "Epoch 169/500\n",
      "5/5 [==============================] - 1s 112ms/step - loss: 0.4922 - categorical_accuracy: 1.0000\n",
      "Epoch 170/500\n",
      "5/5 [==============================] - 1s 113ms/step - loss: 0.4775 - categorical_accuracy: 1.0000\n",
      "Epoch 171/500\n",
      "5/5 [==============================] - 1s 115ms/step - loss: 0.4811 - categorical_accuracy: 1.0000\n",
      "Epoch 172/500\n",
      "5/5 [==============================] - 1s 115ms/step - loss: 0.4698 - categorical_accuracy: 1.0000\n",
      "Epoch 173/500\n",
      "5/5 [==============================] - 1s 116ms/step - loss: 0.4533 - categorical_accuracy: 1.0000\n",
      "Epoch 174/500\n",
      "5/5 [==============================] - 1s 116ms/step - loss: 0.4744 - categorical_accuracy: 0.9735\n",
      "Epoch 175/500\n",
      "5/5 [==============================] - 1s 113ms/step - loss: 0.5565 - categorical_accuracy: 0.9588\n",
      "Epoch 176/500\n",
      "5/5 [==============================] - 1s 116ms/step - loss: 0.5712 - categorical_accuracy: 0.9362\n",
      "Epoch 177/500\n",
      "5/5 [==============================] - 1s 111ms/step - loss: 0.4923 - categorical_accuracy: 0.9553\n",
      "Epoch 178/500\n",
      "5/5 [==============================] - 1s 115ms/step - loss: 0.5732 - categorical_accuracy: 0.9178\n",
      "Epoch 179/500\n",
      "5/5 [==============================] - 1s 114ms/step - loss: 0.4965 - categorical_accuracy: 0.9488\n",
      "Epoch 180/500\n",
      "5/5 [==============================] - 1s 116ms/step - loss: 0.4798 - categorical_accuracy: 0.9566\n",
      "Epoch 181/500\n",
      "5/5 [==============================] - 1s 118ms/step - loss: 0.4724 - categorical_accuracy: 0.9427\n",
      "Epoch 182/500\n",
      "5/5 [==============================] - 1s 117ms/step - loss: 0.5196 - categorical_accuracy: 0.9073\n",
      "Epoch 183/500\n",
      "5/5 [==============================] - 1s 117ms/step - loss: 0.5175 - categorical_accuracy: 0.9273\n",
      "Epoch 184/500\n",
      "5/5 [==============================] - 1s 117ms/step - loss: 0.4707 - categorical_accuracy: 0.9843\n",
      "Epoch 185/500\n",
      "5/5 [==============================] - 1s 120ms/step - loss: 0.4865 - categorical_accuracy: 0.9398\n",
      "Epoch 186/500\n",
      "5/5 [==============================] - 1s 120ms/step - loss: 0.4479 - categorical_accuracy: 0.9850\n",
      "Epoch 187/500\n",
      "5/5 [==============================] - 1s 112ms/step - loss: 0.4374 - categorical_accuracy: 0.9869\n",
      "Epoch 188/500\n",
      "5/5 [==============================] - 1s 127ms/step - loss: 0.4308 - categorical_accuracy: 1.0000\n",
      "Epoch 189/500\n",
      "5/5 [==============================] - 1s 117ms/step - loss: 0.4157 - categorical_accuracy: 1.0000\n",
      "Epoch 190/500\n",
      "5/5 [==============================] - 1s 120ms/step - loss: 0.4094 - categorical_accuracy: 1.0000\n",
      "Epoch 191/500\n",
      "5/5 [==============================] - 1s 119ms/step - loss: 0.3951 - categorical_accuracy: 1.0000\n",
      "Epoch 192/500\n",
      "5/5 [==============================] - 1s 115ms/step - loss: 0.3907 - categorical_accuracy: 1.0000\n",
      "Epoch 193/500\n",
      "5/5 [==============================] - 1s 118ms/step - loss: 0.3776 - categorical_accuracy: 1.0000\n",
      "Epoch 194/500\n",
      "5/5 [==============================] - 1s 122ms/step - loss: 0.3757 - categorical_accuracy: 1.0000\n",
      "Epoch 195/500\n",
      "5/5 [==============================] - 1s 121ms/step - loss: 0.3859 - categorical_accuracy: 1.0000\n",
      "Epoch 196/500\n",
      "5/5 [==============================] - 1s 120ms/step - loss: 0.3770 - categorical_accuracy: 1.0000\n",
      "Epoch 197/500\n",
      "5/5 [==============================] - 1s 115ms/step - loss: 0.3719 - categorical_accuracy: 1.0000\n",
      "Epoch 198/500\n",
      "5/5 [==============================] - 1s 117ms/step - loss: 0.3701 - categorical_accuracy: 1.0000\n",
      "Epoch 199/500\n",
      "5/5 [==============================] - 1s 112ms/step - loss: 0.3661 - categorical_accuracy: 1.0000\n",
      "Epoch 200/500\n",
      "5/5 [==============================] - 1s 118ms/step - loss: 0.3566 - categorical_accuracy: 1.0000\n",
      "Epoch 201/500\n",
      "5/5 [==============================] - 1s 124ms/step - loss: 0.3574 - categorical_accuracy: 1.0000\n",
      "Epoch 202/500\n",
      "5/5 [==============================] - 1s 118ms/step - loss: 0.3493 - categorical_accuracy: 1.0000\n",
      "Epoch 203/500\n",
      "5/5 [==============================] - 1s 126ms/step - loss: 0.3493 - categorical_accuracy: 1.0000\n",
      "Epoch 204/500\n",
      "5/5 [==============================] - 1s 116ms/step - loss: 0.3394 - categorical_accuracy: 1.0000\n",
      "Epoch 205/500\n",
      "5/5 [==============================] - 1s 122ms/step - loss: 0.3340 - categorical_accuracy: 1.0000\n",
      "Epoch 206/500\n",
      "5/5 [==============================] - 1s 119ms/step - loss: 0.3314 - categorical_accuracy: 1.0000\n",
      "Epoch 207/500\n",
      "5/5 [==============================] - 1s 115ms/step - loss: 0.3318 - categorical_accuracy: 1.0000\n",
      "Epoch 208/500\n",
      "5/5 [==============================] - 1s 114ms/step - loss: 0.3230 - categorical_accuracy: 1.0000\n",
      "Epoch 209/500\n",
      "5/5 [==============================] - 1s 114ms/step - loss: 0.3304 - categorical_accuracy: 1.0000\n",
      "Epoch 210/500\n",
      "5/5 [==============================] - 1s 115ms/step - loss: 0.3170 - categorical_accuracy: 1.0000\n",
      "Epoch 211/500\n",
      "5/5 [==============================] - 1s 119ms/step - loss: 0.3253 - categorical_accuracy: 1.0000\n",
      "Epoch 212/500\n",
      "5/5 [==============================] - 1s 115ms/step - loss: 0.3137 - categorical_accuracy: 1.0000\n",
      "Epoch 213/500\n",
      "5/5 [==============================] - 1s 114ms/step - loss: 0.3172 - categorical_accuracy: 1.0000\n",
      "Epoch 214/500\n",
      "5/5 [==============================] - 1s 114ms/step - loss: 0.3065 - categorical_accuracy: 1.0000\n",
      "Epoch 215/500\n",
      "5/5 [==============================] - 1s 116ms/step - loss: 0.3028 - categorical_accuracy: 1.0000\n",
      "Epoch 216/500\n",
      "5/5 [==============================] - 1s 113ms/step - loss: 0.3176 - categorical_accuracy: 1.0000\n",
      "Epoch 217/500\n",
      "5/5 [==============================] - 1s 117ms/step - loss: 0.3055 - categorical_accuracy: 1.0000\n",
      "Epoch 218/500\n",
      "5/5 [==============================] - 1s 118ms/step - loss: 0.2964 - categorical_accuracy: 1.0000\n",
      "Epoch 219/500\n",
      "5/5 [==============================] - 1s 114ms/step - loss: 0.2993 - categorical_accuracy: 1.0000\n",
      "Epoch 220/500\n",
      "5/5 [==============================] - 1s 118ms/step - loss: 0.2990 - categorical_accuracy: 1.0000\n",
      "Epoch 221/500\n",
      "5/5 [==============================] - 1s 117ms/step - loss: 0.2901 - categorical_accuracy: 1.0000\n",
      "Epoch 222/500\n",
      "5/5 [==============================] - 1s 117ms/step - loss: 0.2881 - categorical_accuracy: 1.0000\n",
      "Epoch 223/500\n",
      "5/5 [==============================] - 1s 120ms/step - loss: 0.2868 - categorical_accuracy: 1.0000\n",
      "Epoch 224/500\n",
      "5/5 [==============================] - 1s 120ms/step - loss: 0.2784 - categorical_accuracy: 1.0000\n",
      "Epoch 225/500\n",
      "5/5 [==============================] - 1s 118ms/step - loss: 0.2821 - categorical_accuracy: 1.0000\n",
      "Epoch 226/500\n",
      "5/5 [==============================] - 1s 116ms/step - loss: 0.2745 - categorical_accuracy: 1.0000\n",
      "Epoch 227/500\n",
      "5/5 [==============================] - 1s 118ms/step - loss: 0.2718 - categorical_accuracy: 1.0000\n",
      "Epoch 228/500\n",
      "5/5 [==============================] - 1s 120ms/step - loss: 0.2758 - categorical_accuracy: 1.0000\n",
      "Epoch 229/500\n",
      "5/5 [==============================] - 1s 116ms/step - loss: 0.2722 - categorical_accuracy: 1.0000\n",
      "Epoch 230/500\n",
      "5/5 [==============================] - 1s 117ms/step - loss: 0.2694 - categorical_accuracy: 1.0000\n",
      "Epoch 231/500\n",
      "5/5 [==============================] - 1s 116ms/step - loss: 0.2637 - categorical_accuracy: 1.0000\n",
      "Epoch 232/500\n",
      "5/5 [==============================] - 1s 123ms/step - loss: 0.2604 - categorical_accuracy: 1.0000\n",
      "Epoch 233/500\n",
      "5/5 [==============================] - 1s 117ms/step - loss: 0.2672 - categorical_accuracy: 1.0000\n",
      "Epoch 234/500\n",
      "5/5 [==============================] - 1s 114ms/step - loss: 0.2721 - categorical_accuracy: 1.0000\n",
      "Epoch 235/500\n",
      "5/5 [==============================] - 1s 119ms/step - loss: 0.2603 - categorical_accuracy: 1.0000\n",
      "Epoch 236/500\n",
      "5/5 [==============================] - 1s 117ms/step - loss: 0.2562 - categorical_accuracy: 1.0000\n",
      "Epoch 237/500\n",
      "5/5 [==============================] - 1s 121ms/step - loss: 0.2519 - categorical_accuracy: 1.0000\n",
      "Epoch 238/500\n",
      "5/5 [==============================] - 1s 120ms/step - loss: 0.2576 - categorical_accuracy: 1.0000\n",
      "Epoch 239/500\n",
      "5/5 [==============================] - 1s 146ms/step - loss: 0.2514 - categorical_accuracy: 1.0000\n",
      "Epoch 240/500\n",
      "5/5 [==============================] - 1s 166ms/step - loss: 0.2514 - categorical_accuracy: 1.0000\n",
      "Epoch 241/500\n",
      "5/5 [==============================] - 1s 159ms/step - loss: 0.2468 - categorical_accuracy: 1.0000\n",
      "Epoch 242/500\n",
      "5/5 [==============================] - 1s 136ms/step - loss: 0.2485 - categorical_accuracy: 1.0000\n",
      "Epoch 243/500\n",
      "5/5 [==============================] - 1s 131ms/step - loss: 0.2438 - categorical_accuracy: 1.0000\n",
      "Epoch 244/500\n",
      "5/5 [==============================] - 1s 127ms/step - loss: 0.2366 - categorical_accuracy: 1.0000\n",
      "Epoch 245/500\n",
      "5/5 [==============================] - 1s 121ms/step - loss: 0.2410 - categorical_accuracy: 1.0000\n",
      "Epoch 246/500\n",
      "5/5 [==============================] - 1s 132ms/step - loss: 0.2373 - categorical_accuracy: 1.0000\n",
      "Epoch 247/500\n",
      "5/5 [==============================] - 1s 133ms/step - loss: 0.2370 - categorical_accuracy: 1.0000\n",
      "Epoch 248/500\n",
      "5/5 [==============================] - 1s 121ms/step - loss: 0.2356 - categorical_accuracy: 1.0000\n",
      "Epoch 249/500\n",
      "5/5 [==============================] - 1s 116ms/step - loss: 0.2305 - categorical_accuracy: 1.0000\n",
      "Epoch 250/500\n",
      "5/5 [==============================] - 1s 136ms/step - loss: 0.2312 - categorical_accuracy: 1.0000\n",
      "Epoch 251/500\n",
      "5/5 [==============================] - 1s 119ms/step - loss: 0.2289 - categorical_accuracy: 1.0000\n",
      "Epoch 252/500\n",
      "5/5 [==============================] - 1s 118ms/step - loss: 0.2258 - categorical_accuracy: 1.0000\n",
      "Epoch 253/500\n",
      "5/5 [==============================] - 1s 119ms/step - loss: 0.2215 - categorical_accuracy: 1.0000\n",
      "Epoch 254/500\n",
      "5/5 [==============================] - 1s 126ms/step - loss: 0.2228 - categorical_accuracy: 1.0000\n",
      "Epoch 255/500\n",
      "5/5 [==============================] - 1s 126ms/step - loss: 0.2230 - categorical_accuracy: 1.0000\n",
      "Epoch 256/500\n",
      "5/5 [==============================] - 1s 128ms/step - loss: 0.2168 - categorical_accuracy: 1.0000\n",
      "Epoch 257/500\n",
      "5/5 [==============================] - 1s 132ms/step - loss: 0.2197 - categorical_accuracy: 1.0000\n",
      "Epoch 258/500\n",
      "5/5 [==============================] - 1s 153ms/step - loss: 0.2233 - categorical_accuracy: 1.0000\n",
      "Epoch 259/500\n",
      "5/5 [==============================] - 1s 125ms/step - loss: 0.2094 - categorical_accuracy: 1.0000\n",
      "Epoch 260/500\n",
      "5/5 [==============================] - 1s 143ms/step - loss: 0.2120 - categorical_accuracy: 1.0000\n",
      "Epoch 261/500\n",
      "5/5 [==============================] - 1s 146ms/step - loss: 0.2165 - categorical_accuracy: 1.0000\n",
      "Epoch 262/500\n",
      "5/5 [==============================] - 1s 131ms/step - loss: 0.2092 - categorical_accuracy: 1.0000\n",
      "Epoch 263/500\n",
      "5/5 [==============================] - 1s 158ms/step - loss: 0.2034 - categorical_accuracy: 1.0000\n",
      "Epoch 264/500\n",
      "5/5 [==============================] - 1s 159ms/step - loss: 0.2045 - categorical_accuracy: 1.0000\n",
      "Epoch 265/500\n",
      "5/5 [==============================] - 1s 146ms/step - loss: 0.2093 - categorical_accuracy: 1.0000\n",
      "Epoch 266/500\n",
      "5/5 [==============================] - 1s 119ms/step - loss: 0.2060 - categorical_accuracy: 1.0000\n",
      "Epoch 267/500\n",
      "5/5 [==============================] - 1s 123ms/step - loss: 0.2035 - categorical_accuracy: 1.0000\n",
      "Epoch 268/500\n",
      "5/5 [==============================] - 1s 128ms/step - loss: 0.2071 - categorical_accuracy: 1.0000\n",
      "Epoch 269/500\n",
      "5/5 [==============================] - 1s 131ms/step - loss: 0.1971 - categorical_accuracy: 1.0000\n",
      "Epoch 270/500\n",
      "5/5 [==============================] - 1s 122ms/step - loss: 0.1965 - categorical_accuracy: 1.0000\n",
      "Epoch 271/500\n",
      "5/5 [==============================] - 1s 127ms/step - loss: 0.2014 - categorical_accuracy: 1.0000\n",
      "Epoch 272/500\n",
      "5/5 [==============================] - 1s 123ms/step - loss: 0.1844 - categorical_accuracy: 1.0000\n",
      "Epoch 273/500\n",
      "5/5 [==============================] - 1s 133ms/step - loss: 0.1964 - categorical_accuracy: 1.0000\n",
      "Epoch 274/500\n",
      "5/5 [==============================] - 1s 125ms/step - loss: 0.1902 - categorical_accuracy: 1.0000\n",
      "Epoch 275/500\n",
      "5/5 [==============================] - 1s 131ms/step - loss: 0.1953 - categorical_accuracy: 1.0000\n",
      "Epoch 276/500\n",
      "5/5 [==============================] - 1s 131ms/step - loss: 0.1919 - categorical_accuracy: 1.0000\n",
      "Epoch 277/500\n",
      "5/5 [==============================] - 1s 119ms/step - loss: 0.1878 - categorical_accuracy: 1.0000\n",
      "Epoch 278/500\n",
      "5/5 [==============================] - 1s 122ms/step - loss: 0.1874 - categorical_accuracy: 1.0000\n",
      "Epoch 279/500\n",
      "5/5 [==============================] - 1s 161ms/step - loss: 0.1897 - categorical_accuracy: 1.0000\n",
      "Epoch 280/500\n",
      "5/5 [==============================] - 1s 123ms/step - loss: 0.1870 - categorical_accuracy: 1.0000\n",
      "Epoch 281/500\n",
      "5/5 [==============================] - 1s 126ms/step - loss: 0.1836 - categorical_accuracy: 1.0000\n",
      "Epoch 282/500\n",
      "5/5 [==============================] - 1s 121ms/step - loss: 0.1867 - categorical_accuracy: 1.0000\n",
      "Epoch 283/500\n",
      "5/5 [==============================] - 1s 120ms/step - loss: 0.1811 - categorical_accuracy: 1.0000\n",
      "Epoch 284/500\n",
      "5/5 [==============================] - 1s 119ms/step - loss: 0.1735 - categorical_accuracy: 1.0000\n",
      "Epoch 285/500\n",
      "5/5 [==============================] - 1s 116ms/step - loss: 0.1776 - categorical_accuracy: 1.0000\n",
      "Epoch 286/500\n",
      "5/5 [==============================] - 1s 120ms/step - loss: 0.1794 - categorical_accuracy: 1.0000\n",
      "Epoch 287/500\n",
      "5/5 [==============================] - 1s 113ms/step - loss: 0.1753 - categorical_accuracy: 1.0000\n",
      "Epoch 288/500\n",
      "5/5 [==============================] - 1s 118ms/step - loss: 0.1796 - categorical_accuracy: 1.0000\n",
      "Epoch 289/500\n",
      "5/5 [==============================] - 1s 120ms/step - loss: 0.1761 - categorical_accuracy: 1.0000\n",
      "Epoch 290/500\n"
     ]
    },
    {
     "name": "stdout",
     "output_type": "stream",
     "text": [
      "5/5 [==============================] - 1s 116ms/step - loss: 0.1752 - categorical_accuracy: 1.0000\n",
      "Epoch 291/500\n",
      "5/5 [==============================] - 1s 123ms/step - loss: 0.1770 - categorical_accuracy: 1.0000\n",
      "Epoch 292/500\n",
      "5/5 [==============================] - 1s 124ms/step - loss: 0.1753 - categorical_accuracy: 1.0000\n",
      "Epoch 293/500\n",
      "5/5 [==============================] - 1s 149ms/step - loss: 0.1702 - categorical_accuracy: 1.0000\n",
      "Epoch 294/500\n",
      "5/5 [==============================] - 1s 127ms/step - loss: 0.1706 - categorical_accuracy: 1.0000\n",
      "Epoch 295/500\n",
      "5/5 [==============================] - 1s 124ms/step - loss: 0.1686 - categorical_accuracy: 1.0000\n",
      "Epoch 296/500\n",
      "5/5 [==============================] - 1s 121ms/step - loss: 0.1663 - categorical_accuracy: 1.0000\n",
      "Epoch 297/500\n",
      "5/5 [==============================] - 1s 123ms/step - loss: 0.1654 - categorical_accuracy: 1.0000\n",
      "Epoch 298/500\n",
      "5/5 [==============================] - 1s 129ms/step - loss: 0.1611 - categorical_accuracy: 1.0000\n",
      "Epoch 299/500\n",
      "5/5 [==============================] - 1s 118ms/step - loss: 0.1630 - categorical_accuracy: 1.0000\n",
      "Epoch 300/500\n",
      "5/5 [==============================] - 1s 117ms/step - loss: 0.1665 - categorical_accuracy: 1.0000\n",
      "Epoch 301/500\n",
      "5/5 [==============================] - 1s 119ms/step - loss: 0.1602 - categorical_accuracy: 1.0000\n",
      "Epoch 302/500\n",
      "5/5 [==============================] - 1s 115ms/step - loss: 0.1615 - categorical_accuracy: 1.0000\n",
      "Epoch 303/500\n",
      "5/5 [==============================] - 1s 113ms/step - loss: 0.1606 - categorical_accuracy: 1.0000\n",
      "Epoch 304/500\n",
      "5/5 [==============================] - 1s 123ms/step - loss: 0.1599 - categorical_accuracy: 1.0000\n",
      "Epoch 305/500\n",
      "5/5 [==============================] - 1s 122ms/step - loss: 0.1549 - categorical_accuracy: 1.0000\n",
      "Epoch 306/500\n",
      "5/5 [==============================] - 1s 115ms/step - loss: 0.1545 - categorical_accuracy: 1.0000\n",
      "Epoch 307/500\n",
      "5/5 [==============================] - 1s 113ms/step - loss: 0.1542 - categorical_accuracy: 1.0000\n",
      "Epoch 308/500\n",
      "5/5 [==============================] - 1s 110ms/step - loss: 0.1545 - categorical_accuracy: 1.0000\n",
      "Epoch 309/500\n",
      "5/5 [==============================] - 1s 114ms/step - loss: 0.1518 - categorical_accuracy: 1.0000\n",
      "Epoch 310/500\n",
      "5/5 [==============================] - 1s 116ms/step - loss: 0.1553 - categorical_accuracy: 1.0000\n",
      "Epoch 311/500\n",
      "5/5 [==============================] - 1s 114ms/step - loss: 0.1520 - categorical_accuracy: 1.0000\n",
      "Epoch 312/500\n",
      "5/5 [==============================] - 1s 118ms/step - loss: 0.1482 - categorical_accuracy: 1.0000\n",
      "Epoch 313/500\n",
      "5/5 [==============================] - 1s 139ms/step - loss: 0.1508 - categorical_accuracy: 1.0000\n",
      "Epoch 314/500\n",
      "5/5 [==============================] - 1s 137ms/step - loss: 0.1474 - categorical_accuracy: 1.0000\n",
      "Epoch 315/500\n",
      "5/5 [==============================] - 1s 137ms/step - loss: 0.1435 - categorical_accuracy: 1.0000\n",
      "Epoch 316/500\n",
      "5/5 [==============================] - 1s 140ms/step - loss: 0.1475 - categorical_accuracy: 1.0000\n",
      "Epoch 317/500\n",
      "5/5 [==============================] - 1s 116ms/step - loss: 0.1421 - categorical_accuracy: 1.0000\n",
      "Epoch 318/500\n",
      "5/5 [==============================] - 1s 119ms/step - loss: 0.1466 - categorical_accuracy: 1.0000\n",
      "Epoch 319/500\n",
      "5/5 [==============================] - 1s 126ms/step - loss: 0.1421 - categorical_accuracy: 1.0000\n",
      "Epoch 320/500\n",
      "5/5 [==============================] - 1s 128ms/step - loss: 0.1450 - categorical_accuracy: 1.0000\n",
      "Epoch 321/500\n",
      "5/5 [==============================] - 1s 153ms/step - loss: 0.1421 - categorical_accuracy: 1.0000\n",
      "Epoch 322/500\n",
      "5/5 [==============================] - 1s 130ms/step - loss: 0.1394 - categorical_accuracy: 1.0000\n",
      "Epoch 323/500\n",
      "5/5 [==============================] - 1s 130ms/step - loss: 0.1393 - categorical_accuracy: 1.0000\n",
      "Epoch 324/500\n",
      "5/5 [==============================] - 1s 135ms/step - loss: 0.1381 - categorical_accuracy: 1.0000\n",
      "Epoch 325/500\n",
      "5/5 [==============================] - 1s 134ms/step - loss: 0.1387 - categorical_accuracy: 1.0000\n",
      "Epoch 326/500\n",
      "5/5 [==============================] - 1s 150ms/step - loss: 0.1396 - categorical_accuracy: 1.0000\n",
      "Epoch 327/500\n",
      "5/5 [==============================] - 1s 114ms/step - loss: 0.1378 - categorical_accuracy: 1.0000\n",
      "Epoch 328/500\n",
      "5/5 [==============================] - 1s 145ms/step - loss: 0.1365 - categorical_accuracy: 1.0000\n",
      "Epoch 329/500\n",
      "5/5 [==============================] - 1s 123ms/step - loss: 0.1379 - categorical_accuracy: 1.0000\n",
      "Epoch 330/500\n",
      "5/5 [==============================] - 1s 127ms/step - loss: 0.1337 - categorical_accuracy: 1.0000\n",
      "Epoch 331/500\n",
      "5/5 [==============================] - 1s 115ms/step - loss: 0.1353 - categorical_accuracy: 1.0000\n",
      "Epoch 332/500\n",
      "5/5 [==============================] - 1s 119ms/step - loss: 0.1333 - categorical_accuracy: 1.0000\n",
      "Epoch 333/500\n",
      "5/5 [==============================] - 1s 123ms/step - loss: 0.1266 - categorical_accuracy: 1.0000\n",
      "Epoch 334/500\n",
      "5/5 [==============================] - 1s 114ms/step - loss: 0.1325 - categorical_accuracy: 1.0000\n",
      "Epoch 335/500\n",
      "5/5 [==============================] - 1s 117ms/step - loss: 0.1270 - categorical_accuracy: 1.0000\n",
      "Epoch 336/500\n",
      "5/5 [==============================] - 1s 123ms/step - loss: 0.1304 - categorical_accuracy: 1.0000\n",
      "Epoch 337/500\n",
      "5/5 [==============================] - 1s 118ms/step - loss: 0.1340 - categorical_accuracy: 1.0000\n",
      "Epoch 338/500\n",
      "5/5 [==============================] - 1s 116ms/step - loss: 0.1298 - categorical_accuracy: 1.0000\n",
      "Epoch 339/500\n",
      "5/5 [==============================] - 1s 119ms/step - loss: 0.1249 - categorical_accuracy: 1.0000\n",
      "Epoch 340/500\n",
      "5/5 [==============================] - 1s 121ms/step - loss: 0.1272 - categorical_accuracy: 1.0000\n",
      "Epoch 341/500\n",
      "5/5 [==============================] - 1s 116ms/step - loss: 0.1243 - categorical_accuracy: 1.0000\n",
      "Epoch 342/500\n",
      "5/5 [==============================] - 1s 117ms/step - loss: 0.1262 - categorical_accuracy: 1.0000\n",
      "Epoch 343/500\n",
      "5/5 [==============================] - 1s 114ms/step - loss: 0.1219 - categorical_accuracy: 1.0000\n",
      "Epoch 344/500\n",
      "5/5 [==============================] - 1s 117ms/step - loss: 0.1226 - categorical_accuracy: 1.0000\n",
      "Epoch 345/500\n",
      "5/5 [==============================] - 1s 115ms/step - loss: 0.1230 - categorical_accuracy: 1.0000\n",
      "Epoch 346/500\n",
      "5/5 [==============================] - 1s 114ms/step - loss: 0.1217 - categorical_accuracy: 1.0000\n",
      "Epoch 347/500\n",
      "5/5 [==============================] - 1s 117ms/step - loss: 0.1224 - categorical_accuracy: 1.0000\n",
      "Epoch 348/500\n",
      "5/5 [==============================] - 1s 113ms/step - loss: 0.1209 - categorical_accuracy: 1.0000\n",
      "Epoch 349/500\n",
      "5/5 [==============================] - 1s 116ms/step - loss: 0.1201 - categorical_accuracy: 1.0000\n",
      "Epoch 350/500\n",
      "5/5 [==============================] - 1s 112ms/step - loss: 0.1215 - categorical_accuracy: 1.0000\n",
      "Epoch 351/500\n",
      "5/5 [==============================] - 1s 124ms/step - loss: 0.1211 - categorical_accuracy: 1.0000\n",
      "Epoch 352/500\n",
      "5/5 [==============================] - 1s 117ms/step - loss: 0.1190 - categorical_accuracy: 1.0000\n",
      "Epoch 353/500\n",
      "5/5 [==============================] - 1s 123ms/step - loss: 0.1171 - categorical_accuracy: 1.0000\n",
      "Epoch 354/500\n",
      "5/5 [==============================] - 1s 122ms/step - loss: 0.1149 - categorical_accuracy: 1.0000\n",
      "Epoch 355/500\n",
      "5/5 [==============================] - 1s 133ms/step - loss: 0.1152 - categorical_accuracy: 1.0000\n",
      "Epoch 356/500\n",
      "5/5 [==============================] - 1s 143ms/step - loss: 0.1176 - categorical_accuracy: 1.0000\n",
      "Epoch 357/500\n",
      "5/5 [==============================] - 1s 139ms/step - loss: 0.1160 - categorical_accuracy: 1.0000\n",
      "Epoch 358/500\n",
      "5/5 [==============================] - 1s 160ms/step - loss: 0.1134 - categorical_accuracy: 1.0000\n",
      "Epoch 359/500\n",
      "5/5 [==============================] - 1s 161ms/step - loss: 0.1150 - categorical_accuracy: 1.0000\n",
      "Epoch 360/500\n",
      "5/5 [==============================] - 1s 143ms/step - loss: 0.1123 - categorical_accuracy: 1.0000\n",
      "Epoch 361/500\n",
      "5/5 [==============================] - 1s 151ms/step - loss: 0.1127 - categorical_accuracy: 1.0000\n",
      "Epoch 362/500\n",
      "5/5 [==============================] - 1s 154ms/step - loss: 0.1103 - categorical_accuracy: 1.0000\n",
      "Epoch 363/500\n",
      "5/5 [==============================] - 1s 142ms/step - loss: 0.1099 - categorical_accuracy: 1.0000\n",
      "Epoch 364/500\n",
      "5/5 [==============================] - 1s 140ms/step - loss: 0.1111 - categorical_accuracy: 1.0000\n",
      "Epoch 365/500\n",
      "5/5 [==============================] - 1s 138ms/step - loss: 0.1107 - categorical_accuracy: 1.0000\n",
      "Epoch 366/500\n",
      "5/5 [==============================] - 1s 138ms/step - loss: 0.1115 - categorical_accuracy: 1.0000\n",
      "Epoch 367/500\n",
      "5/5 [==============================] - 1s 137ms/step - loss: 0.1115 - categorical_accuracy: 1.0000\n",
      "Epoch 368/500\n",
      "5/5 [==============================] - 1s 140ms/step - loss: 0.1079 - categorical_accuracy: 1.0000\n",
      "Epoch 369/500\n",
      "5/5 [==============================] - 1s 139ms/step - loss: 0.1052 - categorical_accuracy: 1.0000\n",
      "Epoch 370/500\n",
      "5/5 [==============================] - 1s 132ms/step - loss: 0.1077 - categorical_accuracy: 1.0000\n",
      "Epoch 371/500\n",
      "5/5 [==============================] - 1s 140ms/step - loss: 0.1055 - categorical_accuracy: 1.0000\n",
      "Epoch 372/500\n",
      "5/5 [==============================] - 1s 138ms/step - loss: 0.1063 - categorical_accuracy: 1.0000\n",
      "Epoch 373/500\n",
      "5/5 [==============================] - 1s 128ms/step - loss: 0.1018 - categorical_accuracy: 1.0000\n",
      "Epoch 374/500\n",
      "5/5 [==============================] - 1s 141ms/step - loss: 0.1047 - categorical_accuracy: 1.0000\n",
      "Epoch 375/500\n",
      "5/5 [==============================] - 1s 141ms/step - loss: 0.1068 - categorical_accuracy: 1.0000\n",
      "Epoch 376/500\n",
      "5/5 [==============================] - 1s 125ms/step - loss: 0.1049 - categorical_accuracy: 1.0000\n",
      "Epoch 377/500\n",
      "5/5 [==============================] - 1s 143ms/step - loss: 0.1048 - categorical_accuracy: 1.0000\n",
      "Epoch 378/500\n",
      "5/5 [==============================] - 1s 147ms/step - loss: 0.1043 - categorical_accuracy: 1.0000\n",
      "Epoch 379/500\n",
      "5/5 [==============================] - 1s 130ms/step - loss: 0.1035 - categorical_accuracy: 1.0000\n",
      "Epoch 380/500\n",
      "5/5 [==============================] - 1s 140ms/step - loss: 0.1001 - categorical_accuracy: 1.0000\n",
      "Epoch 381/500\n",
      "5/5 [==============================] - 1s 142ms/step - loss: 0.1024 - categorical_accuracy: 1.0000\n",
      "Epoch 382/500\n",
      "5/5 [==============================] - 1s 127ms/step - loss: 0.0988 - categorical_accuracy: 1.0000\n",
      "Epoch 383/500\n",
      "5/5 [==============================] - 1s 139ms/step - loss: 0.1011 - categorical_accuracy: 1.0000\n",
      "Epoch 384/500\n",
      "5/5 [==============================] - 1s 139ms/step - loss: 0.1000 - categorical_accuracy: 1.0000\n",
      "Epoch 385/500\n",
      "5/5 [==============================] - 1s 131ms/step - loss: 0.1000 - categorical_accuracy: 1.0000\n",
      "Epoch 386/500\n",
      "5/5 [==============================] - 1s 138ms/step - loss: 0.0975 - categorical_accuracy: 1.0000\n",
      "Epoch 387/500\n",
      "5/5 [==============================] - 1s 140ms/step - loss: 0.0985 - categorical_accuracy: 1.0000\n",
      "Epoch 388/500\n",
      "5/5 [==============================] - 1s 132ms/step - loss: 0.0950 - categorical_accuracy: 1.0000\n",
      "Epoch 389/500\n",
      "5/5 [==============================] - 1s 136ms/step - loss: 0.0970 - categorical_accuracy: 1.0000\n",
      "Epoch 390/500\n",
      "5/5 [==============================] - 1s 138ms/step - loss: 0.0938 - categorical_accuracy: 1.0000\n",
      "Epoch 391/500\n",
      "5/5 [==============================] - 1s 134ms/step - loss: 0.0958 - categorical_accuracy: 1.0000\n",
      "Epoch 392/500\n",
      "5/5 [==============================] - 1s 138ms/step - loss: 0.0967 - categorical_accuracy: 1.0000\n",
      "Epoch 393/500\n",
      "5/5 [==============================] - 1s 138ms/step - loss: 0.0955 - categorical_accuracy: 1.0000\n",
      "Epoch 394/500\n",
      "5/5 [==============================] - 1s 137ms/step - loss: 0.0949 - categorical_accuracy: 1.0000\n",
      "Epoch 395/500\n",
      "5/5 [==============================] - 1s 142ms/step - loss: 0.0933 - categorical_accuracy: 1.0000\n",
      "Epoch 396/500\n",
      "5/5 [==============================] - 1s 136ms/step - loss: 0.0938 - categorical_accuracy: 1.0000\n",
      "Epoch 397/500\n",
      "5/5 [==============================] - 1s 147ms/step - loss: 0.0928 - categorical_accuracy: 1.0000\n",
      "Epoch 398/500\n",
      "5/5 [==============================] - 1s 146ms/step - loss: 0.0926 - categorical_accuracy: 1.0000\n",
      "Epoch 399/500\n",
      "5/5 [==============================] - 1s 133ms/step - loss: 0.0919 - categorical_accuracy: 1.0000\n",
      "Epoch 400/500\n",
      "5/5 [==============================] - 1s 146ms/step - loss: 0.0886 - categorical_accuracy: 1.0000\n",
      "Epoch 401/500\n",
      "5/5 [==============================] - 1s 140ms/step - loss: 0.0928 - categorical_accuracy: 1.0000\n",
      "Epoch 402/500\n",
      "5/5 [==============================] - 1s 126ms/step - loss: 0.0904 - categorical_accuracy: 1.0000\n",
      "Epoch 403/500\n",
      "5/5 [==============================] - 1s 139ms/step - loss: 0.0915 - categorical_accuracy: 1.0000\n",
      "Epoch 404/500\n",
      "5/5 [==============================] - 1s 142ms/step - loss: 0.0892 - categorical_accuracy: 1.0000\n",
      "Epoch 405/500\n",
      "5/5 [==============================] - 1s 128ms/step - loss: 0.0886 - categorical_accuracy: 1.0000\n",
      "Epoch 406/500\n",
      "5/5 [==============================] - 1s 138ms/step - loss: 0.0883 - categorical_accuracy: 1.0000\n",
      "Epoch 407/500\n",
      "5/5 [==============================] - 1s 142ms/step - loss: 0.0889 - categorical_accuracy: 1.0000\n",
      "Epoch 408/500\n",
      "5/5 [==============================] - 1s 128ms/step - loss: 0.0887 - categorical_accuracy: 1.0000\n",
      "Epoch 409/500\n",
      "5/5 [==============================] - 1s 139ms/step - loss: 0.0873 - categorical_accuracy: 1.0000\n",
      "Epoch 410/500\n",
      "5/5 [==============================] - 1s 139ms/step - loss: 0.0875 - categorical_accuracy: 1.0000\n",
      "Epoch 411/500\n",
      "5/5 [==============================] - 1s 130ms/step - loss: 0.0877 - categorical_accuracy: 1.0000\n",
      "Epoch 412/500\n",
      "5/5 [==============================] - 1s 140ms/step - loss: 0.0861 - categorical_accuracy: 1.0000\n",
      "Epoch 413/500\n",
      "5/5 [==============================] - 1s 145ms/step - loss: 0.0878 - categorical_accuracy: 1.0000\n",
      "Epoch 414/500\n",
      "5/5 [==============================] - 1s 137ms/step - loss: 0.0841 - categorical_accuracy: 1.0000\n",
      "Epoch 415/500\n",
      "5/5 [==============================] - 1s 144ms/step - loss: 0.0863 - categorical_accuracy: 1.0000\n",
      "Epoch 416/500\n",
      "5/5 [==============================] - 1s 141ms/step - loss: 0.0848 - categorical_accuracy: 1.0000\n",
      "Epoch 417/500\n",
      "5/5 [==============================] - 1s 139ms/step - loss: 0.0845 - categorical_accuracy: 1.0000\n",
      "Epoch 418/500\n",
      "5/5 [==============================] - 1s 139ms/step - loss: 0.0854 - categorical_accuracy: 1.0000\n",
      "Epoch 419/500\n",
      "5/5 [==============================] - 1s 131ms/step - loss: 0.0822 - categorical_accuracy: 1.0000\n",
      "Epoch 420/500\n",
      "5/5 [==============================] - 1s 140ms/step - loss: 0.0822 - categorical_accuracy: 1.0000\n",
      "Epoch 421/500\n",
      "5/5 [==============================] - 1s 141ms/step - loss: 0.0844 - categorical_accuracy: 1.0000\n",
      "Epoch 422/500\n",
      "5/5 [==============================] - 1s 130ms/step - loss: 0.0851 - categorical_accuracy: 1.0000\n",
      "Epoch 423/500\n",
      "5/5 [==============================] - 1s 138ms/step - loss: 0.0800 - categorical_accuracy: 1.0000\n",
      "Epoch 424/500\n",
      "5/5 [==============================] - 1s 140ms/step - loss: 0.0825 - categorical_accuracy: 1.0000\n",
      "Epoch 425/500\n",
      "5/5 [==============================] - 1s 128ms/step - loss: 0.0832 - categorical_accuracy: 1.0000\n",
      "Epoch 426/500\n",
      "5/5 [==============================] - 1s 139ms/step - loss: 0.0812 - categorical_accuracy: 1.0000\n",
      "Epoch 427/500\n",
      "5/5 [==============================] - 1s 139ms/step - loss: 0.0805 - categorical_accuracy: 1.0000\n",
      "Epoch 428/500\n",
      "5/5 [==============================] - 1s 126ms/step - loss: 0.0794 - categorical_accuracy: 1.0000\n",
      "Epoch 429/500\n",
      "5/5 [==============================] - 1s 140ms/step - loss: 0.0789 - categorical_accuracy: 1.0000\n",
      "Epoch 430/500\n",
      "5/5 [==============================] - 1s 139ms/step - loss: 0.0781 - categorical_accuracy: 1.0000\n",
      "Epoch 431/500\n",
      "5/5 [==============================] - 1s 129ms/step - loss: 0.0793 - categorical_accuracy: 1.0000\n",
      "Epoch 432/500\n",
      "5/5 [==============================] - 1s 140ms/step - loss: 0.0769 - categorical_accuracy: 1.0000\n",
      "Epoch 433/500\n",
      "5/5 [==============================] - 1s 145ms/step - loss: 0.0780 - categorical_accuracy: 1.0000\n",
      "Epoch 434/500\n"
     ]
    },
    {
     "name": "stdout",
     "output_type": "stream",
     "text": [
      "5/5 [==============================] - 1s 132ms/step - loss: 0.0768 - categorical_accuracy: 1.0000\n",
      "Epoch 435/500\n",
      "5/5 [==============================] - 1s 131ms/step - loss: 0.0758 - categorical_accuracy: 1.0000\n",
      "Epoch 436/500\n",
      "5/5 [==============================] - 1s 133ms/step - loss: 0.0768 - categorical_accuracy: 1.0000\n",
      "Epoch 437/500\n",
      "5/5 [==============================] - 1s 124ms/step - loss: 0.0761 - categorical_accuracy: 1.0000\n",
      "Epoch 438/500\n",
      "5/5 [==============================] - 1s 129ms/step - loss: 0.0753 - categorical_accuracy: 1.0000\n",
      "Epoch 439/500\n",
      "5/5 [==============================] - 1s 134ms/step - loss: 0.0749 - categorical_accuracy: 1.0000\n",
      "Epoch 440/500\n",
      "5/5 [==============================] - 1s 122ms/step - loss: 0.0753 - categorical_accuracy: 1.0000\n",
      "Epoch 441/500\n",
      "5/5 [==============================] - 1s 130ms/step - loss: 0.0753 - categorical_accuracy: 1.0000\n",
      "Epoch 442/500\n",
      "5/5 [==============================] - 1s 131ms/step - loss: 0.0753 - categorical_accuracy: 1.0000\n",
      "Epoch 443/500\n",
      "5/5 [==============================] - 1s 121ms/step - loss: 0.0742 - categorical_accuracy: 1.0000\n",
      "Epoch 444/500\n",
      "5/5 [==============================] - 1s 131ms/step - loss: 0.0753 - categorical_accuracy: 1.0000\n",
      "Epoch 445/500\n",
      "5/5 [==============================] - 1s 130ms/step - loss: 0.0746 - categorical_accuracy: 1.0000\n",
      "Epoch 446/500\n",
      "5/5 [==============================] - 1s 123ms/step - loss: 0.0729 - categorical_accuracy: 1.0000\n",
      "Epoch 447/500\n",
      "5/5 [==============================] - 1s 130ms/step - loss: 0.0729 - categorical_accuracy: 1.0000\n",
      "Epoch 448/500\n",
      "5/5 [==============================] - 1s 132ms/step - loss: 0.0726 - categorical_accuracy: 1.0000\n",
      "Epoch 449/500\n",
      "5/5 [==============================] - 1s 118ms/step - loss: 0.0734 - categorical_accuracy: 1.0000\n",
      "Epoch 450/500\n",
      "5/5 [==============================] - 1s 134ms/step - loss: 0.0723 - categorical_accuracy: 1.0000\n",
      "Epoch 451/500\n",
      "5/5 [==============================] - 1s 136ms/step - loss: 0.0711 - categorical_accuracy: 1.0000\n",
      "Epoch 452/500\n",
      "5/5 [==============================] - 1s 125ms/step - loss: 0.0713 - categorical_accuracy: 1.0000\n",
      "Epoch 453/500\n",
      "5/5 [==============================] - 1s 136ms/step - loss: 0.0719 - categorical_accuracy: 1.0000\n",
      "Epoch 454/500\n",
      "5/5 [==============================] - 1s 132ms/step - loss: 0.0694 - categorical_accuracy: 1.0000\n",
      "Epoch 455/500\n",
      "5/5 [==============================] - 1s 121ms/step - loss: 0.0698 - categorical_accuracy: 1.0000\n",
      "Epoch 456/500\n",
      "5/5 [==============================] - 1s 131ms/step - loss: 0.0697 - categorical_accuracy: 1.0000\n",
      "Epoch 457/500\n",
      "5/5 [==============================] - 1s 134ms/step - loss: 0.0692 - categorical_accuracy: 1.0000\n",
      "Epoch 458/500\n",
      "5/5 [==============================] - 1s 120ms/step - loss: 0.0702 - categorical_accuracy: 1.0000\n",
      "Epoch 459/500\n",
      "5/5 [==============================] - 1s 131ms/step - loss: 0.0695 - categorical_accuracy: 1.0000\n",
      "Epoch 460/500\n",
      "5/5 [==============================] - 1s 132ms/step - loss: 0.0680 - categorical_accuracy: 1.0000\n",
      "Epoch 461/500\n",
      "5/5 [==============================] - 1s 123ms/step - loss: 0.0693 - categorical_accuracy: 1.0000\n",
      "Epoch 462/500\n",
      "5/5 [==============================] - 1s 132ms/step - loss: 0.0689 - categorical_accuracy: 1.0000\n",
      "Epoch 463/500\n",
      "5/5 [==============================] - 1s 133ms/step - loss: 0.0678 - categorical_accuracy: 1.0000\n",
      "Epoch 464/500\n",
      "5/5 [==============================] - 1s 127ms/step - loss: 0.0680 - categorical_accuracy: 1.0000\n",
      "Epoch 465/500\n",
      "5/5 [==============================] - 1s 135ms/step - loss: 0.0668 - categorical_accuracy: 1.0000\n",
      "Epoch 466/500\n",
      "5/5 [==============================] - 1s 135ms/step - loss: 0.0676 - categorical_accuracy: 1.0000\n",
      "Epoch 467/500\n",
      "5/5 [==============================] - 1s 125ms/step - loss: 0.0662 - categorical_accuracy: 1.0000\n",
      "Epoch 468/500\n",
      "5/5 [==============================] - 1s 131ms/step - loss: 0.0645 - categorical_accuracy: 1.0000\n",
      "Epoch 469/500\n",
      "5/5 [==============================] - 1s 137ms/step - loss: 0.0668 - categorical_accuracy: 1.0000\n",
      "Epoch 470/500\n",
      "5/5 [==============================] - 1s 129ms/step - loss: 0.0664 - categorical_accuracy: 1.0000\n",
      "Epoch 471/500\n",
      "5/5 [==============================] - 1s 136ms/step - loss: 0.0656 - categorical_accuracy: 1.0000\n",
      "Epoch 472/500\n",
      "5/5 [==============================] - 1s 136ms/step - loss: 0.0651 - categorical_accuracy: 1.0000\n",
      "Epoch 473/500\n",
      "5/5 [==============================] - 1s 128ms/step - loss: 0.0640 - categorical_accuracy: 1.0000\n",
      "Epoch 474/500\n",
      "5/5 [==============================] - 1s 133ms/step - loss: 0.0646 - categorical_accuracy: 1.0000\n",
      "Epoch 475/500\n",
      "5/5 [==============================] - 1s 131ms/step - loss: 0.0655 - categorical_accuracy: 1.0000\n",
      "Epoch 476/500\n",
      "5/5 [==============================] - 1s 126ms/step - loss: 0.0660 - categorical_accuracy: 1.0000\n",
      "Epoch 477/500\n",
      "5/5 [==============================] - 1s 132ms/step - loss: 0.0649 - categorical_accuracy: 1.0000\n",
      "Epoch 478/500\n",
      "5/5 [==============================] - 1s 130ms/step - loss: 0.0637 - categorical_accuracy: 1.0000\n",
      "Epoch 479/500\n",
      "5/5 [==============================] - 1s 130ms/step - loss: 0.0627 - categorical_accuracy: 1.0000\n",
      "Epoch 480/500\n",
      "5/5 [==============================] - 1s 130ms/step - loss: 0.0630 - categorical_accuracy: 1.0000\n",
      "Epoch 481/500\n",
      "5/5 [==============================] - 1s 132ms/step - loss: 0.0631 - categorical_accuracy: 1.0000\n",
      "Epoch 482/500\n",
      "5/5 [==============================] - 1s 132ms/step - loss: 0.0625 - categorical_accuracy: 1.0000\n",
      "Epoch 483/500\n",
      "5/5 [==============================] - 1s 129ms/step - loss: 0.0608 - categorical_accuracy: 1.0000\n",
      "Epoch 484/500\n",
      "5/5 [==============================] - 1s 131ms/step - loss: 0.0621 - categorical_accuracy: 1.0000\n",
      "Epoch 485/500\n",
      "5/5 [==============================] - 1s 130ms/step - loss: 0.0616 - categorical_accuracy: 1.0000\n",
      "Epoch 486/500\n",
      "5/5 [==============================] - 1s 131ms/step - loss: 0.0615 - categorical_accuracy: 1.0000\n",
      "Epoch 487/500\n",
      "5/5 [==============================] - 1s 130ms/step - loss: 0.0609 - categorical_accuracy: 1.0000\n",
      "Epoch 488/500\n",
      "5/5 [==============================] - 1s 133ms/step - loss: 0.0619 - categorical_accuracy: 1.0000\n",
      "Epoch 489/500\n",
      "5/5 [==============================] - 1s 133ms/step - loss: 0.0603 - categorical_accuracy: 1.0000\n",
      "Epoch 490/500\n",
      "5/5 [==============================] - 1s 134ms/step - loss: 0.0605 - categorical_accuracy: 1.0000\n",
      "Epoch 491/500\n",
      "5/5 [==============================] - 1s 135ms/step - loss: 0.0603 - categorical_accuracy: 1.0000\n",
      "Epoch 492/500\n",
      "5/5 [==============================] - 1s 128ms/step - loss: 0.0599 - categorical_accuracy: 1.0000\n",
      "Epoch 493/500\n",
      "5/5 [==============================] - 1s 131ms/step - loss: 0.0581 - categorical_accuracy: 1.0000\n",
      "Epoch 494/500\n",
      "5/5 [==============================] - 1s 130ms/step - loss: 0.0600 - categorical_accuracy: 1.0000\n",
      "Epoch 495/500\n",
      "5/5 [==============================] - 1s 126ms/step - loss: 0.0585 - categorical_accuracy: 1.0000\n",
      "Epoch 496/500\n",
      "5/5 [==============================] - 1s 132ms/step - loss: 0.0594 - categorical_accuracy: 1.0000\n",
      "Epoch 497/500\n",
      "5/5 [==============================] - 1s 131ms/step - loss: 0.0578 - categorical_accuracy: 1.0000\n",
      "Epoch 498/500\n",
      "5/5 [==============================] - 1s 122ms/step - loss: 0.0581 - categorical_accuracy: 1.0000\n",
      "Epoch 499/500\n",
      "5/5 [==============================] - 1s 129ms/step - loss: 0.0581 - categorical_accuracy: 1.0000\n",
      "Epoch 500/500\n",
      "5/5 [==============================] - 1s 134ms/step - loss: 0.0580 - categorical_accuracy: 1.0000\n"
     ]
    }
   ],
   "source": [
    "h = md.fit(X_train, y_train, batch_size=128,\n",
    "        epochs = 500, callbacks=[tb_callback]) # tensorboard_callback\n",
    "# LOG파일안에 들어감"
   ]
  },
  {
   "cell_type": "code",
   "execution_count": 51,
   "metadata": {},
   "outputs": [
    {
     "name": "stdout",
     "output_type": "stream",
     "text": [
      "Model: \"sequential\"\n",
      "_________________________________________________________________\n",
      "Layer (type)                 Output Shape              Param #   \n",
      "=================================================================\n",
      "lstm (LSTM)                  (None, 50, 128)           916992    \n",
      "_________________________________________________________________\n",
      "lstm_1 (LSTM)                (None, 50, 64)            49408     \n",
      "_________________________________________________________________\n",
      "lstm_2 (LSTM)                (None, 32)                12416     \n",
      "_________________________________________________________________\n",
      "dense (Dense)                (None, 64)                2112      \n",
      "_________________________________________________________________\n",
      "dense_1 (Dense)              (None, 32)                2080      \n",
      "_________________________________________________________________\n",
      "dense_2 (Dense)              (None, 20)                660       \n",
      "=================================================================\n",
      "Total params: 983,668\n",
      "Trainable params: 983,668\n",
      "Non-trainable params: 0\n",
      "_________________________________________________________________\n"
     ]
    }
   ],
   "source": [
    "md.summary()"
   ]
  },
  {
   "cell_type": "code",
   "execution_count": 59,
   "metadata": {},
   "outputs": [
    {
     "ename": "NameError",
     "evalue": "name 'h' is not defined",
     "output_type": "error",
     "traceback": [
      "\u001b[1;31m---------------------------------------------------------------------------\u001b[0m",
      "\u001b[1;31mNameError\u001b[0m                                 Traceback (most recent call last)",
      "\u001b[1;32m<ipython-input-59-f7aa05fda9be>\u001b[0m in \u001b[0;36m<module>\u001b[1;34m\u001b[0m\n\u001b[0;32m      3\u001b[0m \u001b[1;33m\u001b[0m\u001b[0m\n\u001b[0;32m      4\u001b[0m plt.plot(range(1, 501, 1),\n\u001b[1;32m----> 5\u001b[1;33m          \u001b[0mh\u001b[0m\u001b[1;33m.\u001b[0m\u001b[0mhistory\u001b[0m\u001b[1;33m[\u001b[0m\u001b[1;34m'categorical_accuracy'\u001b[0m\u001b[1;33m]\u001b[0m\u001b[1;33m,\u001b[0m\u001b[1;33m\u001b[0m\u001b[1;33m\u001b[0m\u001b[0m\n\u001b[0m\u001b[0;32m      6\u001b[0m          \u001b[0mlabel\u001b[0m\u001b[1;33m=\u001b[0m\u001b[1;34m'categorical_accuracy'\u001b[0m\u001b[1;33m\u001b[0m\u001b[1;33m\u001b[0m\u001b[0m\n\u001b[0;32m      7\u001b[0m          )\n",
      "\u001b[1;31mNameError\u001b[0m: name 'h' is not defined"
     ]
    },
    {
     "data": {
      "text/plain": [
       "<Figure size 1080x360 with 0 Axes>"
      ]
     },
     "metadata": {},
     "output_type": "display_data"
    }
   ],
   "source": [
    "# 시각화\n",
    "plt.figure(figsize=(15, 5))\n",
    "\n",
    "plt.plot(range(1, 501, 1),\n",
    "         h.history['categorical_accuracy'],\n",
    "         label='categorical_accuracy'\n",
    "         )\n",
    "\n",
    "plt.plot(range(1, 501, 1),\n",
    "         h.history['loss'],\n",
    "         label='loss'\n",
    "         )\n",
    "plt.grid()\n",
    "plt.legend()\n",
    "plt.show()"
   ]
  },
  {
   "cell_type": "code",
   "execution_count": 53,
   "metadata": {},
   "outputs": [],
   "source": [
    "res = md.predict(X_test)"
   ]
  },
  {
   "cell_type": "code",
   "execution_count": 118,
   "metadata": {},
   "outputs": [
    {
     "name": "stdout",
     "output_type": "stream",
     "text": [
      "C1\n",
      "C16\n",
      "==============================\n",
      "C1\n",
      "C13\n",
      "==============================\n",
      "C1\n",
      "C5\n",
      "==============================\n",
      "C1\n",
      "C19\n",
      "==============================\n",
      "C1\n",
      "C5\n",
      "==============================\n",
      "C1\n",
      "C20\n",
      "==============================\n",
      "C1\n",
      "C20\n",
      "==============================\n",
      "C1\n",
      "C14\n",
      "==============================\n",
      "C1\n",
      "C10\n",
      "==============================\n",
      "C1\n",
      "C7\n",
      "==============================\n"
     ]
    }
   ],
   "source": [
    "for i in range(0,10):\n",
    "    actions[np.argmax(res[i])]\n",
    "    actions[np.argmax(y_test[i])]\n",
    "    print(actions[np.argmax(res[i])])\n",
    "    print(actions[np.argmax(y_test[i])])\n",
    "    print(\"==============================\")"
   ]
  },
  {
   "cell_type": "code",
   "execution_count": 117,
   "metadata": {},
   "outputs": [
    {
     "data": {
      "text/plain": [
       "'C1'"
      ]
     },
     "execution_count": 117,
     "metadata": {},
     "output_type": "execute_result"
    }
   ],
   "source": [
    "#np.sum(res[0])\n",
    "actions[np.argmax(res[3])]\n",
    "#actions[3]"
   ]
  },
  {
   "cell_type": "code",
   "execution_count": 57,
   "metadata": {},
   "outputs": [
    {
     "data": {
      "text/plain": [
       "'C3'"
      ]
     },
     "execution_count": 57,
     "metadata": {},
     "output_type": "execute_result"
    }
   ],
   "source": [
    "actions[np.argmax(y_test[6])]"
   ]
  },
  {
   "cell_type": "code",
   "execution_count": 58,
   "metadata": {},
   "outputs": [],
   "source": [
    "md.save('action.h5')"
   ]
  },
  {
   "cell_type": "code",
   "execution_count": 52,
   "metadata": {},
   "outputs": [],
   "source": [
    "md.load_weights('action.h5')"
   ]
  },
  {
   "cell_type": "code",
   "execution_count": 53,
   "metadata": {},
   "outputs": [],
   "source": [
    "from sklearn.metrics import multilabel_confusion_matrix,accuracy_score "
   ]
  },
  {
   "cell_type": "code",
   "execution_count": 54,
   "metadata": {},
   "outputs": [],
   "source": [
    "yhat = md.predict(X_train)"
   ]
  },
  {
   "cell_type": "code",
   "execution_count": 55,
   "metadata": {},
   "outputs": [],
   "source": [
    "ytrue = np.argmax(y_train, axis=1).tolist()\n",
    "yhat = np.argmax(yhat, axis=1).tolist()"
   ]
  },
  {
   "cell_type": "code",
   "execution_count": 56,
   "metadata": {},
   "outputs": [
    {
     "data": {
      "text/plain": [
       "array([[[141,   0],\n",
       "        [  0,   9]],\n",
       "\n",
       "       [[143,   0],\n",
       "        [  0,   7]],\n",
       "\n",
       "       [[144,   0],\n",
       "        [  0,   6]],\n",
       "\n",
       "       [[142,   0],\n",
       "        [  0,   8]],\n",
       "\n",
       "       [[143,   0],\n",
       "        [  0,   7]],\n",
       "\n",
       "       [[142,   0],\n",
       "        [  0,   8]],\n",
       "\n",
       "       [[141,   0],\n",
       "        [  0,   9]],\n",
       "\n",
       "       [[141,   0],\n",
       "        [  0,   9]],\n",
       "\n",
       "       [[143,   0],\n",
       "        [  0,   7]],\n",
       "\n",
       "       [[143,   0],\n",
       "        [  0,   7]],\n",
       "\n",
       "       [[144,   0],\n",
       "        [  0,   6]],\n",
       "\n",
       "       [[143,   0],\n",
       "        [  0,   7]],\n",
       "\n",
       "       [[142,   0],\n",
       "        [  0,   8]],\n",
       "\n",
       "       [[142,   0],\n",
       "        [  0,   8]],\n",
       "\n",
       "       [[143,   0],\n",
       "        [  0,   7]],\n",
       "\n",
       "       [[141,   0],\n",
       "        [  0,   9]],\n",
       "\n",
       "       [[140,   0],\n",
       "        [  0,  10]],\n",
       "\n",
       "       [[144,   0],\n",
       "        [  0,   6]],\n",
       "\n",
       "       [[145,   0],\n",
       "        [  0,   5]],\n",
       "\n",
       "       [[143,   0],\n",
       "        [  0,   7]]], dtype=int64)"
      ]
     },
     "execution_count": 56,
     "metadata": {},
     "output_type": "execute_result"
    }
   ],
   "source": [
    "multilabel_confusion_matrix(ytrue, yhat)"
   ]
  },
  {
   "cell_type": "code",
   "execution_count": 57,
   "metadata": {},
   "outputs": [
    {
     "data": {
      "text/plain": [
       "1.0"
      ]
     },
     "execution_count": 57,
     "metadata": {},
     "output_type": "execute_result"
    }
   ],
   "source": [
    "accuracy_score(ytrue, yhat)"
   ]
  },
  {
   "cell_type": "code",
   "execution_count": 58,
   "metadata": {},
   "outputs": [
    {
     "ename": "RuntimeError",
     "evalue": "You must compile your model before training/testing. Use `model.compile(optimizer, loss)`.",
     "output_type": "error",
     "traceback": [
      "\u001b[1;31m---------------------------------------------------------------------------\u001b[0m",
      "\u001b[1;31mRuntimeError\u001b[0m                              Traceback (most recent call last)",
      "\u001b[1;32m<ipython-input-58-e74e225ecbf3>\u001b[0m in \u001b[0;36m<module>\u001b[1;34m\u001b[0m\n\u001b[1;32m----> 1\u001b[1;33m \u001b[0mmd\u001b[0m\u001b[1;33m.\u001b[0m\u001b[0mevaluate\u001b[0m\u001b[1;33m(\u001b[0m\u001b[0mX_test\u001b[0m\u001b[1;33m,\u001b[0m \u001b[0my_test\u001b[0m\u001b[1;33m)\u001b[0m\u001b[1;33m\u001b[0m\u001b[1;33m\u001b[0m\u001b[0m\n\u001b[0m",
      "\u001b[1;32m~\\anaconda3\\lib\\site-packages\\tensorflow\\python\\keras\\engine\\training.py\u001b[0m in \u001b[0;36mevaluate\u001b[1;34m(self, x, y, batch_size, verbose, sample_weight, steps, callbacks, max_queue_size, workers, use_multiprocessing, return_dict)\u001b[0m\n\u001b[0;32m   1340\u001b[0m     \u001b[0mbase_layer\u001b[0m\u001b[1;33m.\u001b[0m\u001b[0mkeras_api_gauge\u001b[0m\u001b[1;33m.\u001b[0m\u001b[0mget_cell\u001b[0m\u001b[1;33m(\u001b[0m\u001b[1;34m'evaluate'\u001b[0m\u001b[1;33m)\u001b[0m\u001b[1;33m.\u001b[0m\u001b[0mset\u001b[0m\u001b[1;33m(\u001b[0m\u001b[1;32mTrue\u001b[0m\u001b[1;33m)\u001b[0m\u001b[1;33m\u001b[0m\u001b[1;33m\u001b[0m\u001b[0m\n\u001b[0;32m   1341\u001b[0m     \u001b[0mversion_utils\u001b[0m\u001b[1;33m.\u001b[0m\u001b[0mdisallow_legacy_graph\u001b[0m\u001b[1;33m(\u001b[0m\u001b[1;34m'Model'\u001b[0m\u001b[1;33m,\u001b[0m \u001b[1;34m'evaluate'\u001b[0m\u001b[1;33m)\u001b[0m\u001b[1;33m\u001b[0m\u001b[1;33m\u001b[0m\u001b[0m\n\u001b[1;32m-> 1342\u001b[1;33m     \u001b[0mself\u001b[0m\u001b[1;33m.\u001b[0m\u001b[0m_assert_compile_was_called\u001b[0m\u001b[1;33m(\u001b[0m\u001b[1;33m)\u001b[0m\u001b[1;33m\u001b[0m\u001b[1;33m\u001b[0m\u001b[0m\n\u001b[0m\u001b[0;32m   1343\u001b[0m     \u001b[0mself\u001b[0m\u001b[1;33m.\u001b[0m\u001b[0m_check_call_args\u001b[0m\u001b[1;33m(\u001b[0m\u001b[1;34m'evaluate'\u001b[0m\u001b[1;33m)\u001b[0m\u001b[1;33m\u001b[0m\u001b[1;33m\u001b[0m\u001b[0m\n\u001b[0;32m   1344\u001b[0m     \u001b[0m_disallow_inside_tf_function\u001b[0m\u001b[1;33m(\u001b[0m\u001b[1;34m'evaluate'\u001b[0m\u001b[1;33m)\u001b[0m\u001b[1;33m\u001b[0m\u001b[1;33m\u001b[0m\u001b[0m\n",
      "\u001b[1;32m~\\anaconda3\\lib\\site-packages\\tensorflow\\python\\keras\\engine\\training.py\u001b[0m in \u001b[0;36m_assert_compile_was_called\u001b[1;34m(self)\u001b[0m\n\u001b[0;32m   2590\u001b[0m     \u001b[1;31m# (i.e. whether the model is built and its inputs/outputs are set).\u001b[0m\u001b[1;33m\u001b[0m\u001b[1;33m\u001b[0m\u001b[1;33m\u001b[0m\u001b[0m\n\u001b[0;32m   2591\u001b[0m     \u001b[1;32mif\u001b[0m \u001b[1;32mnot\u001b[0m \u001b[0mself\u001b[0m\u001b[1;33m.\u001b[0m\u001b[0m_is_compiled\u001b[0m\u001b[1;33m:\u001b[0m\u001b[1;33m\u001b[0m\u001b[1;33m\u001b[0m\u001b[0m\n\u001b[1;32m-> 2592\u001b[1;33m       raise RuntimeError('You must compile your model before '\n\u001b[0m\u001b[0;32m   2593\u001b[0m                          \u001b[1;34m'training/testing. '\u001b[0m\u001b[1;33m\u001b[0m\u001b[1;33m\u001b[0m\u001b[0m\n\u001b[0;32m   2594\u001b[0m                          'Use `model.compile(optimizer, loss)`.')\n",
      "\u001b[1;31mRuntimeError\u001b[0m: You must compile your model before training/testing. Use `model.compile(optimizer, loss)`."
     ]
    }
   ],
   "source": [
    "md.evaluate(X_test, y_test)"
   ]
  },
  {
   "cell_type": "code",
   "execution_count": 65,
   "metadata": {},
   "outputs": [],
   "source": [
    "colors = [(245,117,16),(117,245,16),(16,117,245),(245,117,16),(117,245,16),(16,117,245),(245,117,16)\n",
    "         ,(117,245,16),(16,117,245),(245,117,16),(117,245,16),(16,117,245),(245,117,16),(117,245,16),(16,117,245),\n",
    "         (245,117,16),(117,245,16),(16,117,245),(245,117,16)]\n",
    "def prob_viz(res,actions,input_frame,colors):\n",
    "    output_frame = input_frame.copy()\n",
    "    for num, prob in enumerate(res):\n",
    "        cv2.rectangle(output_frame, (0,60+num*40),(int(prob*100),90+num*40),colors[num],-1)\n",
    "        cv2.putText(output_frame, actions[num],(0,85+num*40),cv2.FONT_HERSHEY_SIMPLEX,1,\n",
    "                    (255,255,255),2,cv2.LINE_AA)\n",
    "        \n",
    "    return output_frame"
   ]
  },
  {
   "cell_type": "code",
   "execution_count": 66,
   "metadata": {},
   "outputs": [
    {
     "data": {
      "text/plain": [
       "array([4.8377425e-03, 1.0016668e-02, 7.0269720e-04, 5.3595090e-03,\n",
       "       4.5815081e-04, 6.6672466e-03, 2.2623543e-02, 1.9071011e-02,\n",
       "       4.3913402e-04, 5.3634332e-04, 8.2387322e-01, 1.0268092e-02,\n",
       "       6.7437831e-03, 3.7950932e-03, 8.0697500e-04, 5.9810273e-02,\n",
       "       2.6893665e-04, 4.9014268e-03, 1.1262407e-02, 7.5577516e-03],\n",
       "      dtype=float32)"
      ]
     },
     "execution_count": 66,
     "metadata": {},
     "output_type": "execute_result"
    }
   ],
   "source": [
    "res"
   ]
  },
  {
   "cell_type": "code",
   "execution_count": 111,
   "metadata": {},
   "outputs": [
    {
     "name": "stdout",
     "output_type": "stream",
     "text": [
      "C2\n",
      "C2\n",
      "C2\n",
      "C2\n",
      "C2\n",
      "C8\n",
      "C8\n",
      "C2\n",
      "C2\n",
      "C2\n",
      "C2\n",
      "C2\n",
      "C2\n",
      "C2\n",
      "C2\n",
      "C2\n",
      "C2\n",
      "C2\n",
      "C2\n",
      "C2\n",
      "C2\n",
      "C2\n",
      "C2\n",
      "C8\n",
      "C8\n",
      "C8\n",
      "C8\n",
      "C8\n",
      "C8\n",
      "C8\n",
      "C8\n",
      "C8\n",
      "C8\n",
      "C8\n",
      "C8\n",
      "C8\n",
      "C8\n",
      "C12\n",
      "C12\n",
      "C8\n",
      "C8\n",
      "C8\n",
      "C8\n",
      "C8\n",
      "C8\n",
      "C8\n",
      "C8\n",
      "result\n",
      "C8\n"
     ]
    }
   ],
   "source": [
    "import cv2\n",
    "# 1. New detection variables\n",
    "sequence = []\n",
    "sentence = []\n",
    "threshold = 0.9\n",
    "predictions = []\n",
    "def most_frequent(data):\n",
    "    return max(data, key=data.count)\n",
    "#cap = cv2.VideoCapture(\"C:\\\\Users\\\\21SMT17\\\\Desktop\\\\수어 영상\\\\1.Training\\\\[원천]01_real_word_video\\\\01\\\\NIA_SL_WORD1771_REAL01_F.mp4\")\n",
    "cap = cv2.VideoCapture(\"./img/C2.mp4\")\n",
    "#cap = cv2.VideoCapture(0)\n",
    "# Set mediapipe model\n",
    "\n",
    "with mp_holistic.Holistic(min_detection_confidence=0.5, min_tracking_confidence=0.5) as holistic:   \n",
    "    while cap.isOpened():\n",
    "    \n",
    "        # read feed\n",
    "        \n",
    "        ret, frame = cap.read()\n",
    "#        frame = imutils.resize(frame, width=800)\n",
    "        if not ret:\n",
    "            #print(\"비디오 읽기 실패 / 비디오 모두 읽음\")\n",
    "            print(\"result\")\n",
    "            cap.release()   # 비디오 읽기 종료\n",
    "            cv2.destroyAllWindows()  # 새로 연 창을 모두 닫아줌\n",
    "            break\n",
    "            \n",
    "        # Make detections\n",
    "        image, results = mediapipe_detection(frame,holistic)\n",
    "#         print(results)\n",
    "        \n",
    "        # Draw landmarks\n",
    "        draw_styled_landmarks(image, results)\n",
    "        \n",
    "        #2. Prediction logic\n",
    "        keypoints = extract_keypoints(results)\n",
    "#        sequence.insert(0,keypoints)\n",
    "#        sequence = sequence[:30]\n",
    "        sequence.append(keypoints)\n",
    "        sequence = sequence[-50:]\n",
    "        \n",
    "        if len(sequence) == 50 :  # 30 프레임            \n",
    "            res = md.predict(np.expand_dims(sequence, axis=0))[0]\n",
    "            print(actions[np.argmax(res)])\n",
    "    \n",
    "# #         # 3. Viz logic\n",
    "#        if np.unique(predictions[-10:])==np.argmax(res): \n",
    "        if res[np.argmax(res)].any() > threshold: # 정확도\n",
    "            if len(sentence) > 0:\n",
    "                if actions[np.argmax(res)] != sentence[-1]:\n",
    "                    sentence.append(actions[np.argmax(res)])\n",
    "                    #print(actions[np.argmax(res)])\n",
    "            else : \n",
    "                sentence.append(actions[np.argmax(res)])\n",
    "                \n",
    "        \n",
    "#         if len(sentence) > 3 : #화면출력 글자 수\n",
    "#             sentence = sentence[-3:]\n",
    "                \n",
    "#        # VIz probabilities\n",
    "#        image = prob_viz(res, actions, image, colors)\n",
    "            \n",
    "#         cv2.rectangle(image, (0,0), (640,40), (245, 117, 16), -1)\n",
    "#         cv2.putText(image, ' '.join(sentence), (3,30),\n",
    "#                     cv2.FONT_HERSHEY_SIMPLEX,1, (255,255,255), 2, cv2.LINE_AA)\n",
    "        \n",
    "        # show to screen\n",
    "        cv2.imshow('OpenCV Feed', image)\n",
    "\n",
    "        # Break gracefully\n",
    "        if cv2.waitKey(10) & 0xFF == ord('q'):\n",
    "            break\n",
    "    print(actions[np.argmax(res)])\n",
    "    cap.release()\n",
    "    cv2.destroyAllWindows()\n",
    "#print(most_frequent(sentence))"
   ]
  },
  {
   "cell_type": "code",
   "execution_count": 103,
   "metadata": {},
   "outputs": [],
   "source": [
    "cap.release()\n",
    "cv2.destroyAllWindows()"
   ]
  },
  {
   "cell_type": "code",
   "execution_count": 80,
   "metadata": {},
   "outputs": [
    {
     "data": {
      "text/plain": [
       "'C2'"
      ]
     },
     "execution_count": 80,
     "metadata": {},
     "output_type": "execute_result"
    }
   ],
   "source": [
    "actions[np.argmax(res)]"
   ]
  },
  {
   "cell_type": "code",
   "execution_count": 93,
   "metadata": {},
   "outputs": [
    {
     "data": {
      "text/plain": [
       "True"
      ]
     },
     "execution_count": 93,
     "metadata": {},
     "output_type": "execute_result"
    }
   ],
   "source": [
    "res[np.argmax(res)] > threshold"
   ]
  },
  {
   "cell_type": "code",
   "execution_count": 162,
   "metadata": {},
   "outputs": [],
   "source": [
    "cap.release()\n",
    "cv2.destroyAllWindows()"
   ]
  },
  {
   "cell_type": "code",
   "execution_count": 95,
   "metadata": {},
   "outputs": [
    {
     "data": {
      "text/plain": [
       "array([[[ 0.50501913,  0.2383828 , -0.33864751, ...,  0.40609717,\n",
       "          0.95640504,  0.03483533],\n",
       "        [ 0.50501168,  0.23563646, -0.3421663 , ...,  0.40827882,\n",
       "          0.94811821,  0.03717453],\n",
       "        [ 0.50495642,  0.23399298, -0.3708778 , ...,  0.41251111,\n",
       "          0.94127142,  0.02812738],\n",
       "        ...,\n",
       "        [ 0.50673157,  0.24319147, -0.25979263, ...,  0.        ,\n",
       "          0.        ,  0.        ],\n",
       "        [ 0.50583136,  0.24316476, -0.27586406, ...,  0.43466455,\n",
       "          0.35418546, -0.06071239],\n",
       "        [ 0.50506914,  0.24269697, -0.30533764, ...,  0.42042333,\n",
       "          0.3390345 , -0.04357424]]])"
      ]
     },
     "execution_count": 95,
     "metadata": {},
     "output_type": "execute_result"
    }
   ],
   "source": [
    "np.expand_dims(X_test[0], axis=0)"
   ]
  },
  {
   "cell_type": "code",
   "execution_count": 96,
   "metadata": {},
   "outputs": [
    {
     "data": {
      "text/plain": [
       "array([[2.3925745e-04, 2.5759581e-03, 1.9768402e-03, 3.1190534e-04,\n",
       "        5.2450381e-05, 9.6837246e-01, 1.8717400e-03, 2.9972184e-03,\n",
       "        8.5198809e-04, 2.5225597e-04, 2.6976778e-03, 8.0130274e-05,\n",
       "        3.6315713e-03, 1.9323592e-03, 1.1952552e-03, 1.1286653e-04,\n",
       "        1.3689073e-03, 5.6047798e-03, 1.8656834e-03, 2.0086193e-03]],\n",
       "      dtype=float32)"
      ]
     },
     "execution_count": 96,
     "metadata": {},
     "output_type": "execute_result"
    }
   ],
   "source": [
    "md.predict(np.expand_dims(X_test[0], axis=0))"
   ]
  },
  {
   "cell_type": "code",
   "execution_count": null,
   "metadata": {},
   "outputs": [],
   "source": []
  }
 ],
 "metadata": {
  "kernelspec": {
   "display_name": "Python 3",
   "language": "python",
   "name": "python3"
  },
  "language_info": {
   "codemirror_mode": {
    "name": "ipython",
    "version": 3
   },
   "file_extension": ".py",
   "mimetype": "text/x-python",
   "name": "python",
   "nbconvert_exporter": "python",
   "pygments_lexer": "ipython3",
   "version": "3.8.5"
  },
  "toc": {
   "base_numbering": 1,
   "nav_menu": {},
   "number_sections": true,
   "sideBar": true,
   "skip_h1_title": false,
   "title_cell": "Table of Contents",
   "title_sidebar": "Contents",
   "toc_cell": false,
   "toc_position": {},
   "toc_section_display": true,
   "toc_window_display": false
  }
 },
 "nbformat": 4,
 "nbformat_minor": 4
}
