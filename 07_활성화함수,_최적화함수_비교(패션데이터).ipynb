{
  "nbformat": 4,
  "nbformat_minor": 0,
  "metadata": {
    "colab": {
      "name": "07_활성화함수, 최적화함수 비교(패션데이터)",
      "provenance": [],
      "collapsed_sections": [],
      "mount_file_id": "14NbJcq8414IZYqIlhsPjjw3ktTJuRBf3",
      "authorship_tag": "ABX9TyMI8b5P7RK6k/wZsumWy51q",
      "include_colab_link": true
    },
    "kernelspec": {
      "name": "python3",
      "display_name": "Python 3"
    },
    "language_info": {
      "name": "python"
    },
    "accelerator": "GPU"
  },
  "cells": [
    {
      "cell_type": "markdown",
      "metadata": {
        "id": "view-in-github",
        "colab_type": "text"
      },
      "source": [
        "<a href=\"https://colab.research.google.com/github/gudals6676/Deep_Learning/blob/main/07_%ED%99%9C%EC%84%B1%ED%99%94%ED%95%A8%EC%88%98%2C_%EC%B5%9C%EC%A0%81%ED%99%94%ED%95%A8%EC%88%98_%EB%B9%84%EA%B5%90(%ED%8C%A8%EC%85%98%EB%8D%B0%EC%9D%B4%ED%84%B0).ipynb\" target=\"_parent\"><img src=\"https://colab.research.google.com/assets/colab-badge.svg\" alt=\"Open In Colab\"/></a>"
      ]
    },
    {
      "cell_type": "markdown",
      "metadata": {
        "id": "TE6inEWuAL8h"
      },
      "source": [
        "### 목표\n",
        "- 한 번 실습했던 패션데이터를 가지고 활성화함수, 최적화함수를 변화시켜가며 확인해보자!\n"
      ]
    },
    {
      "cell_type": "code",
      "metadata": {
        "id": "-LhfGsjt9Y4-"
      },
      "source": [
        "import numpy as np\n",
        "import pandas as pd\n",
        "import matplotlib.pyplot as plt\n",
        "from tensorflow.keras.datasets import fashion_mnist"
      ],
      "execution_count": null,
      "outputs": []
    },
    {
      "cell_type": "code",
      "metadata": {
        "colab": {
          "base_uri": "https://localhost:8080/"
        },
        "id": "sGG-EyB9M3fV",
        "outputId": "bdea15dc-2c2d-4564-99f8-bdb38a6a4af6"
      },
      "source": [
        "data = fashion_mnist.load_data()\n",
        "data"
      ],
      "execution_count": null,
      "outputs": [
        {
          "output_type": "stream",
          "text": [
            "Downloading data from https://storage.googleapis.com/tensorflow/tf-keras-datasets/train-labels-idx1-ubyte.gz\n",
            "32768/29515 [=================================] - 0s 0us/step\n",
            "Downloading data from https://storage.googleapis.com/tensorflow/tf-keras-datasets/train-images-idx3-ubyte.gz\n",
            "26427392/26421880 [==============================] - 0s 0us/step\n",
            "Downloading data from https://storage.googleapis.com/tensorflow/tf-keras-datasets/t10k-labels-idx1-ubyte.gz\n",
            "8192/5148 [===============================================] - 0s 0us/step\n",
            "Downloading data from https://storage.googleapis.com/tensorflow/tf-keras-datasets/t10k-images-idx3-ubyte.gz\n",
            "4423680/4422102 [==============================] - 0s 0us/step\n"
          ],
          "name": "stdout"
        },
        {
          "output_type": "execute_result",
          "data": {
            "text/plain": [
              "((array([[[0, 0, 0, ..., 0, 0, 0],\n",
              "          [0, 0, 0, ..., 0, 0, 0],\n",
              "          [0, 0, 0, ..., 0, 0, 0],\n",
              "          ...,\n",
              "          [0, 0, 0, ..., 0, 0, 0],\n",
              "          [0, 0, 0, ..., 0, 0, 0],\n",
              "          [0, 0, 0, ..., 0, 0, 0]],\n",
              "  \n",
              "         [[0, 0, 0, ..., 0, 0, 0],\n",
              "          [0, 0, 0, ..., 0, 0, 0],\n",
              "          [0, 0, 0, ..., 0, 0, 0],\n",
              "          ...,\n",
              "          [0, 0, 0, ..., 0, 0, 0],\n",
              "          [0, 0, 0, ..., 0, 0, 0],\n",
              "          [0, 0, 0, ..., 0, 0, 0]],\n",
              "  \n",
              "         [[0, 0, 0, ..., 0, 0, 0],\n",
              "          [0, 0, 0, ..., 0, 0, 0],\n",
              "          [0, 0, 0, ..., 0, 0, 0],\n",
              "          ...,\n",
              "          [0, 0, 0, ..., 0, 0, 0],\n",
              "          [0, 0, 0, ..., 0, 0, 0],\n",
              "          [0, 0, 0, ..., 0, 0, 0]],\n",
              "  \n",
              "         ...,\n",
              "  \n",
              "         [[0, 0, 0, ..., 0, 0, 0],\n",
              "          [0, 0, 0, ..., 0, 0, 0],\n",
              "          [0, 0, 0, ..., 0, 0, 0],\n",
              "          ...,\n",
              "          [0, 0, 0, ..., 0, 0, 0],\n",
              "          [0, 0, 0, ..., 0, 0, 0],\n",
              "          [0, 0, 0, ..., 0, 0, 0]],\n",
              "  \n",
              "         [[0, 0, 0, ..., 0, 0, 0],\n",
              "          [0, 0, 0, ..., 0, 0, 0],\n",
              "          [0, 0, 0, ..., 0, 0, 0],\n",
              "          ...,\n",
              "          [0, 0, 0, ..., 0, 0, 0],\n",
              "          [0, 0, 0, ..., 0, 0, 0],\n",
              "          [0, 0, 0, ..., 0, 0, 0]],\n",
              "  \n",
              "         [[0, 0, 0, ..., 0, 0, 0],\n",
              "          [0, 0, 0, ..., 0, 0, 0],\n",
              "          [0, 0, 0, ..., 0, 0, 0],\n",
              "          ...,\n",
              "          [0, 0, 0, ..., 0, 0, 0],\n",
              "          [0, 0, 0, ..., 0, 0, 0],\n",
              "          [0, 0, 0, ..., 0, 0, 0]]], dtype=uint8),\n",
              "  array([9, 0, 0, ..., 3, 0, 5], dtype=uint8)),\n",
              " (array([[[0, 0, 0, ..., 0, 0, 0],\n",
              "          [0, 0, 0, ..., 0, 0, 0],\n",
              "          [0, 0, 0, ..., 0, 0, 0],\n",
              "          ...,\n",
              "          [0, 0, 0, ..., 0, 0, 0],\n",
              "          [0, 0, 0, ..., 0, 0, 0],\n",
              "          [0, 0, 0, ..., 0, 0, 0]],\n",
              "  \n",
              "         [[0, 0, 0, ..., 0, 0, 0],\n",
              "          [0, 0, 0, ..., 0, 0, 0],\n",
              "          [0, 0, 0, ..., 0, 0, 0],\n",
              "          ...,\n",
              "          [0, 0, 0, ..., 0, 0, 0],\n",
              "          [0, 0, 0, ..., 0, 0, 0],\n",
              "          [0, 0, 0, ..., 0, 0, 0]],\n",
              "  \n",
              "         [[0, 0, 0, ..., 0, 0, 0],\n",
              "          [0, 0, 0, ..., 0, 0, 0],\n",
              "          [0, 0, 0, ..., 0, 0, 0],\n",
              "          ...,\n",
              "          [0, 0, 0, ..., 0, 0, 0],\n",
              "          [0, 0, 0, ..., 0, 0, 0],\n",
              "          [0, 0, 0, ..., 0, 0, 0]],\n",
              "  \n",
              "         ...,\n",
              "  \n",
              "         [[0, 0, 0, ..., 0, 0, 0],\n",
              "          [0, 0, 0, ..., 0, 0, 0],\n",
              "          [0, 0, 0, ..., 0, 0, 0],\n",
              "          ...,\n",
              "          [0, 0, 0, ..., 0, 0, 0],\n",
              "          [0, 0, 0, ..., 0, 0, 0],\n",
              "          [0, 0, 0, ..., 0, 0, 0]],\n",
              "  \n",
              "         [[0, 0, 0, ..., 0, 0, 0],\n",
              "          [0, 0, 0, ..., 0, 0, 0],\n",
              "          [0, 0, 0, ..., 0, 0, 0],\n",
              "          ...,\n",
              "          [0, 0, 0, ..., 0, 0, 0],\n",
              "          [0, 0, 0, ..., 0, 0, 0],\n",
              "          [0, 0, 0, ..., 0, 0, 0]],\n",
              "  \n",
              "         [[0, 0, 0, ..., 0, 0, 0],\n",
              "          [0, 0, 0, ..., 0, 0, 0],\n",
              "          [0, 0, 0, ..., 0, 0, 0],\n",
              "          ...,\n",
              "          [0, 0, 0, ..., 0, 0, 0],\n",
              "          [0, 0, 0, ..., 0, 0, 0],\n",
              "          [0, 0, 0, ..., 0, 0, 0]]], dtype=uint8),\n",
              "  array([9, 2, 1, ..., 8, 1, 5], dtype=uint8)))"
            ]
          },
          "metadata": {
            "tags": []
          },
          "execution_count": 2
        }
      ]
    },
    {
      "cell_type": "code",
      "metadata": {
        "id": "YV2VwXMcM580"
      },
      "source": [
        "(X_train, y_train), (X_test, y_test) = data\n",
        "\n",
        "#X_train = data[0][0]\n",
        "#y_train = data[0][1]\n",
        "#X_test = data[1][0]\n",
        "#y_test = data[1][1]"
      ],
      "execution_count": null,
      "outputs": []
    },
    {
      "cell_type": "code",
      "metadata": {
        "colab": {
          "base_uri": "https://localhost:8080/"
        },
        "id": "ncPk0jHsNFgn",
        "outputId": "e93bdedd-c80f-401d-ac94-44352e0ab119"
      },
      "source": [
        "print(X_train.shape)\n",
        "print(y_train.shape)\n",
        "print(X_test.shape)\n",
        "print(y_test.shape)"
      ],
      "execution_count": null,
      "outputs": [
        {
          "output_type": "stream",
          "text": [
            "(60000, 28, 28)\n",
            "(60000,)\n",
            "(10000, 28, 28)\n",
            "(10000,)\n"
          ],
          "name": "stdout"
        }
      ]
    },
    {
      "cell_type": "markdown",
      "metadata": {
        "id": "FSfc31HGNbUZ"
      },
      "source": [
        "- 정답 데이터 인코딩"
      ]
    },
    {
      "cell_type": "code",
      "metadata": {
        "id": "PAzvBaU0NK1c"
      },
      "source": [
        "y_train_one_hot = pd.get_dummies(y_train)\n",
        "y_test_one_hot = pd.get_dummies(y_test)"
      ],
      "execution_count": null,
      "outputs": []
    },
    {
      "cell_type": "code",
      "metadata": {
        "colab": {
          "base_uri": "https://localhost:8080/"
        },
        "id": "3yQdDRyu2TIF",
        "outputId": "676856b8-9a87-48a3-9839-afbf9f4e3fb8"
      },
      "source": [
        "y_train_one_hot.shape"
      ],
      "execution_count": null,
      "outputs": [
        {
          "output_type": "execute_result",
          "data": {
            "text/plain": [
              "(60000, 10)"
            ]
          },
          "metadata": {
            "tags": []
          },
          "execution_count": 6
        }
      ]
    },
    {
      "cell_type": "markdown",
      "metadata": {
        "id": "c5OVBNEFNp9e"
      },
      "source": [
        "### 활성화함수, 최적화함수 별 비교\n",
        "- 1. 중간층 활성화 함수 : sigmoid, 최적화 함수 : SGD\n",
        "- 2. 중간층 활성화 함수 : relu, 최적화 함수 : SGD\n",
        "- 3. 중간층 활성화 함수 : relu, 최적화 함수 : Adam\n",
        "\n",
        " - 총 3 개의 신경망을 구성하고 그결과를 비교해보자"
      ]
    },
    {
      "cell_type": "code",
      "metadata": {
        "id": "bZwPB9kfNact"
      },
      "source": [
        "# 딥러닝을 위한 라이브러리를 임포트\n",
        "from tensorflow.keras import Sequential     # 신경망의 뼈대를 구성\n",
        "from tensorflow.keras.layers import Dense, Flatten   # 신경망의 층을 구성"
      ],
      "execution_count": null,
      "outputs": []
    },
    {
      "cell_type": "code",
      "metadata": {
        "id": "wdBfKi3fNaal"
      },
      "source": [
        "from tqdm import tqdm"
      ],
      "execution_count": null,
      "outputs": []
    },
    {
      "cell_type": "code",
      "metadata": {
        "colab": {
          "base_uri": "https://localhost:8080/"
        },
        "id": "Q3QBwIBvNaYV",
        "outputId": "7e5f5f78-3b93-4cd8-af41-eee833cfee5d"
      },
      "source": [
        "from tensorflow.python.keras.engine import input_layer\n",
        "md = Sequential()\n",
        "\n",
        "# Flatten 명령을 통해서 한번에 바로 2차원 이미지 데이터를 1차원으로 펴줌\n",
        "md.add(Flatten(input_shape=(28, 28))) # 즉 리쉐입이 필요가 없음\n",
        "\n",
        "\n",
        "# 중간층\n",
        "md.add(Dense(300, activation=\"sigmoid\"))  # 하나의 층\n",
        "md.add(Dense(400, activation=\"sigmoid\"))  # 하나의 층\n",
        "md.add(Dense(300, activation=\"sigmoid\"))  # 하나의 층\n",
        "md.add(Dense(100, activation=\"sigmoid\"))  # 하나의 층\n",
        "\n",
        "\n",
        "# 출력층\n",
        "md.add(Dense(10, activation=\"softmax\"))\n",
        "\n",
        "md.summary()"
      ],
      "execution_count": null,
      "outputs": [
        {
          "output_type": "stream",
          "text": [
            "Model: \"sequential_1\"\n",
            "_________________________________________________________________\n",
            "Layer (type)                 Output Shape              Param #   \n",
            "=================================================================\n",
            "flatten_1 (Flatten)          (None, 784)               0         \n",
            "_________________________________________________________________\n",
            "dense_5 (Dense)              (None, 300)               235500    \n",
            "_________________________________________________________________\n",
            "dense_6 (Dense)              (None, 400)               120400    \n",
            "_________________________________________________________________\n",
            "dense_7 (Dense)              (None, 300)               120300    \n",
            "_________________________________________________________________\n",
            "dense_8 (Dense)              (None, 100)               30100     \n",
            "_________________________________________________________________\n",
            "dense_9 (Dense)              (None, 10)                1010      \n",
            "=================================================================\n",
            "Total params: 507,310\n",
            "Trainable params: 507,310\n",
            "Non-trainable params: 0\n",
            "_________________________________________________________________\n"
          ],
          "name": "stdout"
        }
      ]
    },
    {
      "cell_type": "code",
      "metadata": {
        "id": "j2rRIFT1NaWG"
      },
      "source": [
        "# 2.학습/평가 방법 설정\n",
        "# binary_crossentropy : 2진 분류에 사용하는 손실함수(비용함수)\n",
        "# -> 오차의 평균을 구하는 것은 MSE와 같지만 0~1사이 값으로 변환 후 평균오차를 구하는 방식\n",
        "md.compile(loss=\"categorical_crossentropy\",\n",
        "           optimizer = \"SGD\",          #최적화함수 : 확률적 경사하강법 사용  ,SGD\n",
        "           metrics=[\"acc\"]             #metrics : 평가 방법을 설정(분류 문제이기 때문에 정확도(acc)를 확인)\n",
        "           )"
      ],
      "execution_count": null,
      "outputs": []
    },
    {
      "cell_type": "code",
      "metadata": {
        "colab": {
          "base_uri": "https://localhost:8080/"
        },
        "id": "rBvTgpKiNaTl",
        "outputId": "bb29ef35-12ae-486c-e12e-2bb95fdb88de"
      },
      "source": [
        "h = md.fit(X_train,y_train_one_hot,\n",
        "           validation_split=0.2,\n",
        "           epochs=50, batch_size = 128, verbose = 1)\n",
        "# validation_split : 자동으로 train데이터에서 검증 데이터를 분리시켜주는 명령\n",
        "#verbose : 학습 결과의 출력 형태를 설정하는 명령(0: 출력X, 1: bar형태(디폴트), 2:bar가 없는 형태로 출력)\n",
        "# 주의점 -> 분리시켜줄 때 뒤에서부터 20%를 잘라줌\n",
        "# 일정한 값으로 정렬돼 있는 데이터에는 사용 불가\n",
        "# train_test_spllit 명령으로 사전에 랜덤 샘플링을 진행했기 때문에 바로 validation_split 명령 사용 가능!"
      ],
      "execution_count": null,
      "outputs": [
        {
          "output_type": "stream",
          "text": [
            "Epoch 1/50\n",
            "375/375 [==============================] - 4s 4ms/step - loss: 2.3018 - acc: 0.1240 - val_loss: 2.2899 - val_acc: 0.1998\n",
            "Epoch 2/50\n",
            "375/375 [==============================] - 1s 3ms/step - loss: 2.2821 - acc: 0.2110 - val_loss: 2.2737 - val_acc: 0.2004\n",
            "Epoch 3/50\n",
            "375/375 [==============================] - 1s 3ms/step - loss: 2.2632 - acc: 0.2828 - val_loss: 2.2509 - val_acc: 0.4233\n",
            "Epoch 4/50\n",
            "375/375 [==============================] - 1s 3ms/step - loss: 2.2332 - acc: 0.3582 - val_loss: 2.2117 - val_acc: 0.4137\n",
            "Epoch 5/50\n",
            "375/375 [==============================] - 1s 3ms/step - loss: 2.1758 - acc: 0.3389 - val_loss: 2.1303 - val_acc: 0.3088\n",
            "Epoch 6/50\n",
            "375/375 [==============================] - 1s 3ms/step - loss: 2.0592 - acc: 0.3020 - val_loss: 1.9751 - val_acc: 0.2603\n",
            "Epoch 7/50\n",
            "375/375 [==============================] - 1s 3ms/step - loss: 1.8831 - acc: 0.3121 - val_loss: 1.7973 - val_acc: 0.3201\n",
            "Epoch 8/50\n",
            "375/375 [==============================] - 1s 3ms/step - loss: 1.7353 - acc: 0.3496 - val_loss: 1.6823 - val_acc: 0.3438\n",
            "Epoch 9/50\n",
            "375/375 [==============================] - 1s 3ms/step - loss: 1.6407 - acc: 0.3816 - val_loss: 1.6010 - val_acc: 0.4342\n",
            "Epoch 10/50\n",
            "375/375 [==============================] - 1s 3ms/step - loss: 1.5667 - acc: 0.4145 - val_loss: 1.5304 - val_acc: 0.3994\n",
            "Epoch 11/50\n",
            "375/375 [==============================] - 1s 3ms/step - loss: 1.4997 - acc: 0.4298 - val_loss: 1.4655 - val_acc: 0.4349\n",
            "Epoch 12/50\n",
            "375/375 [==============================] - 1s 3ms/step - loss: 1.4391 - acc: 0.4470 - val_loss: 1.4091 - val_acc: 0.4773\n",
            "Epoch 13/50\n",
            "375/375 [==============================] - 1s 3ms/step - loss: 1.3866 - acc: 0.4725 - val_loss: 1.3606 - val_acc: 0.4543\n",
            "Epoch 14/50\n",
            "375/375 [==============================] - 1s 3ms/step - loss: 1.3402 - acc: 0.4887 - val_loss: 1.3173 - val_acc: 0.5493\n",
            "Epoch 15/50\n",
            "375/375 [==============================] - 1s 3ms/step - loss: 1.2985 - acc: 0.5165 - val_loss: 1.2785 - val_acc: 0.5504\n",
            "Epoch 16/50\n",
            "375/375 [==============================] - 1s 3ms/step - loss: 1.2608 - acc: 0.5359 - val_loss: 1.2407 - val_acc: 0.5496\n",
            "Epoch 17/50\n",
            "375/375 [==============================] - 1s 3ms/step - loss: 1.2253 - acc: 0.5527 - val_loss: 1.2074 - val_acc: 0.5627\n",
            "Epoch 18/50\n",
            "375/375 [==============================] - 1s 3ms/step - loss: 1.1925 - acc: 0.5721 - val_loss: 1.1749 - val_acc: 0.5953\n",
            "Epoch 19/50\n",
            "375/375 [==============================] - 1s 3ms/step - loss: 1.1599 - acc: 0.5930 - val_loss: 1.1442 - val_acc: 0.5943\n",
            "Epoch 20/50\n",
            "375/375 [==============================] - 1s 3ms/step - loss: 1.1279 - acc: 0.6118 - val_loss: 1.1129 - val_acc: 0.6195\n",
            "Epoch 21/50\n",
            "375/375 [==============================] - 1s 3ms/step - loss: 1.0961 - acc: 0.6331 - val_loss: 1.0800 - val_acc: 0.6517\n",
            "Epoch 22/50\n",
            "375/375 [==============================] - 1s 3ms/step - loss: 1.0626 - acc: 0.6594 - val_loss: 1.0470 - val_acc: 0.6812\n",
            "Epoch 23/50\n",
            "375/375 [==============================] - 1s 3ms/step - loss: 1.0273 - acc: 0.6783 - val_loss: 1.0098 - val_acc: 0.6926\n",
            "Epoch 24/50\n",
            "375/375 [==============================] - 1s 3ms/step - loss: 0.9876 - acc: 0.6941 - val_loss: 0.9694 - val_acc: 0.6983\n",
            "Epoch 25/50\n",
            "375/375 [==============================] - 1s 3ms/step - loss: 0.9446 - acc: 0.7037 - val_loss: 0.9247 - val_acc: 0.7056\n",
            "Epoch 26/50\n",
            "375/375 [==============================] - 1s 3ms/step - loss: 0.8990 - acc: 0.7108 - val_loss: 0.8826 - val_acc: 0.7140\n",
            "Epoch 27/50\n",
            "375/375 [==============================] - 1s 3ms/step - loss: 0.8571 - acc: 0.7149 - val_loss: 0.8432 - val_acc: 0.7103\n",
            "Epoch 28/50\n",
            "375/375 [==============================] - 1s 3ms/step - loss: 0.8214 - acc: 0.7173 - val_loss: 0.8132 - val_acc: 0.7206\n",
            "Epoch 29/50\n",
            "375/375 [==============================] - 1s 3ms/step - loss: 0.7911 - acc: 0.7270 - val_loss: 0.7830 - val_acc: 0.7231\n",
            "Epoch 30/50\n",
            "375/375 [==============================] - 1s 3ms/step - loss: 0.7651 - acc: 0.7363 - val_loss: 0.7619 - val_acc: 0.7358\n",
            "Epoch 31/50\n",
            "375/375 [==============================] - 1s 3ms/step - loss: 0.7435 - acc: 0.7435 - val_loss: 0.7399 - val_acc: 0.7432\n",
            "Epoch 32/50\n",
            "375/375 [==============================] - 1s 3ms/step - loss: 0.7214 - acc: 0.7517 - val_loss: 0.7221 - val_acc: 0.7503\n",
            "Epoch 33/50\n",
            "375/375 [==============================] - 1s 3ms/step - loss: 0.7030 - acc: 0.7562 - val_loss: 0.7053 - val_acc: 0.7510\n",
            "Epoch 34/50\n",
            "375/375 [==============================] - 1s 3ms/step - loss: 0.6860 - acc: 0.7636 - val_loss: 0.6909 - val_acc: 0.7655\n",
            "Epoch 35/50\n",
            "375/375 [==============================] - 1s 3ms/step - loss: 0.6741 - acc: 0.7685 - val_loss: 0.6846 - val_acc: 0.7650\n",
            "Epoch 36/50\n",
            "375/375 [==============================] - 1s 3ms/step - loss: 0.6580 - acc: 0.7734 - val_loss: 0.6647 - val_acc: 0.7636\n",
            "Epoch 37/50\n",
            "375/375 [==============================] - 1s 3ms/step - loss: 0.6462 - acc: 0.7757 - val_loss: 0.6540 - val_acc: 0.7683\n",
            "Epoch 38/50\n",
            "375/375 [==============================] - 1s 3ms/step - loss: 0.6386 - acc: 0.7793 - val_loss: 0.6522 - val_acc: 0.7763\n",
            "Epoch 39/50\n",
            "375/375 [==============================] - 1s 3ms/step - loss: 0.6259 - acc: 0.7837 - val_loss: 0.6379 - val_acc: 0.7821\n",
            "Epoch 40/50\n",
            "375/375 [==============================] - 1s 3ms/step - loss: 0.6209 - acc: 0.7853 - val_loss: 0.6396 - val_acc: 0.7837\n",
            "Epoch 41/50\n",
            "375/375 [==============================] - 1s 3ms/step - loss: 0.6141 - acc: 0.7896 - val_loss: 0.6302 - val_acc: 0.7808\n",
            "Epoch 42/50\n",
            "375/375 [==============================] - 1s 3ms/step - loss: 0.6038 - acc: 0.7935 - val_loss: 0.6121 - val_acc: 0.7866\n",
            "Epoch 43/50\n",
            "375/375 [==============================] - 1s 3ms/step - loss: 0.5957 - acc: 0.7983 - val_loss: 0.6129 - val_acc: 0.7913\n",
            "Epoch 44/50\n",
            "375/375 [==============================] - 1s 3ms/step - loss: 0.5902 - acc: 0.7992 - val_loss: 0.6011 - val_acc: 0.7945\n",
            "Epoch 45/50\n",
            "375/375 [==============================] - 1s 3ms/step - loss: 0.5827 - acc: 0.8030 - val_loss: 0.5950 - val_acc: 0.8032\n",
            "Epoch 46/50\n",
            "375/375 [==============================] - 1s 3ms/step - loss: 0.5745 - acc: 0.8077 - val_loss: 0.5954 - val_acc: 0.7972\n",
            "Epoch 47/50\n",
            "375/375 [==============================] - 1s 3ms/step - loss: 0.5724 - acc: 0.8075 - val_loss: 0.5899 - val_acc: 0.8003\n",
            "Epoch 48/50\n",
            "375/375 [==============================] - 1s 3ms/step - loss: 0.5644 - acc: 0.8135 - val_loss: 0.5864 - val_acc: 0.8055\n",
            "Epoch 49/50\n",
            "375/375 [==============================] - 1s 3ms/step - loss: 0.5591 - acc: 0.8145 - val_loss: 0.5789 - val_acc: 0.8094\n",
            "Epoch 50/50\n",
            "375/375 [==============================] - 1s 3ms/step - loss: 0.5549 - acc: 0.8180 - val_loss: 0.5713 - val_acc: 0.8125\n"
          ],
          "name": "stdout"
        }
      ]
    },
    {
      "cell_type": "code",
      "metadata": {
        "colab": {
          "base_uri": "https://localhost:8080/",
          "height": 320
        },
        "id": "B0M4DCpXOgoB",
        "outputId": "fa43b8df-ad97-4c8c-f1b6-9657fbdd9a56"
      },
      "source": [
        "# 시각화\n",
        "plt.figure(figsize=(15, 5))\n",
        "\n",
        "plt.plot(range(1, 51, 1),\n",
        "         h.history['acc'],\n",
        "         label='acc'\n",
        "         )\n",
        "\n",
        "plt.plot(range(1, 51, 1),\n",
        "         h.history['loss'],\n",
        "         label='loss'\n",
        "         )\n",
        "\n",
        "plt.legend()\n",
        "plt.show()"
      ],
      "execution_count": null,
      "outputs": [
        {
          "output_type": "display_data",
          "data": {
            "image/png": "[encoded data removed]",
            "text/plain": [
              "<Figure size 1080x360 with 1 Axes>"
            ]
          },
          "metadata": {
            "tags": [],
            "needs_background": "light"
          }
        }
      ]
    },
    {
      "cell_type": "code",
      "metadata": {
        "colab": {
          "base_uri": "https://localhost:8080/"
        },
        "id": "a00o4R6QOshO",
        "outputId": "25a05dc2-438c-4cd1-f847-6fa6682f9a30"
      },
      "source": [
        "# 모델 평가\n",
        "md.evaluate(X_test, y_test_one_hot)"
      ],
      "execution_count": null,
      "outputs": [
        {
          "output_type": "stream",
          "text": [
            "313/313 [==============================] - 1s 2ms/step - loss: 0.5925 - acc: 0.8049\n"
          ],
          "name": "stdout"
        },
        {
          "output_type": "execute_result",
          "data": {
            "text/plain": [
              "[0.5925444960594177, 0.8048999905586243]"
            ]
          },
          "metadata": {
            "tags": []
          },
          "execution_count": 21
        }
      ]
    },
    {
      "cell_type": "code",
      "metadata": {
        "colab": {
          "base_uri": "https://localhost:8080/"
        },
        "id": "xEgKnudaOmTo",
        "outputId": "1b66ce07-42d3-4c46-efb5-f9ff9733de15"
      },
      "source": [
        "md1 = Sequential()\n",
        "\n",
        "# Flatten 명령을 통해서 한번에 바로 2차원 이미지 데이터를 1차원으로 펴줌\n",
        "md1.add(Flatten(input_shape=(28, 28))) # 즉 리쉐입이 필요가 없음\n",
        "\n",
        "\n",
        "# 중간층\n",
        "md1.add(Dense(300, activation=\"relu\"))  # 하나의 층\n",
        "md1.add(Dense(400, activation=\"relu\"))  # 하나의 층\n",
        "md1.add(Dense(300, activation=\"relu\"))  # 하나의 층\n",
        "md1.add(Dense(100, activation=\"relu\"))  # 하나의 층\n",
        "\n",
        "\n",
        "# 출력층\n",
        "# 출력층은 회귀의 활성화함수(linear함수, 활성화 함수 생략가능)\n",
        "# 2진 분류의 활성화함수(sigmoid)\n",
        "md1.add(Dense(10, activation=\"softmax\"))\n",
        "\n",
        "md1.summary()"
      ],
      "execution_count": null,
      "outputs": [
        {
          "output_type": "stream",
          "text": [
            "Model: \"sequential_2\"\n",
            "_________________________________________________________________\n",
            "Layer (type)                 Output Shape              Param #   \n",
            "=================================================================\n",
            "flatten_2 (Flatten)          (None, 784)               0         \n",
            "_________________________________________________________________\n",
            "dense_10 (Dense)             (None, 300)               235500    \n",
            "_________________________________________________________________\n",
            "dense_11 (Dense)             (None, 400)               120400    \n",
            "_________________________________________________________________\n",
            "dense_12 (Dense)             (None, 300)               120300    \n",
            "_________________________________________________________________\n",
            "dense_13 (Dense)             (None, 100)               30100     \n",
            "_________________________________________________________________\n",
            "dense_14 (Dense)             (None, 10)                1010      \n",
            "=================================================================\n",
            "Total params: 507,310\n",
            "Trainable params: 507,310\n",
            "Non-trainable params: 0\n",
            "_________________________________________________________________\n"
          ],
          "name": "stdout"
        }
      ]
    },
    {
      "cell_type": "code",
      "metadata": {
        "id": "l6N3YjfU0JNG"
      },
      "source": [
        "from tensorflow.keras.optimizers import SGD, Adam\n",
        "# 최적화함수의 하이퍼파라미터를 변경하기 위해 임포트 해줌"
      ],
      "execution_count": null,
      "outputs": []
    },
    {
      "cell_type": "code",
      "metadata": {
        "id": "taBoIFT2OmM9",
        "colab": {
          "base_uri": "https://localhost:8080/"
        },
        "outputId": "f00d191e-8707-41e9-994b-0415bf3fe082"
      },
      "source": [
        "# 2.학습/평가 방법 설정\n",
        "# binary_crossentropy : 2진 분류에 사용하는 손실함수(비용함수)\n",
        "# -> 오차의 평균을 구하는 것은 MSE와 같지만 0~1사이 값으로 변환 후 평균오차를 구하는 방식\n",
        "md1.compile(loss=\"categorical_crossentropy\",\n",
        "           optimizer =SGD(lr=0.001),          #최적화함수 : 확률적 경사하강법 사용  ,SGD\n",
        "           metrics=[\"acc\"]             #metrics : 평가 방법을 설정(분류 문제이기 때문에 정확도(acc)를 확인)\n",
        "           )"
      ],
      "execution_count": null,
      "outputs": [
        {
          "output_type": "stream",
          "text": [
            "/usr/local/lib/python3.7/dist-packages/tensorflow/python/keras/optimizer_v2/optimizer_v2.py:375: UserWarning: The `lr` argument is deprecated, use `learning_rate` instead.\n",
            "  \"The `lr` argument is deprecated, use `learning_rate` instead.\")\n"
          ],
          "name": "stderr"
        }
      ]
    },
    {
      "cell_type": "code",
      "metadata": {
        "colab": {
          "base_uri": "https://localhost:8080/"
        },
        "id": "ahxUUA6JOmKs",
        "outputId": "a9ef207f-3a7d-4cc6-c13d-228a89956863"
      },
      "source": [
        "h1 = md1.fit(X_train,y_train_one_hot,\n",
        "           validation_split=0.2,\n",
        "           epochs=50, batch_size = 128, verbose = 1)\n",
        "# validation_split : 자동으로 train데이터에서 검증 데이터를 분리시켜주는 명령\n",
        "#verbose : 학습 결과의 출력 형태를 설정하는 명령(0: 출력X, 1: bar형태(디폴트), 2:bar가 없는 형태로 출력)\n",
        "# 주의점 -> 분리시켜줄 때 뒤에서부터 20%를 잘라줌\n",
        "# 일정한 값으로 정렬돼 있는 데이터에는 사용 불가\n",
        "# train_test_spllit 명령으로 사전에 랜덤 샘플링을 진행했기 때문에 바로 validation_split 명령 사용 가능!\n",
        "\n",
        "# loss가 nan이 뜰 경우는 학습자체가 제대로 진행이 되고 있지 않다는 뜻\n",
        "# 조금더 정밀한 학습이 필요할 수 있음."
      ],
      "execution_count": null,
      "outputs": [
        {
          "output_type": "stream",
          "text": [
            "Epoch 1/50\n",
            "375/375 [==============================] - 2s 4ms/step - loss: 2.9765 - acc: 0.7138 - val_loss: 0.6877 - val_acc: 0.7709\n",
            "Epoch 2/50\n",
            "375/375 [==============================] - 1s 3ms/step - loss: 0.5951 - acc: 0.7981 - val_loss: 0.6043 - val_acc: 0.7924\n",
            "Epoch 3/50\n",
            "375/375 [==============================] - 1s 3ms/step - loss: 0.5185 - acc: 0.8198 - val_loss: 0.5534 - val_acc: 0.8126\n",
            "Epoch 4/50\n",
            "375/375 [==============================] - 1s 3ms/step - loss: 0.4745 - acc: 0.8351 - val_loss: 0.5297 - val_acc: 0.8162\n",
            "Epoch 5/50\n",
            "375/375 [==============================] - 1s 3ms/step - loss: 0.4452 - acc: 0.8438 - val_loss: 0.5212 - val_acc: 0.8228\n",
            "Epoch 6/50\n",
            "375/375 [==============================] - 1s 3ms/step - loss: 0.4198 - acc: 0.8511 - val_loss: 0.4944 - val_acc: 0.8310\n",
            "Epoch 7/50\n",
            "375/375 [==============================] - 1s 3ms/step - loss: 0.4011 - acc: 0.8577 - val_loss: 0.4906 - val_acc: 0.8321\n",
            "Epoch 8/50\n",
            "375/375 [==============================] - 1s 3ms/step - loss: 0.3845 - acc: 0.8628 - val_loss: 0.4828 - val_acc: 0.8355\n",
            "Epoch 9/50\n",
            "375/375 [==============================] - 1s 3ms/step - loss: 0.3714 - acc: 0.8681 - val_loss: 0.4720 - val_acc: 0.8384\n",
            "Epoch 10/50\n",
            "375/375 [==============================] - 1s 3ms/step - loss: 0.3575 - acc: 0.8733 - val_loss: 0.4649 - val_acc: 0.8419\n",
            "Epoch 11/50\n",
            "375/375 [==============================] - 1s 3ms/step - loss: 0.3473 - acc: 0.8767 - val_loss: 0.4626 - val_acc: 0.8420\n",
            "Epoch 12/50\n",
            "375/375 [==============================] - 1s 3ms/step - loss: 0.3370 - acc: 0.8788 - val_loss: 0.4639 - val_acc: 0.8428\n",
            "Epoch 13/50\n",
            "375/375 [==============================] - 1s 3ms/step - loss: 0.3281 - acc: 0.8821 - val_loss: 0.4643 - val_acc: 0.8424\n",
            "Epoch 14/50\n",
            "375/375 [==============================] - 1s 3ms/step - loss: 0.3200 - acc: 0.8847 - val_loss: 0.4629 - val_acc: 0.8422\n",
            "Epoch 15/50\n",
            "375/375 [==============================] - 1s 3ms/step - loss: 0.3126 - acc: 0.8880 - val_loss: 0.4572 - val_acc: 0.8452\n",
            "Epoch 16/50\n",
            "375/375 [==============================] - 1s 3ms/step - loss: 0.3046 - acc: 0.8901 - val_loss: 0.4583 - val_acc: 0.8476\n",
            "Epoch 17/50\n",
            "375/375 [==============================] - 1s 3ms/step - loss: 0.2997 - acc: 0.8919 - val_loss: 0.4468 - val_acc: 0.8462\n",
            "Epoch 18/50\n",
            "375/375 [==============================] - 1s 3ms/step - loss: 0.2905 - acc: 0.8950 - val_loss: 0.4468 - val_acc: 0.8503\n",
            "Epoch 19/50\n",
            "375/375 [==============================] - 1s 3ms/step - loss: 0.2860 - acc: 0.8980 - val_loss: 0.4451 - val_acc: 0.8497\n",
            "Epoch 20/50\n",
            "375/375 [==============================] - 1s 3ms/step - loss: 0.2798 - acc: 0.8998 - val_loss: 0.4480 - val_acc: 0.8493\n",
            "Epoch 21/50\n",
            "375/375 [==============================] - 1s 3ms/step - loss: 0.2737 - acc: 0.9023 - val_loss: 0.4518 - val_acc: 0.8487\n",
            "Epoch 22/50\n",
            "375/375 [==============================] - 1s 3ms/step - loss: 0.2685 - acc: 0.9038 - val_loss: 0.4424 - val_acc: 0.8518\n",
            "Epoch 23/50\n",
            "375/375 [==============================] - 1s 3ms/step - loss: 0.2630 - acc: 0.9068 - val_loss: 0.4385 - val_acc: 0.8530\n",
            "Epoch 24/50\n",
            "375/375 [==============================] - 1s 3ms/step - loss: 0.2595 - acc: 0.9074 - val_loss: 0.4367 - val_acc: 0.8534\n",
            "Epoch 25/50\n",
            "375/375 [==============================] - 1s 3ms/step - loss: 0.2539 - acc: 0.9084 - val_loss: 0.4369 - val_acc: 0.8528\n",
            "Epoch 26/50\n",
            "375/375 [==============================] - 1s 3ms/step - loss: 0.2488 - acc: 0.9114 - val_loss: 0.4367 - val_acc: 0.8554\n",
            "Epoch 27/50\n",
            "375/375 [==============================] - 1s 3ms/step - loss: 0.2455 - acc: 0.9123 - val_loss: 0.4426 - val_acc: 0.8533\n",
            "Epoch 28/50\n",
            "375/375 [==============================] - 1s 3ms/step - loss: 0.2407 - acc: 0.9150 - val_loss: 0.4384 - val_acc: 0.8556\n",
            "Epoch 29/50\n",
            "375/375 [==============================] - 1s 3ms/step - loss: 0.2366 - acc: 0.9158 - val_loss: 0.4322 - val_acc: 0.8550\n",
            "Epoch 30/50\n",
            "375/375 [==============================] - 1s 3ms/step - loss: 0.2325 - acc: 0.9171 - val_loss: 0.4387 - val_acc: 0.8585\n",
            "Epoch 31/50\n",
            "375/375 [==============================] - 1s 3ms/step - loss: 0.2287 - acc: 0.9189 - val_loss: 0.4400 - val_acc: 0.8542\n",
            "Epoch 32/50\n",
            "375/375 [==============================] - 1s 3ms/step - loss: 0.2249 - acc: 0.9202 - val_loss: 0.4407 - val_acc: 0.8583\n",
            "Epoch 33/50\n",
            "375/375 [==============================] - 1s 3ms/step - loss: 0.2212 - acc: 0.9225 - val_loss: 0.4417 - val_acc: 0.8572\n",
            "Epoch 34/50\n",
            "375/375 [==============================] - 1s 3ms/step - loss: 0.2177 - acc: 0.9229 - val_loss: 0.4392 - val_acc: 0.8562\n",
            "Epoch 35/50\n",
            "375/375 [==============================] - 1s 3ms/step - loss: 0.2146 - acc: 0.9245 - val_loss: 0.4386 - val_acc: 0.8587\n",
            "Epoch 36/50\n",
            "375/375 [==============================] - 1s 3ms/step - loss: 0.2113 - acc: 0.9257 - val_loss: 0.4427 - val_acc: 0.8584\n",
            "Epoch 37/50\n",
            "375/375 [==============================] - 1s 3ms/step - loss: 0.2074 - acc: 0.9272 - val_loss: 0.4384 - val_acc: 0.8600\n",
            "Epoch 38/50\n",
            "375/375 [==============================] - 1s 3ms/step - loss: 0.2047 - acc: 0.9272 - val_loss: 0.4501 - val_acc: 0.8550\n",
            "Epoch 39/50\n",
            "375/375 [==============================] - 1s 3ms/step - loss: 0.2015 - acc: 0.9294 - val_loss: 0.4407 - val_acc: 0.8598\n",
            "Epoch 40/50\n",
            "375/375 [==============================] - 1s 3ms/step - loss: 0.1985 - acc: 0.9300 - val_loss: 0.4406 - val_acc: 0.8593\n",
            "Epoch 41/50\n",
            "375/375 [==============================] - 1s 3ms/step - loss: 0.1951 - acc: 0.9315 - val_loss: 0.4518 - val_acc: 0.8575\n",
            "Epoch 42/50\n",
            "375/375 [==============================] - 1s 3ms/step - loss: 0.1930 - acc: 0.9330 - val_loss: 0.4381 - val_acc: 0.8599\n",
            "Epoch 43/50\n",
            "375/375 [==============================] - 1s 3ms/step - loss: 0.1897 - acc: 0.9345 - val_loss: 0.4514 - val_acc: 0.8568\n",
            "Epoch 44/50\n",
            "375/375 [==============================] - 1s 3ms/step - loss: 0.1872 - acc: 0.9354 - val_loss: 0.4481 - val_acc: 0.8563\n",
            "Epoch 45/50\n",
            "375/375 [==============================] - 1s 3ms/step - loss: 0.1855 - acc: 0.9349 - val_loss: 0.4447 - val_acc: 0.8615\n",
            "Epoch 46/50\n",
            "375/375 [==============================] - 1s 3ms/step - loss: 0.1820 - acc: 0.9370 - val_loss: 0.4521 - val_acc: 0.8587\n",
            "Epoch 47/50\n",
            "375/375 [==============================] - 1s 3ms/step - loss: 0.1792 - acc: 0.9389 - val_loss: 0.4485 - val_acc: 0.8595\n",
            "Epoch 48/50\n",
            "375/375 [==============================] - 1s 3ms/step - loss: 0.1772 - acc: 0.9391 - val_loss: 0.4462 - val_acc: 0.8620\n",
            "Epoch 49/50\n",
            "375/375 [==============================] - 1s 3ms/step - loss: 0.1748 - acc: 0.9389 - val_loss: 0.4667 - val_acc: 0.8543\n",
            "Epoch 50/50\n",
            "375/375 [==============================] - 1s 3ms/step - loss: 0.1719 - acc: 0.9410 - val_loss: 0.4601 - val_acc: 0.8551\n"
          ],
          "name": "stdout"
        }
      ]
    },
    {
      "cell_type": "code",
      "metadata": {
        "colab": {
          "base_uri": "https://localhost:8080/",
          "height": 320
        },
        "id": "vhY1eVt8OmIT",
        "outputId": "3cfe5d52-964e-41ac-feac-b54fe86d5917"
      },
      "source": [
        "# 시각화\n",
        "plt.figure(figsize=(15, 5))\n",
        "\n",
        "plt.plot(range(1, 51, 1),\n",
        "         h1.history['acc'],\n",
        "         label='acc'\n",
        "         )\n",
        "\n",
        "plt.plot(range(1, 51, 1),\n",
        "         h1.history['loss'],\n",
        "         label='loss'\n",
        "         )\n",
        "\n",
        "plt.legend()\n",
        "plt.show()"
      ],
      "execution_count": null,
      "outputs": [
        {
          "output_type": "display_data",
          "data": {
            "image/png": "[encoded data removed]",
            "text/plain": [
              "<Figure size 1080x360 with 1 Axes>"
            ]
          },
          "metadata": {
            "tags": [],
            "needs_background": "light"
          }
        }
      ]
    },
    {
      "cell_type": "code",
      "metadata": {
        "colab": {
          "base_uri": "https://localhost:8080/"
        },
        "id": "N8x8gJKKOmGG",
        "outputId": "cb807515-2337-4d14-94c7-53642a46594e"
      },
      "source": [
        "# 모델 평가\n",
        "md1.evaluate(X_test, y_test_one_hot)"
      ],
      "execution_count": null,
      "outputs": [
        {
          "output_type": "stream",
          "text": [
            "313/313 [==============================] - 1s 2ms/step - loss: 0.4899 - acc: 0.8512\n"
          ],
          "name": "stdout"
        },
        {
          "output_type": "execute_result",
          "data": {
            "text/plain": [
              "[0.48986417055130005, 0.8511999845504761]"
            ]
          },
          "metadata": {
            "tags": []
          },
          "execution_count": 27
        }
      ]
    },
    {
      "cell_type": "code",
      "metadata": {
        "colab": {
          "base_uri": "https://localhost:8080/"
        },
        "id": "F7hTaV_2OmD1",
        "outputId": "335ab360-96dd-46c4-f91b-49da4e24bc66"
      },
      "source": [
        "md2 = Sequential()\n",
        "\n",
        "# Flatten 명령을 통해서 한번에 바로 2차원 이미지 데이터를 1차원으로 펴줌\n",
        "md2.add(Flatten(input_shape=(28, 28))) # 즉 리쉐입이 필요가 없음\n",
        "\n",
        "\n",
        "# 중간층\n",
        "md2.add(Dense(300, activation=\"relu\"))  # 하나의 층\n",
        "md2.add(Dense(400, activation=\"relu\"))  # 하나의 층\n",
        "md2.add(Dense(300, activation=\"relu\"))  # 하나의 층\n",
        "md2.add(Dense(100, activation=\"relu\"))  # 하나의 층\n",
        "\n",
        "\n",
        "# 출력층\n",
        "# 출력층은 회귀의 활성화함수(linear함수, 활성화 함수 생략가능)\n",
        "# 2진 분류의 활성화함수(sigmoid)\n",
        "md2.add(Dense(10, activation=\"softmax\"))\n",
        "\n",
        "md2.summary()"
      ],
      "execution_count": null,
      "outputs": [
        {
          "output_type": "stream",
          "text": [
            "Model: \"sequential_3\"\n",
            "_________________________________________________________________\n",
            "Layer (type)                 Output Shape              Param #   \n",
            "=================================================================\n",
            "flatten_3 (Flatten)          (None, 784)               0         \n",
            "_________________________________________________________________\n",
            "dense_15 (Dense)             (None, 300)               235500    \n",
            "_________________________________________________________________\n",
            "dense_16 (Dense)             (None, 400)               120400    \n",
            "_________________________________________________________________\n",
            "dense_17 (Dense)             (None, 300)               120300    \n",
            "_________________________________________________________________\n",
            "dense_18 (Dense)             (None, 100)               30100     \n",
            "_________________________________________________________________\n",
            "dense_19 (Dense)             (None, 10)                1010      \n",
            "=================================================================\n",
            "Total params: 507,310\n",
            "Trainable params: 507,310\n",
            "Non-trainable params: 0\n",
            "_________________________________________________________________\n"
          ],
          "name": "stdout"
        }
      ]
    },
    {
      "cell_type": "code",
      "metadata": {
        "id": "fgUkS-ioPUhM"
      },
      "source": [
        "# 2.학습/평가 방법 설정\n",
        "# binary_crossentropy : 2진 분류에 사용하는 손실함수(비용함수)\n",
        "# -> 오차의 평균을 구하는 것은 MSE와 같지만 0~1사이 값으로 변환 후 평균오차를 구하는 방식\n",
        "md2.compile(loss=\"categorical_crossentropy\",\n",
        "           optimizer = \"Adam\",          #최적화함수 : 확률적 경사하강법 사용  ,SGD\n",
        "           metrics=[\"acc\"]             #metrics : 평가 방법을 설정(분류 문제이기 때문에 정확도(acc)를 확인)\n",
        "           )"
      ],
      "execution_count": null,
      "outputs": []
    },
    {
      "cell_type": "code",
      "metadata": {
        "colab": {
          "base_uri": "https://localhost:8080/"
        },
        "id": "A_NWtcfiPUa7",
        "outputId": "77d960e9-fdc9-4373-bf88-7499988d409d"
      },
      "source": [
        "h2 = md2.fit(X_train,y_train_one_hot,\n",
        "           validation_split=0.2,\n",
        "           epochs=50, batch_size = 128, verbose = 1)\n",
        "# validation_split : 자동으로 train데이터에서 검증 데이터를 분리시켜주는 명령\n",
        "#verbose : 학습 결과의 출력 형태를 설정하는 명령(0: 출력X, 1: bar형태(디폴트), 2:bar가 없는 형태로 출력)\n",
        "# 주의점 -> 분리시켜줄 때 뒤에서부터 20%를 잘라줌\n",
        "# 일정한 값으로 정렬돼 있는 데이터에는 사용 불가\n",
        "# train_test_spllit 명령으로 사전에 랜덤 샘플링을 진행했기 때문에 바로 validation_split 명령 사용 가능!"
      ],
      "execution_count": null,
      "outputs": [
        {
          "output_type": "stream",
          "text": [
            "Epoch 1/50\n",
            "375/375 [==============================] - 2s 4ms/step - loss: 1.5462 - acc: 0.7727 - val_loss: 0.4812 - val_acc: 0.8341\n",
            "Epoch 2/50\n",
            "375/375 [==============================] - 1s 4ms/step - loss: 0.4419 - acc: 0.8442 - val_loss: 0.4176 - val_acc: 0.8535\n",
            "Epoch 3/50\n",
            "375/375 [==============================] - 1s 3ms/step - loss: 0.3821 - acc: 0.8618 - val_loss: 0.4322 - val_acc: 0.8486\n",
            "Epoch 4/50\n",
            "375/375 [==============================] - 1s 3ms/step - loss: 0.3551 - acc: 0.8705 - val_loss: 0.3958 - val_acc: 0.8577\n",
            "Epoch 5/50\n",
            "375/375 [==============================] - 1s 3ms/step - loss: 0.3351 - acc: 0.8779 - val_loss: 0.4038 - val_acc: 0.8597\n",
            "Epoch 6/50\n",
            "375/375 [==============================] - 1s 3ms/step - loss: 0.3192 - acc: 0.8831 - val_loss: 0.3773 - val_acc: 0.8708\n",
            "Epoch 7/50\n",
            "375/375 [==============================] - 1s 3ms/step - loss: 0.3104 - acc: 0.8859 - val_loss: 0.3733 - val_acc: 0.8712\n",
            "Epoch 8/50\n",
            "375/375 [==============================] - 1s 3ms/step - loss: 0.2982 - acc: 0.8902 - val_loss: 0.3919 - val_acc: 0.8657\n",
            "Epoch 9/50\n",
            "375/375 [==============================] - 1s 3ms/step - loss: 0.2922 - acc: 0.8923 - val_loss: 0.3675 - val_acc: 0.8788\n",
            "Epoch 10/50\n",
            "375/375 [==============================] - 1s 3ms/step - loss: 0.2903 - acc: 0.8924 - val_loss: 0.3577 - val_acc: 0.8761\n",
            "Epoch 11/50\n",
            "375/375 [==============================] - 1s 3ms/step - loss: 0.2831 - acc: 0.8948 - val_loss: 0.3687 - val_acc: 0.8769\n",
            "Epoch 12/50\n",
            "375/375 [==============================] - 1s 3ms/step - loss: 0.2816 - acc: 0.8955 - val_loss: 0.3635 - val_acc: 0.8733\n",
            "Epoch 13/50\n",
            "375/375 [==============================] - 1s 3ms/step - loss: 0.2706 - acc: 0.9012 - val_loss: 0.3957 - val_acc: 0.8733\n",
            "Epoch 14/50\n",
            "375/375 [==============================] - 1s 3ms/step - loss: 0.2686 - acc: 0.9020 - val_loss: 0.3937 - val_acc: 0.8621\n",
            "Epoch 15/50\n",
            "375/375 [==============================] - 1s 3ms/step - loss: 0.2557 - acc: 0.9044 - val_loss: 0.3585 - val_acc: 0.8796\n",
            "Epoch 16/50\n",
            "375/375 [==============================] - 1s 3ms/step - loss: 0.2559 - acc: 0.9072 - val_loss: 0.3671 - val_acc: 0.8812\n",
            "Epoch 17/50\n",
            "375/375 [==============================] - 1s 3ms/step - loss: 0.2552 - acc: 0.9052 - val_loss: 0.3636 - val_acc: 0.8792\n",
            "Epoch 18/50\n",
            "375/375 [==============================] - 1s 3ms/step - loss: 0.2429 - acc: 0.9099 - val_loss: 0.3509 - val_acc: 0.8834\n",
            "Epoch 19/50\n",
            "375/375 [==============================] - 1s 3ms/step - loss: 0.2474 - acc: 0.9075 - val_loss: 0.3698 - val_acc: 0.8753\n",
            "Epoch 20/50\n",
            "375/375 [==============================] - 1s 3ms/step - loss: 0.2461 - acc: 0.9097 - val_loss: 0.3534 - val_acc: 0.8844\n",
            "Epoch 21/50\n",
            "375/375 [==============================] - 1s 3ms/step - loss: 0.2395 - acc: 0.9116 - val_loss: 0.3698 - val_acc: 0.8762\n",
            "Epoch 22/50\n",
            "375/375 [==============================] - 1s 3ms/step - loss: 0.2375 - acc: 0.9127 - val_loss: 0.3507 - val_acc: 0.8827\n",
            "Epoch 23/50\n",
            "375/375 [==============================] - 1s 3ms/step - loss: 0.2286 - acc: 0.9147 - val_loss: 0.3699 - val_acc: 0.8830\n",
            "Epoch 24/50\n",
            "375/375 [==============================] - 1s 3ms/step - loss: 0.2217 - acc: 0.9174 - val_loss: 0.4098 - val_acc: 0.8766\n",
            "Epoch 25/50\n",
            "375/375 [==============================] - 1s 3ms/step - loss: 0.2137 - acc: 0.9202 - val_loss: 0.3523 - val_acc: 0.8896\n",
            "Epoch 26/50\n",
            "375/375 [==============================] - 1s 3ms/step - loss: 0.2143 - acc: 0.9214 - val_loss: 0.3642 - val_acc: 0.8888\n",
            "Epoch 27/50\n",
            "375/375 [==============================] - 1s 3ms/step - loss: 0.2049 - acc: 0.9232 - val_loss: 0.4059 - val_acc: 0.8818\n",
            "Epoch 28/50\n",
            "375/375 [==============================] - 1s 3ms/step - loss: 0.2053 - acc: 0.9247 - val_loss: 0.3622 - val_acc: 0.8865\n",
            "Epoch 29/50\n",
            "375/375 [==============================] - 1s 3ms/step - loss: 0.1997 - acc: 0.9261 - val_loss: 0.3850 - val_acc: 0.8842\n",
            "Epoch 30/50\n",
            "375/375 [==============================] - 1s 3ms/step - loss: 0.2000 - acc: 0.9249 - val_loss: 0.3859 - val_acc: 0.8817\n",
            "Epoch 31/50\n",
            "375/375 [==============================] - 1s 3ms/step - loss: 0.1957 - acc: 0.9263 - val_loss: 0.3882 - val_acc: 0.8822\n",
            "Epoch 32/50\n",
            "375/375 [==============================] - 1s 3ms/step - loss: 0.1950 - acc: 0.9283 - val_loss: 0.3994 - val_acc: 0.8846\n",
            "Epoch 33/50\n",
            "375/375 [==============================] - 1s 3ms/step - loss: 0.1874 - acc: 0.9302 - val_loss: 0.3948 - val_acc: 0.8840\n",
            "Epoch 34/50\n",
            "375/375 [==============================] - 1s 3ms/step - loss: 0.1799 - acc: 0.9331 - val_loss: 0.4313 - val_acc: 0.8820\n",
            "Epoch 35/50\n",
            "375/375 [==============================] - 1s 3ms/step - loss: 0.1808 - acc: 0.9343 - val_loss: 0.4069 - val_acc: 0.8846\n",
            "Epoch 36/50\n",
            "375/375 [==============================] - 1s 3ms/step - loss: 0.1737 - acc: 0.9349 - val_loss: 0.3812 - val_acc: 0.8937\n",
            "Epoch 37/50\n",
            "375/375 [==============================] - 1s 3ms/step - loss: 0.1729 - acc: 0.9348 - val_loss: 0.3990 - val_acc: 0.8893\n",
            "Epoch 38/50\n",
            "375/375 [==============================] - 1s 3ms/step - loss: 0.1790 - acc: 0.9351 - val_loss: 0.4150 - val_acc: 0.8881\n",
            "Epoch 39/50\n",
            "375/375 [==============================] - 1s 3ms/step - loss: 0.1572 - acc: 0.9405 - val_loss: 0.4322 - val_acc: 0.8873\n",
            "Epoch 40/50\n",
            "375/375 [==============================] - 1s 3ms/step - loss: 0.1682 - acc: 0.9367 - val_loss: 0.3917 - val_acc: 0.8905\n",
            "Epoch 41/50\n",
            "375/375 [==============================] - 1s 3ms/step - loss: 0.1506 - acc: 0.9438 - val_loss: 0.4251 - val_acc: 0.8928\n",
            "Epoch 42/50\n",
            "375/375 [==============================] - 1s 3ms/step - loss: 0.1599 - acc: 0.9405 - val_loss: 0.4213 - val_acc: 0.8838\n",
            "Epoch 43/50\n",
            "375/375 [==============================] - 1s 3ms/step - loss: 0.1559 - acc: 0.9419 - val_loss: 0.4241 - val_acc: 0.8879\n",
            "Epoch 44/50\n",
            "375/375 [==============================] - 1s 3ms/step - loss: 0.1395 - acc: 0.9478 - val_loss: 0.4521 - val_acc: 0.8889\n",
            "Epoch 45/50\n",
            "375/375 [==============================] - 1s 3ms/step - loss: 0.1546 - acc: 0.9421 - val_loss: 0.4682 - val_acc: 0.8849\n",
            "Epoch 46/50\n",
            "375/375 [==============================] - 1s 3ms/step - loss: 0.1471 - acc: 0.9460 - val_loss: 0.4356 - val_acc: 0.8917\n",
            "Epoch 47/50\n",
            "375/375 [==============================] - 1s 3ms/step - loss: 0.1500 - acc: 0.9454 - val_loss: 0.4456 - val_acc: 0.8845\n",
            "Epoch 48/50\n",
            "375/375 [==============================] - 1s 3ms/step - loss: 0.1465 - acc: 0.9462 - val_loss: 0.4429 - val_acc: 0.8893\n",
            "Epoch 49/50\n",
            "375/375 [==============================] - 1s 3ms/step - loss: 0.1416 - acc: 0.9471 - val_loss: 0.4731 - val_acc: 0.8929\n",
            "Epoch 50/50\n",
            "375/375 [==============================] - 1s 3ms/step - loss: 0.1434 - acc: 0.9470 - val_loss: 0.4520 - val_acc: 0.8889\n"
          ],
          "name": "stdout"
        }
      ]
    },
    {
      "cell_type": "code",
      "metadata": {
        "colab": {
          "base_uri": "https://localhost:8080/",
          "height": 321
        },
        "id": "JrdkDELVPUYk",
        "outputId": "a6c7c883-2822-4a3e-d2e8-80f9bb825f06"
      },
      "source": [
        "# 시각화\n",
        "plt.figure(figsize=(15, 5))\n",
        "\n",
        "plt.plot(range(1, 51, 1),\n",
        "         h2.history['acc'],\n",
        "         label='acc'\n",
        "         )\n",
        "\n",
        "plt.plot(range(1, 51, 1),\n",
        "         h2.history['loss'],\n",
        "         label='loss'\n",
        "         )\n",
        "\n",
        "plt.legend()\n",
        "plt.show()"
      ],
      "execution_count": null,
      "outputs": [
        {
          "output_type": "display_data",
          "data": {
            "image/png": "[encoded data removed]",
            "text/plain": [
              "<Figure size 1080x360 with 1 Axes>"
            ]
          },
          "metadata": {
            "tags": [],
            "needs_background": "light"
          }
        }
      ]
    },
    {
      "cell_type": "code",
      "metadata": {
        "colab": {
          "base_uri": "https://localhost:8080/"
        },
        "id": "ygJyEjXAPUV8",
        "outputId": "e9cf4baf-b228-4298-adff-08fb91f276cf"
      },
      "source": [
        "# 모델 평가\n",
        "md2.evaluate(X_test, y_test_one_hot)"
      ],
      "execution_count": null,
      "outputs": [
        {
          "output_type": "stream",
          "text": [
            "313/313 [==============================] - 1s 2ms/step - loss: 0.5038 - acc: 0.8833\n"
          ],
          "name": "stdout"
        },
        {
          "output_type": "execute_result",
          "data": {
            "text/plain": [
              "[0.503771185874939, 0.8833000063896179]"
            ]
          },
          "metadata": {
            "tags": []
          },
          "execution_count": 32
        }
      ]
    },
    {
      "cell_type": "code",
      "metadata": {
        "colab": {
          "base_uri": "https://localhost:8080/",
          "height": 320
        },
        "id": "jqgnox2HP9Tf",
        "outputId": "c86a7187-19fc-4ec2-ee39-62b161eb7d05"
      },
      "source": [
        "# 시각화\n",
        "plt.figure(figsize=(15, 5))\n",
        "\n",
        "plt.plot(range(1, 51, 1),\n",
        "         h.history['acc'],\n",
        "         label='sigmoid+SGD'\n",
        "         )\n",
        "plt.plot(range(1, 51, 1),\n",
        "         h.history['val_acc'],\n",
        "         label='sigmoid+SGD_val'\n",
        "         )\n",
        "plt.plot(range(1, 51, 1),\n",
        "         h1.history['acc'],\n",
        "         label='relu+SGD'\n",
        "         )\n",
        "plt.plot(range(1, 51, 1),\n",
        "         h1.history['val_acc'],\n",
        "         label='relu+SGD_val'\n",
        "         )\n",
        "plt.plot(range(1, 51, 1),\n",
        "         h2.history['acc'],\n",
        "         label='relu+Adam'\n",
        "         )\n",
        "plt.plot(range(1, 51, 1),\n",
        "         h2.history['val_acc'],\n",
        "         label='relu+Adam_val'\n",
        "         )\n",
        "plt.legend()\n",
        "plt.grid()\n",
        "plt.show()"
      ],
      "execution_count": null,
      "outputs": [
        {
          "output_type": "display_data",
          "data": {
            "image/png": "[encoded data removed]",
            "text/plain": [
              "<Figure size 1080x360 with 1 Axes>"
            ]
          },
          "metadata": {
            "tags": [],
            "needs_background": "light"
          }
        }
      ]
    },
    {
      "cell_type": "markdown",
      "metadata": {
        "id": "EhzcMmUy7TXP"
      },
      "source": [
        "### 최적화 모델 찾기\n",
        "- 모델체크포인트 : 최적 모델을 저장\n",
        "- 얼리스탑핑 : 조기 학습 중단(시간낭비방지, 과대적합방지)"
      ]
    },
    {
      "cell_type": "code",
      "metadata": {
        "id": "UBmcs1Oq7SaO"
      },
      "source": [
        "from tensorflow.keras.callbacks import ModelCheckpoint, EarlyStopping"
      ],
      "execution_count": null,
      "outputs": []
    },
    {
      "cell_type": "code",
      "metadata": {
        "id": "oJSHtU0jQwYI"
      },
      "source": [
        "# 1.모델 저장\n",
        "#  저장경로 및 파일명 형태를 설정\n",
        "save_path = '/content/drive/MyDrive/Colab Notebooks/빅데이터4차_딥러닝/model/FashionModel_{epoch:03d}_{val_acc:.4f}.hdf5'\n",
        "# epoch는 keras에서 지정해 놓은 키워드\n",
        "# d : 10진수 형태, 03 -> 0이 3개 붙어있는 형태의 자리수(002, 002, 003 ...)\n",
        "# f : 소수점 형태, 4 -> 소수점 4자리까지 형태의 자리수(0.001, 0.002, 0.003 ...)\n",
        "# hf5 : 모델이 저장되는 파일의 확장자명\n",
        "\n",
        "f_mckp = ModelCheckpoint(filepath = save_path,   # 저장되는 파일의 경로를 설정\n",
        "                         monitor = 'val_acc',    # 해당 값을 기준으로 파일을 저장\n",
        "                         save_best_only = True,  # monitor값이 가장 최고점 혹은 최저점을 갱신 했을 때 모델을 저장\n",
        "                         mode = 'max',           # save_best_only가 True일때 모니터링 하는 값의 최대, 최소를 결정\n",
        "                         verbose = 1             # 모델 개선 및 저장 메시지를 표시해 줌\n",
        "                         )"
      ],
      "execution_count": null,
      "outputs": []
    },
    {
      "cell_type": "code",
      "metadata": {
        "id": "3QcLdIyU_q0z"
      },
      "source": [
        "# 2. 조기 학습 중단\n",
        "f_early = EarlyStopping(monitor= \"val_acc\",\n",
        "                        patience = 5              # monitor의 값 개선을 몇번이나 기다려줄지 설정\n",
        "                         )\n",
        "\n",
        "# 모델 학습시 val_acc가 5번의 epochs를 돌 동안 값이 개선이되지 않으면 중단시켜주세요~!                     "
      ],
      "execution_count": null,
      "outputs": []
    },
    {
      "cell_type": "code",
      "metadata": {
        "id": "RqzFQCZwDFBm"
      },
      "source": [
        "# 딥러닝을 위한 라이브러리를 임포트\n",
        "from tensorflow.keras import Sequential     # 신경망의 뼈대를 구성\n",
        "from tensorflow.keras.layers import Dense, Flatten"
      ],
      "execution_count": null,
      "outputs": []
    },
    {
      "cell_type": "code",
      "metadata": {
        "colab": {
          "base_uri": "https://localhost:8080/"
        },
        "id": "A8BWKrhFCI1G",
        "outputId": "b847002b-3b1c-42c9-b6f1-fc28e958e080"
      },
      "source": [
        "md3 = Sequential()\n",
        "\n",
        "# Flatten 명령을 통해서 한번에 바로 2차원 이미지 데이터를 1차원으로 펴줌\n",
        "md3.add(Flatten(input_shape=(28, 28))) # 즉 리쉐입이 필요가 없음\n",
        "\n",
        "\n",
        "# 중간층\n",
        "md3.add(Dense(300, activation=\"relu\"))  # 하나의 층\n",
        "md3.add(Dense(400, activation=\"relu\"))  # 하나의 층\n",
        "md3.add(Dense(300, activation=\"relu\"))  # 하나의 층\n",
        "md3.add(Dense(100, activation=\"relu\"))  # 하나의 층\n",
        "\n",
        "\n",
        "# 출력층\n",
        "# 출력층은 회귀의 활성화함수(linear함수, 활성화 함수 생략가능)\n",
        "# 2진 분류의 활성화함수(sigmoid)\n",
        "md3.add(Dense(10, activation=\"softmax\"))\n",
        "\n",
        "md3.summary()\n",
        "\n",
        "\n",
        "md3.compile(loss=\"categorical_crossentropy\",\n",
        "           optimizer = \"Adam\",          #최적화함수 : 확률적 경사하강법 사용  ,SGD\n",
        "           metrics=[\"acc\"]             #metrics : 평가 방법을 설정(분류 문제이기 때문에 정확도(acc)를 확인)\n",
        "           )\n",
        "\n",
        "h3 = md3.fit(X_train,y_train_one_hot,\n",
        "           validation_split=0.2,\n",
        "           epochs=50, batch_size = 128,\n",
        "           callbacks=[f_mckp, f_early],    # 모델체크포인트, 얼리스탑핑 설정\n",
        "            verbose = 1)"
      ],
      "execution_count": null,
      "outputs": [
        {
          "output_type": "stream",
          "text": [
            "Model: \"sequential_4\"\n",
            "_________________________________________________________________\n",
            "Layer (type)                 Output Shape              Param #   \n",
            "=================================================================\n",
            "flatten_4 (Flatten)          (None, 784)               0         \n",
            "_________________________________________________________________\n",
            "dense_20 (Dense)             (None, 300)               235500    \n",
            "_________________________________________________________________\n",
            "dense_21 (Dense)             (None, 400)               120400    \n",
            "_________________________________________________________________\n",
            "dense_22 (Dense)             (None, 300)               120300    \n",
            "_________________________________________________________________\n",
            "dense_23 (Dense)             (None, 100)               30100     \n",
            "_________________________________________________________________\n",
            "dense_24 (Dense)             (None, 10)                1010      \n",
            "=================================================================\n",
            "Total params: 507,310\n",
            "Trainable params: 507,310\n",
            "Non-trainable params: 0\n",
            "_________________________________________________________________\n",
            "Epoch 1/50\n",
            "375/375 [==============================] - 2s 4ms/step - loss: 2.2618 - acc: 0.7635 - val_loss: 0.5398 - val_acc: 0.8194\n",
            "\n",
            "Epoch 00001: val_acc improved from -inf to 0.81942, saving model to /content/drive/MyDrive/Colab Notebooks/빅데이터4차_딥러닝/model/FashionModel_001_0.8194.hdf5\n",
            "Epoch 2/50\n",
            "375/375 [==============================] - 1s 3ms/step - loss: 0.4620 - acc: 0.8382 - val_loss: 0.4421 - val_acc: 0.8408\n",
            "\n",
            "Epoch 00002: val_acc improved from 0.81942 to 0.84083, saving model to /content/drive/MyDrive/Colab Notebooks/빅데이터4차_딥러닝/model/FashionModel_002_0.8408.hdf5\n",
            "Epoch 3/50\n",
            "375/375 [==============================] - 1s 3ms/step - loss: 0.3910 - acc: 0.8609 - val_loss: 0.4138 - val_acc: 0.8555\n",
            "\n",
            "Epoch 00003: val_acc improved from 0.84083 to 0.85550, saving model to /content/drive/MyDrive/Colab Notebooks/빅데이터4차_딥러닝/model/FashionModel_003_0.8555.hdf5\n",
            "Epoch 4/50\n",
            "375/375 [==============================] - 1s 3ms/step - loss: 0.3629 - acc: 0.8682 - val_loss: 0.4018 - val_acc: 0.8609\n",
            "\n",
            "Epoch 00004: val_acc improved from 0.85550 to 0.86092, saving model to /content/drive/MyDrive/Colab Notebooks/빅데이터4차_딥러닝/model/FashionModel_004_0.8609.hdf5\n",
            "Epoch 5/50\n",
            "375/375 [==============================] - 1s 3ms/step - loss: 0.3400 - acc: 0.8766 - val_loss: 0.4243 - val_acc: 0.8539\n",
            "\n",
            "Epoch 00005: val_acc did not improve from 0.86092\n",
            "Epoch 6/50\n",
            "375/375 [==============================] - 1s 3ms/step - loss: 0.3201 - acc: 0.8821 - val_loss: 0.3996 - val_acc: 0.8580\n",
            "\n",
            "Epoch 00006: val_acc did not improve from 0.86092\n",
            "Epoch 7/50\n",
            "375/375 [==============================] - 1s 3ms/step - loss: 0.3134 - acc: 0.8852 - val_loss: 0.3931 - val_acc: 0.8627\n",
            "\n",
            "Epoch 00007: val_acc improved from 0.86092 to 0.86267, saving model to /content/drive/MyDrive/Colab Notebooks/빅데이터4차_딥러닝/model/FashionModel_007_0.8627.hdf5\n",
            "Epoch 8/50\n",
            "375/375 [==============================] - 1s 3ms/step - loss: 0.3046 - acc: 0.8879 - val_loss: 0.3842 - val_acc: 0.8640\n",
            "\n",
            "Epoch 00008: val_acc improved from 0.86267 to 0.86400, saving model to /content/drive/MyDrive/Colab Notebooks/빅데이터4차_딥러닝/model/FashionModel_008_0.8640.hdf5\n",
            "Epoch 9/50\n",
            "375/375 [==============================] - 1s 3ms/step - loss: 0.2986 - acc: 0.8892 - val_loss: 0.3933 - val_acc: 0.8630\n",
            "\n",
            "Epoch 00009: val_acc did not improve from 0.86400\n",
            "Epoch 10/50\n",
            "375/375 [==============================] - 1s 4ms/step - loss: 0.2922 - acc: 0.8930 - val_loss: 0.4085 - val_acc: 0.8680\n",
            "\n",
            "Epoch 00010: val_acc improved from 0.86400 to 0.86800, saving model to /content/drive/MyDrive/Colab Notebooks/빅데이터4차_딥러닝/model/FashionModel_010_0.8680.hdf5\n",
            "Epoch 11/50\n",
            "375/375 [==============================] - 1s 4ms/step - loss: 0.2868 - acc: 0.8936 - val_loss: 0.4109 - val_acc: 0.8617\n",
            "\n",
            "Epoch 00011: val_acc did not improve from 0.86800\n",
            "Epoch 12/50\n",
            "375/375 [==============================] - 1s 4ms/step - loss: 0.2876 - acc: 0.8937 - val_loss: 0.3563 - val_acc: 0.8758\n",
            "\n",
            "Epoch 00012: val_acc improved from 0.86800 to 0.87583, saving model to /content/drive/MyDrive/Colab Notebooks/빅데이터4차_딥러닝/model/FashionModel_012_0.8758.hdf5\n",
            "Epoch 13/50\n",
            "375/375 [==============================] - 1s 4ms/step - loss: 0.2707 - acc: 0.8985 - val_loss: 0.3645 - val_acc: 0.8717\n",
            "\n",
            "Epoch 00013: val_acc did not improve from 0.87583\n",
            "Epoch 14/50\n",
            "375/375 [==============================] - 1s 3ms/step - loss: 0.2709 - acc: 0.8990 - val_loss: 0.4079 - val_acc: 0.8615\n",
            "\n",
            "Epoch 00014: val_acc did not improve from 0.87583\n",
            "Epoch 15/50\n",
            "375/375 [==============================] - 1s 3ms/step - loss: 0.2605 - acc: 0.9021 - val_loss: 0.3505 - val_acc: 0.8804\n",
            "\n",
            "Epoch 00015: val_acc improved from 0.87583 to 0.88042, saving model to /content/drive/MyDrive/Colab Notebooks/빅데이터4차_딥러닝/model/FashionModel_015_0.8804.hdf5\n",
            "Epoch 16/50\n",
            "375/375 [==============================] - 1s 3ms/step - loss: 0.2626 - acc: 0.9024 - val_loss: 0.3690 - val_acc: 0.8798\n",
            "\n",
            "Epoch 00016: val_acc did not improve from 0.88042\n",
            "Epoch 17/50\n",
            "375/375 [==============================] - 1s 3ms/step - loss: 0.2593 - acc: 0.9032 - val_loss: 0.3695 - val_acc: 0.8746\n",
            "\n",
            "Epoch 00017: val_acc did not improve from 0.88042\n",
            "Epoch 18/50\n",
            "375/375 [==============================] - 1s 3ms/step - loss: 0.2505 - acc: 0.9056 - val_loss: 0.3488 - val_acc: 0.8861\n",
            "\n",
            "Epoch 00018: val_acc improved from 0.88042 to 0.88608, saving model to /content/drive/MyDrive/Colab Notebooks/빅데이터4차_딥러닝/model/FashionModel_018_0.8861.hdf5\n",
            "Epoch 19/50\n",
            "375/375 [==============================] - 1s 3ms/step - loss: 0.2509 - acc: 0.9068 - val_loss: 0.3829 - val_acc: 0.8720\n",
            "\n",
            "Epoch 00019: val_acc did not improve from 0.88608\n",
            "Epoch 20/50\n",
            "375/375 [==============================] - 1s 3ms/step - loss: 0.2476 - acc: 0.9076 - val_loss: 0.3679 - val_acc: 0.8812\n",
            "\n",
            "Epoch 00020: val_acc did not improve from 0.88608\n",
            "Epoch 21/50\n",
            "375/375 [==============================] - 1s 3ms/step - loss: 0.2340 - acc: 0.9134 - val_loss: 0.3679 - val_acc: 0.8808\n",
            "\n",
            "Epoch 00021: val_acc did not improve from 0.88608\n",
            "Epoch 22/50\n",
            "375/375 [==============================] - 1s 3ms/step - loss: 0.2384 - acc: 0.9112 - val_loss: 0.3975 - val_acc: 0.8679\n",
            "\n",
            "Epoch 00022: val_acc did not improve from 0.88608\n",
            "Epoch 23/50\n",
            "375/375 [==============================] - 1s 3ms/step - loss: 0.2417 - acc: 0.9086 - val_loss: 0.3647 - val_acc: 0.8832\n",
            "\n",
            "Epoch 00023: val_acc did not improve from 0.88608\n"
          ],
          "name": "stdout"
        }
      ]
    },
    {
      "cell_type": "markdown",
      "metadata": {
        "id": "ZGGWP178E_Q8"
      },
      "source": [
        "- 저장된 모델 로딩하기"
      ]
    },
    {
      "cell_type": "code",
      "metadata": {
        "id": "cWI4dKpTC6MK"
      },
      "source": [
        "from tensorflow.keras.models import load_model"
      ],
      "execution_count": null,
      "outputs": []
    },
    {
      "cell_type": "code",
      "metadata": {
        "id": "K4_tviXBFGve"
      },
      "source": [
        "best_md = load_model('/content/drive/MyDrive/Colab Notebooks/빅데이터4차_딥러닝/model/FashionModel_018_0.8861.hdf5')"
      ],
      "execution_count": null,
      "outputs": []
    },
    {
      "cell_type": "code",
      "metadata": {
        "colab": {
          "base_uri": "https://localhost:8080/"
        },
        "id": "tDhw-ZGiFWgm",
        "outputId": "67fa9847-2a50-4859-8d94-d199e2cbb4d6"
      },
      "source": [
        "best_md.evaluate(X_test, y_test_one_hot)"
      ],
      "execution_count": null,
      "outputs": [
        {
          "output_type": "stream",
          "text": [
            "313/313 [==============================] - 1s 2ms/step - loss: 0.3837 - acc: 0.8803\n"
          ],
          "name": "stdout"
        },
        {
          "output_type": "execute_result",
          "data": {
            "text/plain": [
              "[0.3837050795555115, 0.880299985408783]"
            ]
          },
          "metadata": {
            "tags": []
          },
          "execution_count": 41
        }
      ]
    },
    {
      "cell_type": "code",
      "metadata": {
        "id": "JH2YpDA9FbV9"
      },
      "source": [
        "d"
      ],
      "execution_count": null,
      "outputs": []
    }
  ]
}