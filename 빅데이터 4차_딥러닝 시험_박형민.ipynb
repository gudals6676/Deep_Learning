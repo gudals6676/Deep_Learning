{
 "cells": [
  {
   "cell_type": "markdown",
   "metadata": {},
   "source": [
    "# 1-1\n",
    "- 선형회귀는 딥 러닝 이론의 기초 y(pre) = wx + b\n",
    "- 학습 데이터를 전부 반영\n",
    "- 데이터의 분포를 가장 잘 표현할 수 있는 직선을 그려서 값을 예측하는 방법이다\n",
    "-로지스틱 회귀 - 이름은 회귀이지만 숫자0과 1로 구분하는 분류 모델"
   ]
  },
  {
   "cell_type": "markdown",
   "metadata": {},
   "source": [
    "# 1-2\n",
    "- 평균제곱오차란 mse : 오차의 제곱을 평균화하는 방법으로 가장 많이 사용된다!"
   ]
  },
  {
   "cell_type": "markdown",
   "metadata": {},
   "source": [
    "# 1-3\n",
    "-경사하강법이란 SGD : 평균 제곱 오차(mse)가 최소가 되게 하는 최적의 w, b값을 찾는당"
   ]
  },
  {
   "cell_type": "markdown",
   "metadata": {},
   "source": [
    "# 1-4\n",
    "- 시그모이드 함수란 : 모든 실수 입력 값을 0보다 크고 1보다 작은 미분 가능한 수로 변환한당"
   ]
  },
  {
   "cell_type": "markdown",
   "metadata": {},
   "source": [
    "# 2-1\n",
    "- 신경망의 원리 \n",
    "- 퍼셉트론 :  로지스틱 회귀와 많이 닮았으며, 입력 값과 활성화 함수를 사용해 출력 값을 다음으로 넘기는 가장 작은 신경망 단위이당!\n",
    "- y = wx + b (w는 가중치(즉 높이!!) , b는 바이어스를 나타냄(선입견)\n",
    "- 입력 값(x), 가중치(w)의 곱을 모두 더한 다음 거기에 바이어스(b)를 더한 값을 가중합이라고 함 "
   ]
  },
  {
   "cell_type": "markdown",
   "metadata": {},
   "source": [
    "# 2-2\n",
    "- XOR 문제는 논리 회로에 등장하는 개념, xor의 경우 선을 그어 구분할 수 없고 , 둘 중 하나만 1일때 1이 출력되는 문제가 있다.\n",
    "- 그래서 고걸 해결하기 위해 다층 퍼셉트론(숨어있는 은닉층을 만들어줌)이 등장했당!!  이 다층 퍼셉트론은 입력층 + 중간층을 한번에 적용한다!"
   ]
  },
  {
   "cell_type": "markdown",
   "metadata": {},
   "source": [
    "# 2-3\n",
    "- 오차 역전파: 다층 퍼셉트론에서의 최적화 과정!!!\n",
    "- 순전파(예측) : 입력 데이터를 입력층에서부터 출력층까지 정방향으로 이동시켜 출력값을 추론해 나가는 과정\n",
    " 역전파(학습) : 출력층에서 발생한 에러를 입력층 쪽으로 전파시키면서 최적의 결과를 학습해 나가는 과정이라는 종류가 있음!\n"
   ]
  },
  {
   "cell_type": "markdown",
   "metadata": {},
   "source": [
    "# 2-4\n",
    "-기울기 소실 문제 : 층이 늘어나면서 역전파를 통해 전달되는 이 기울기의 값이 점점 작아져 맨 처음 층까지 전달되지 않음"
   ]
  },
  {
   "cell_type": "markdown",
   "metadata": {},
   "source": [
    "# 2-5\n",
    "- 학습이 진행될수록 (파리미터 업뎃)학습셋의 정확도는 올라가지만 테스트셋의 실험 결과는 점점 나빠지는 과적합이 잦다(어떻게 설정해주느냐에 따라 해결 가능할듯?)!\n",
    "-해결방안 : 학습조기중단(early stopping), dropout (일정한 비율만큼 랜덤으로 중간층의 뉴런을 비활성화 시켜 과도한 학습 방지), 데이터 확장 -증식 방법이 있당"
   ]
  },
  {
   "cell_type": "markdown",
   "metadata": {},
   "source": [
    "# 2-6\n",
    "-활성화 함수란\n",
    "\n",
    "-가중합의 결과를 놓고 1 또는 0을 출력해서 다음으로 보낼때 여기서 0과 1 을 판단하는 함수를 활성화 함수라고 한다!"
   ]
  },
  {
   "cell_type": "markdown",
   "metadata": {},
   "source": [
    "# 3-1"
   ]
  },
  {
   "cell_type": "code",
   "execution_count": null,
   "metadata": {},
   "outputs": [],
   "source": [
    "md = Sequential()\n",
    "\n",
    "md.add(SimpleRNN(8, input_shape=(4,10)))  # 10 = 특성수\n",
    "\n",
    "md.add(Dense(1, activation=\"relu\"))\n",
    "md.add(Dense(9, activation=\"relu\"))\n",
    "md.add(Dense(1, activation=\"relu\"))\n",
    "\n",
    "\n",
    "md.add(Dense(3, activation='softmax'))\n",
    "\n",
    "md.summary()\n"
   ]
  },
  {
   "cell_type": "markdown",
   "metadata": {},
   "source": [
    "# 3-2"
   ]
  },
  {
   "cell_type": "code",
   "execution_count": null,
   "metadata": {},
   "outputs": [],
   "source": [
    "md.compile(loss=\"categorical_crossentropy\",\n",
    "           optimizer = \"Adam\",        \n",
    "           metrics=[\"acc\"]            \n",
    "           )\n",
    "\n",
    "h = md.fit(X_train,y_train_one_hot,\n",
    "           validation_split=0.25,\n",
    "           epochs=100, batch_size = 20, verbose = 1)"
   ]
  },
  {
   "cell_type": "markdown",
   "metadata": {},
   "source": [
    "# 3-3"
   ]
  },
  {
   "cell_type": "code",
   "execution_count": null,
   "metadata": {},
   "outputs": [],
   "source": [
    "md.evaluate(X_test, y_test_one_hot)\n",
    "\n",
    "# 보너스 시각화\n",
    "# 시각화\n",
    "plt.figure(figsize=(15, 5))\n",
    "\n",
    "plt.plot(range(1, 101, 1),\n",
    "         h.history['acc'],\n",
    "         label='acc'\n",
    "         )\n",
    "\n",
    "plt.plot(range(1, 101, 1),\n",
    "         h.history['val_acc'],\n",
    "         label='val_acc'\n",
    "         )\n",
    "\n",
    "plt.legend()\n",
    "plt.show()\n",
    "# 후훗!!!!!!!!!!!!!!!!!!!!!!!!!!! 고생하셨습니다 썜!"
   ]
  },
  {
   "cell_type": "code",
   "execution_count": null,
   "metadata": {},
   "outputs": [],
   "source": []
  },
  {
   "cell_type": "code",
   "execution_count": null,
   "metadata": {},
   "outputs": [],
   "source": []
  },
  {
   "cell_type": "code",
   "execution_count": null,
   "metadata": {},
   "outputs": [],
   "source": []
  }
 ],
 "metadata": {
  "kernelspec": {
   "display_name": "Python 3",
   "language": "python",
   "name": "python3"
  },
  "language_info": {
   "codemirror_mode": {
    "name": "ipython",
    "version": 3
   },
   "file_extension": ".py",
   "mimetype": "text/x-python",
   "name": "python",
   "nbconvert_exporter": "python",
   "pygments_lexer": "ipython3",
   "version": "3.8.5"
  },
  "toc": {
   "base_numbering": 1,
   "nav_menu": {},
   "number_sections": true,
   "sideBar": true,
   "skip_h1_title": false,
   "title_cell": "Table of Contents",
   "title_sidebar": "Contents",
   "toc_cell": false,
   "toc_position": {},
   "toc_section_display": true,
   "toc_window_display": false
  }
 },
 "nbformat": 4,
 "nbformat_minor": 4
}
